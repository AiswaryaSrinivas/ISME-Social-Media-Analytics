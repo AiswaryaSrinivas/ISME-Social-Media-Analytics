{
 "cells": [
  {
   "cell_type": "markdown",
   "metadata": {},
   "source": [
    "# Introduction\n",
    "\n",
    "Zomato is a popular business in the restaurants space. It allows customer to search for restaurants based on their preferences. It also provides with food deliver services. The USP of Zomato is its reviews on restaurants.\n",
    "\n",
    "Analysing this data, can help restaurants understand, what customer like and dislike about their restaurant and improve it. It also allows you to compare customer reviews and ratings of your competitior across location, cuisine and type of service provided. \n",
    "\n",
    "These information can be vital in understanding customer requirements when starting a new restaurant or trying to improve your own restaurant business.\n",
    "\n",
    "In this notebook, we are using the Zomato Restaurants in Bangalore data from kaggle. The link to download the notebook is as below:\n",
    "\n",
    "https://www.kaggle.com/himanshupoddar/zomato-bangalore-restaurants\n",
    "\n",
    "Though, there can be many other analysis done on this data,we will be using the reviews data to understand how NLP techniques can help make sense of the huge trove of data captured through Reviews.\n",
    "\n"
   ]
  },
  {
   "cell_type": "markdown",
   "metadata": {},
   "source": [
    "### Imports\n",
    "Importing Basic Libraries"
   ]
  },
  {
   "cell_type": "code",
   "execution_count": 98,
   "metadata": {
    "ExecuteTime": {
     "end_time": "2019-11-14T08:29:38.041913Z",
     "start_time": "2019-11-14T08:29:36.035620Z"
    }
   },
   "outputs": [],
   "source": [
    "# Data manipulation\n",
    "import pandas as pd\n",
    "import numpy as np\n",
    "\n",
    "# Options for pandas\n",
    "#pd.options.display.max_columns = None\n",
    "#pd.options.display.max_rows = None\n",
    "\n",
    "#pd.options.display.max_colwidth=-1\n",
    "\n",
    "# Display all cell outputs\n",
    "from IPython.core.interactiveshell import InteractiveShell\n",
    "InteractiveShell.ast_node_interactivity = 'all'\n",
    "\n",
    "from IPython import get_ipython\n",
    "ipython = get_ipython()\n",
    "\n",
    "# autoreload extension\n",
    "if 'autoreload' not in ipython.extension_manager.loaded:\n",
    "    %load_ext autoreload\n",
    "\n",
    "%autoreload 2\n",
    "\n",
    "# Visualizations\n",
    "#import plotly.express as px\n",
    "import matplotlib.pyplot as plt\n",
    "import seaborn as sns\n",
    "\n",
    "\n",
    "import re\n",
    "\n",
    "\n",
    "\n"
   ]
  },
  {
   "cell_type": "markdown",
   "metadata": {},
   "source": [
    "# Analysis/Modeling\n",
    "\n",
    "## Load the Data"
   ]
  },
  {
   "cell_type": "code",
   "execution_count": 48,
   "metadata": {
    "ExecuteTime": {
     "end_time": "2019-11-10T06:25:32.853987Z",
     "start_time": "2019-11-10T06:25:28.185014Z"
    },
    "scrolled": false
   },
   "outputs": [
    {
     "data": {
      "text/html": [
       "<div>\n",
       "<style scoped>\n",
       "    .dataframe tbody tr th:only-of-type {\n",
       "        vertical-align: middle;\n",
       "    }\n",
       "\n",
       "    .dataframe tbody tr th {\n",
       "        vertical-align: top;\n",
       "    }\n",
       "\n",
       "    .dataframe thead th {\n",
       "        text-align: right;\n",
       "    }\n",
       "</style>\n",
       "<table border=\"1\" class=\"dataframe\">\n",
       "  <thead>\n",
       "    <tr style=\"text-align: right;\">\n",
       "      <th></th>\n",
       "      <th>url</th>\n",
       "      <th>address</th>\n",
       "      <th>name</th>\n",
       "      <th>online_order</th>\n",
       "      <th>book_table</th>\n",
       "      <th>rate</th>\n",
       "      <th>votes</th>\n",
       "      <th>phone</th>\n",
       "      <th>location</th>\n",
       "      <th>rest_type</th>\n",
       "      <th>dish_liked</th>\n",
       "      <th>cuisines</th>\n",
       "      <th>approx_cost(for two people)</th>\n",
       "      <th>reviews_list</th>\n",
       "      <th>menu_item</th>\n",
       "      <th>listed_in(type)</th>\n",
       "      <th>listed_in(city)</th>\n",
       "    </tr>\n",
       "  </thead>\n",
       "  <tbody>\n",
       "    <tr>\n",
       "      <th>0</th>\n",
       "      <td>https://www.zomato.com/bangalore/jalsa-banashankari?context=eyJzZSI6eyJlIjpbNTg2OTQsIjE4Mzc1NDc0IiwiNTkwOTAiLCIxODM4Mjk0NCIsIjE4MjI0Njc2IiwiNTkyODkiLCIxODM3MzM4NiJdLCJ0IjoiUmVzdGF1cmFudHMgaW4gQmFuYXNoYW5rYXJpIHNlcnZpbmcgQnVmZmV0In19</td>\n",
       "      <td>942, 21st Main Road, 2nd Stage, Banashankari, Bangalore</td>\n",
       "      <td>Jalsa</td>\n",
       "      <td>Yes</td>\n",
       "      <td>Yes</td>\n",
       "      <td>4.1/5</td>\n",
       "      <td>775</td>\n",
       "      <td>080 42297555\\r\\n+91 9743772233</td>\n",
       "      <td>Banashankari</td>\n",
       "      <td>Casual Dining</td>\n",
       "      <td>Pasta, Lunch Buffet, Masala Papad, Paneer Lajawab, Tomato Shorba, Dum Biryani, Sweet Corn Soup</td>\n",
       "      <td>North Indian, Mughlai, Chinese</td>\n",
       "      <td>800</td>\n",
       "      <td>[('Rated 4.0', 'RATED\\n  A beautiful place to dine in.The interiors take you back to the Mughal era. The lightings are just perfect.We went there on the occasion of Christmas and so they had only limited items available. But the taste and service was not compromised at all.The only complaint is that the breads could have been better.Would surely like to come here again.'), ('Rated 4.0', 'RATED\\n  I was here for dinner with my family on a weekday. The restaurant was completely empty. Ambience is good with some good old hindi music. Seating arrangement are good too. We ordered masala papad, panner and baby corn starters, lemon and corrionder soup, butter roti, olive and chilli paratha. Food was fresh and good, service is good too. Good for family hangout.\\nCheers'), ('Rated 2.0', 'RATED\\n  Its a restaurant near to Banashankari BDA. Me along with few of my office friends visited to have buffet but unfortunately they only provide veg buffet. On inquiring they said this place is mostly visited by vegetarians. Anyways we ordered ala carte items which took ages to come. Food was ok ok. Definitely not visiting anymore.'), ('Rated 4.0', 'RATED\\n  We went here on a weekend and one of us had the buffet while two of us took Ala Carte. Firstly the ambience and service of this place is great! The buffet had a lot of items and the good was good. We had a Pumpkin Halwa intm the dessert which was amazing. Must try! The kulchas are great here. Cheers!'), ('Rated 5.0', 'RATED\\n  The best thing about the place is itÃ\\x83Ã\\x83Ã\\x82Ã\\x82Ã\\x83Ã\\x82Ã\\x82Ã\\x92s ambiance. Second best thing was yummy ? food. We try buffet and buffet food was not disappointed us.\\nTest ?. ?? ?? ?? ?? ??\\nQuality ?. ??????????.\\nService: Staff was very professional and friendly.\\n\\nOverall experience was excellent.\\n\\nsubirmajumder85.wixsite.com'), ('Rated 5.0', 'RATED\\n  Great food and pleasant ambience. Expensive but Coll place to chill and relax......\\n\\nService is really very very good and friendly staff...\\n\\nFood : 5/5\\nService : 5/5\\nAmbience :5/5\\nOverall :5/5'), ('Rated 4.0', 'RATED\\n  Good ambience with tasty food.\\nCheese chilli paratha with Bhutta palak methi curry is a good combo.\\nLemon Chicken in the starters is a must try item.\\nEgg fried rice was also quite tasty.\\nIn the mocktails, recommend \"Alice in Junoon\". Do not miss it.'), ('Rated 4.0', 'RATED\\n  You canÃ\\x83Ã\\x83Ã\\x82Ã\\x82Ã\\x83Ã\\x82Ã\\x82Ã\\x92t go wrong with Jalsa. Never been a fan of their buffet and thus always order alacarteÃ\\x83Ã\\x83Ã\\x82Ã\\x82Ã\\x83Ã\\x82Ã\\x82Ã\\x92. Service at times can be on the slower side but food is worth the wait.'), ('Rated 5.0', 'RATED\\n  Overdelighted by the service and food provided at this place. A royal and ethnic atmosphere builds a strong essence of being in India and also the quality and taste of food is truly authentic. I would totally recommend to visit this place once.'), ('Rated 4.0', 'RATED\\n  The place is nice and comfortable. Food wise all jalea outlets maintain a good standard. The soya chaap was a standout dish. Clearly one of trademark dish as per me and a must try.\\n\\nThe only concern is the parking. It very congested and limited to just 5cars. The basement parking is very steep and makes it cumbersome'), ('Rated 4.0', 'RATED\\n  The place is nice and comfortable. Food wise all jalea outlets maintain a good standard. The soya chaap was a standout dish. Clearly one of trademark dish as per me and a must try.\\n\\nThe only concern is the parking. It very congested and limited to just 5cars. The basement parking is very steep and makes it cumbersome'), ('Rated 4.0', 'RATED\\n  The place is nice and comfortable. Food wise all jalea outlets maintain a good standard. The soya chaap was a standout dish. Clearly one of trademark dish as per me and a must try.\\n\\nThe only concern is the parking. It very congested and limited to just 5cars. The basement parking is very steep and makes it cumbersome')]</td>\n",
       "      <td>[]</td>\n",
       "      <td>Buffet</td>\n",
       "      <td>Banashankari</td>\n",
       "    </tr>\n",
       "    <tr>\n",
       "      <th>1</th>\n",
       "      <td>https://www.zomato.com/bangalore/spice-elephant-banashankari?context=eyJzZSI6eyJlIjpbIjU4Njk0IiwxODM3NTQ3NCwiNTkwOTAiLCIxODM4Mjk0NCIsIjE4MjI0Njc2IiwiNTkyODkiLCIxODM3MzM4NiJdLCJ0IjoiUmVzdGF1cmFudHMgaW4gQmFuYXNoYW5rYXJpIHNlcnZpbmcgQnVmZmV0In19</td>\n",
       "      <td>2nd Floor, 80 Feet Road, Near Big Bazaar, 6th Block, Kathriguppe, 3rd Stage, Banashankari, Bangalore</td>\n",
       "      <td>Spice Elephant</td>\n",
       "      <td>Yes</td>\n",
       "      <td>No</td>\n",
       "      <td>4.1/5</td>\n",
       "      <td>787</td>\n",
       "      <td>080 41714161</td>\n",
       "      <td>Banashankari</td>\n",
       "      <td>Casual Dining</td>\n",
       "      <td>Momos, Lunch Buffet, Chocolate Nirvana, Thai Green Curry, Paneer Tikka, Dum Biryani, Chicken Biryani</td>\n",
       "      <td>Chinese, North Indian, Thai</td>\n",
       "      <td>800</td>\n",
       "      <td>[('Rated 4.0', 'RATED\\n  Had been here for dinner with family. Turned out to be a good choose suitable for all ages of people. Can try this place. We liked the most was their starters. Service is good. Prices are affordable. Will recommend this restaurant for early dinner. The place is little noisy.'), ('Rated 3.0', 'RATED\\n  The ambience is really nice, staff is courteous. The price is pretty high for the quantity, but overall the experience was fine. The quality of food is nice but nothing extraordinary. They also have buffet(only veg)'), ('Rated 3.0', 'RATED\\n  I felt good is little expensive for the quantity they serve and In terms of taste is decent. There is nothing much to talk about the ambience, regular casual dining restaurant where you can take your family for dinner or lunch. If they improve on that quantity or may be reduce the price a bit or may be improve the presentation of the food it might Manage to get more repeat customers.'), ('Rated 4.0', 'RATED\\n  I was looking for a quite place to spend some time with family and as well wanted to try some new place. Since I was at Banashankari I thought of trying this place. The place had good rating and was part of Zomato gold. So I decided to try this place. It was a delite to see a very friendly staff and food we ordered was very tasty as well.\\n\\nFood : 4/5\\nAmbience :3/5\\nFriendly staff : 4/5\\nPocket friendly : 4/5\\n\\nWill definitely visit again ??'), ('Rated 4.0', \"RATED\\n  Nice place to dine and has a good ambiance... Food is good and the serving time is also good..neat restrooms and we'll arranged tables....only thing is we went at 12.30 for lunch...and we noticed that they kept on playing one music back to back which was a little annoying...\\n\\n1. Chicken biriyani was so good and the chicken was fresh and tender ,rice was well cooked and overall was great\\n\\n2. Mutton biriyani was very very good and tasty and It had plenty of mutton pieces...\"), ('Rated 5.0', 'RATED\\n  This place just cool ? with good ambience and slow music and having delicious food is where you find peace. Staff very friendly and they have maintained the place so clean. The price is average for what the quantity of food they serve.\\nThom yum Thai soup was best and was treat to mouth, roti was soft with that vilaythi paneer was perfect to have for veggie foodies, in rice we tried burnt garlic fried rice with vegetables and it was the perfect thing to end.'), ('Rated 4.0', \"RATED\\n  Quiet a good family type of place.. too calm and usually we don't find crowd here.. panner curry and the deserts is what we had tasted.. they wer really good but we found it a little expensive\"), ('Rated 2.0', \"RATED\\n  I had a very bad experience here.\\nI don't know about a la carte, but the buffet was the worst. They gave us complementary drink and momos before the buffet. The momos were really good.\\nThe number of varieties first of all was very disappointing. The service was very slow. They refilled the food very slowly. The starters were okay. The main course also was so so. There was two gravies with roti and some rice with raitha. They had chats, sev puri and pan puri, which was average. But the desert was disappointing. They had gulab Jamun and chocolate cake. The jamun was not cooked inside. There was a cold blob of raw dough inside. The chocolate cake also was really hard and not that good.\\nOverall the buffet was a bad experience for me.\"), ('Rated 4.0', \"RATED\\n  Food: 8/10\\nAmbience:8/10\\nStaff:8/10\\nOne of the good places to try north Indian food...but depends on ur taste buds. Not everyone will like all the items here. Specially when u r particular abt sweet and spicy food.\\nThere's buffet available too.\\nWe had ordered paneer uttar dakshin and paneer kurchan..was amazing. The Gobi hara pyaz and mix veg were average.\"), ('Rated 3.0', 'RATED\\n  A decent place for a family lunch or dinner.. well arranged in a simple manner. Food was tasty and the crew was very helpful and understanding..'), ('Rated 4.0', \"RATED\\n  Great place to have a heavy lunch. Good service.\\nThe chicken biryani was undoubtedly one of the best I've had. Biriyani and Lassi would be the suggested combo. Buffet is the talk of the place, so try according to your appetite. A nice place.\"), ('Rated 4.0', 'RATED\\n  Its the one restaurant near katriguppe that i found was really good. Good variety of Chinese and thai dishes. Service is good and good place to hangout with family as its a peaceful place where noise is really less and good view.'), ('Rated 2.0', \"RATED\\n  Spice elephant soup SPL: almost manchow flavour soup.. Just above medium spicy\\n\\nLasooni fish tikka was awesome\\n\\nI don't remember the dessert name but I have attached the photo .. It had vanilla ice inside wafers... Wafer was hell hard, egg smell chewy ... Nightmare dessert !\\n\\nTable leg space was very bad... I was so uncomfortable, the whole time kept on adjusting my legs\\n\\nNo parking\\n\\nFor the taste felt this is too costly\"), ('Rated 4.0', 'RATED\\n  Zomato gold partner at this price. It was insane. They have really nice food. small place with very courteous staff and very cheap food for this ambience. Cost of soups is 80-100. Starters from 150-250. Main course 200-300. Cost for two was 800 for us.')]</td>\n",
       "      <td>[]</td>\n",
       "      <td>Buffet</td>\n",
       "      <td>Banashankari</td>\n",
       "    </tr>\n",
       "    <tr>\n",
       "      <th>2</th>\n",
       "      <td>https://www.zomato.com/SanchurroBangalore?context=eyJzZSI6eyJlIjpbIjU4Njk0IiwiMTgzNzU0NzQiLDU5MDkwLCIxODM4Mjk0NCIsIjE4MjI0Njc2IiwiNTkyODkiLCIxODM3MzM4NiJdLCJ0IjoiUmVzdGF1cmFudHMgaW4gQmFuYXNoYW5rYXJpIHNlcnZpbmcgQnVmZmV0In19</td>\n",
       "      <td>1112, Next to KIMS Medical College, 17th Cross, 2nd Stage, Banashankari, Bangalore</td>\n",
       "      <td>San Churro Cafe</td>\n",
       "      <td>Yes</td>\n",
       "      <td>No</td>\n",
       "      <td>3.8/5</td>\n",
       "      <td>918</td>\n",
       "      <td>+91 9663487993</td>\n",
       "      <td>Banashankari</td>\n",
       "      <td>Cafe, Casual Dining</td>\n",
       "      <td>Churros, Cannelloni, Minestrone Soup, Hot Chocolate, Pink Sauce Pasta, Salsa, Veg Supreme Pizza</td>\n",
       "      <td>Cafe, Mexican, Italian</td>\n",
       "      <td>800</td>\n",
       "      <td>[('Rated 3.0', \"RATED\\n  Ambience is not that good enough and it's not a pocket friendly cafe and the quantity is not that good and desserts are too good enough ??..\"), ('Rated 3.0', \"RATED\\n \\nWent there for a quick bite with friends.\\nThe ambience had more of corporate feel. I would say it was unique.\\nTried nachos, pasta churros and lasagne.\\n\\nNachos were pathetic.( Seriously don't order)\\nPasta was okayish.\\nLasagne was good.\\nNutella churros were the best.\\nOverall an okayish experience!\\nPeace ??\"), ('Rated 4.0', \"RATED\\n  First of all, a big thanks to the staff of this Cafe. Very polite and courteous.\\n\\nI was there 15mins before their closing time. Without any discomfort or hesitation, the staff welcomed me with a warm smile and said they're still open, though they were preparing to close the cafe for the day.\\n\\nQuickly ordered the Thai green curry, which is served with rice. They got it for me within 10mins, hot and freshly made.\\n\\nIt was tasty with the taste of coconut milk. Not very spicy, it was mild spicy.\\n\\nI saw they had yummy looking dessert menu, should go there to try them out!\\n\\nA good spacious place to hang out for coffee, pastas, pizza or Thai food.\"), ('Rated 3.0', \"RATED\\n  A place for people who love churos. Otherwise it's a normal simple cafe like any other in town . Can go and spend the evening there . The positive being it is one of the better cafes in and around Banashankari and also the place is not very crowded .\"), ('Rated 3.0', 'RATED\\n  Have been visiting this place since years. The quality has gone down drastically. Food quality has become very average from good. Service is also very bad of late.'), ('Rated 1.0', 'RATED\\n  Really disappointed with the place.\\n\\nSeems like a old dusty store room stacked up with old sofas and chairs! The decor is soo disappointing that I cannot put it in words!\\nLastly the food was cherry on the cake to make it a complete worse meal.\\n\\nThis place is the last option you should ever consider.'), ('Rated 3.0', 'RATED\\n  Congested atmosphere due to smoke from kitchen\\nAmbience was k\\nService was k .\\nChuros was a new experience recommended\\nNear to kims . Parking was not der'), ('Rated 1.0', \"RATED\\n  Cockroaches !! I Repeat cockroaches!!Bakasura was disappointed.\\nBeing in Banashankari, being a gold outlet and nesting them? who can even think of that. Thankfully it wasn't over bakasura's plate. The ambience was last cleaned a decade back i guess. A cockroach just walked over our table. As it was alive, and well moving , the bakasura couldnt take a pic of it. Then the staff had to actually take it out of our table. Such ambience ? like what are you upto?\\n\\nBakasura disapproves. I dont even want to talk about the food.\"), ('Rated 4.0', 'RATED\\n  A nice place to hangout, this place looks professional and also cute. If anyone is trying churros for the first the time, this is the place to go. Cheesecake is pretty amazing too.\\nRecommended.'), ('Rated 4.0', 'RATED\\n  1) pizza mocktails shakes and churros really very good\\n2) staff good\\n3) ambience simple and nice good\\n4) location of San churro cafe very nice\\n5) over San churro cafe good....'), ('Rated 3.0', \"RATED\\n  One of my favourite places that I often visit in South bangalore , but quality has been reduced than before. Little unhappy with the food this time.\\nBut their churros never dissapointed me. Staff are too slow and do not respond easily.\\n\\nSoups:\\nMinestrone soup was like vegetable stock water with vegetables in it, not happy with it.\\n\\nChurros :\\nIt was great as usual. A must visit place if u love churros.\\n\\nStarters:\\n1. Africano panner -\\nIt was bit sweet and not happy with the dish!!\\n2. Loaded nachos -\\nThis happened to be their one of the best dishes, but now I take back my words. Very dissapointed with the dish.\\n\\nMain course:\\nsicilia pizza\\nPizza was too good, it's a must try dish.\\n\\nFinally I would recommend this place for churros and pizza .\\n\\nTaste : 6/10\\nAmbience :7/10\\nValue for money : 8/10\\n\\nOverall experience : 7.5/10\"), ('Rated 4.0', 'RATED\\n  Visited this place long before, place come to.notice with the decoration lights outside the cafe. We ordered churos, pizza and hot chocolate, all were good just I little priced more.'), ('Rated 4.0', 'RATED\\n  Spain pictures of Churros triggered Nostalgia about it , which led to Google search for Churro places in city , lucky we to get the result as San Churro cafe , we had an delectable churros here along with hot chocolate and Nachos ! Thanks for fulfilling our thirst of Spanish Churros !\\nFood : ???\\nChurros ???\\nHot Chocolate ?\\nNachos ??\\n\\nService : ??\\n\\nAmbiance : ?\\n\\nCleanliness : ??\\n\\nOne drawback : Store had some flies, I hope they take care of them for our next tour ?'), ('Rated 3.0', 'RATED\\n  Ã\\x83Ã\\x83Ã\\x82Ã\\x82Ã\\x83Ã\\x82Ã\\x82Ã\\x93Chocolaty and churroic experienceÃ\\x83Ã\\x83Ã\\x82Ã\\x82Ã\\x83Ã\\x82Ã\\x82Ã\\x94\\n\\nHit chocolate and churro with chocolate dip in the picture.\\n\\nMy first time at this restaurant and it has delivered in service, options as well as taste.'), ('Rated 4.0', 'RATED\\n  Though very sadly the place looks in need of retouching, but the food was great! Especially when it was super cold outside and we were super hungry, the staff was nice. We ordered the pink pasta and a pizza. Both of them were pretty good. Was really tempted to try their Churros but we were stuffed. Worth a visit and try for sure!'), ('Rated 3.0', \"RATED\\n  Churros, the restaurant's eponymous offering, has to be tried. They're a Mexican snack and served with chocolate sauce. Milkshakes are good too. The interior walls have murals and writings all over. Haven't tried the pizzas here but the cakes and pastries were pretty good.\"), ('Rated 3.0', \"RATED\\n  Honestly, have only tried parcels and that too only starters and mains - never tried desserts. So this review is based on starters and mains only. The quality wasn't all that great, was pretty average.\"), ('Rated 4.0', \"RATED\\n  Visited this place for the first time, recently. The ambience was pretty good. We ordered two 'churros for two'. Having churros for the first time ever, I was way too excited and judgmental. But swear to Lord, the churros were heavenly! The chocolate sauce was the actual chocolate sauce and not nutella xD We had taken the Cross Country Ranch pizza. It was a thin crust pizza loaded with veggies.\\nThe place is famous for churros (the name suggests so). I would love to visit again to try all the other items out :')\"), ('Rated 4.0', 'RATED\\n  I love the desserts more than anything here !Good place and well served !:)\\nWe dint like the nachos here , it was not that good as we expected !\\nExcept nachos almost all dish were quite good!'), ('Rated 2.0', \"RATED\\n  2nd time I have visited this place and I am surprised to see how it has declined. Churros was hard, pizza was pathetic, loaded nachos and masala Garlic bread were topped with cheese with MAYO! Yes mayonnese.. Soup has the bread crumbs in almost melted state, mocktails were average and our only Savior was pasta and caramel pudding... This place has high potential but let down by dull ambience, pretty slow and inattentive staff. Buffet price was listed as 399 but was charged 499, We still went ahead and took the deal to be very disappointed!! Most dishes were freshly cooked hence going with some starts else would rate them lower. I did not find a single person who seemed happy with their meal as moat complained about one thing or the other. That'll be my last visit San Churros.\")]</td>\n",
       "      <td>[]</td>\n",
       "      <td>Buffet</td>\n",
       "      <td>Banashankari</td>\n",
       "    </tr>\n",
       "    <tr>\n",
       "      <th>3</th>\n",
       "      <td>https://www.zomato.com/bangalore/addhuri-udupi-bhojana-banashankari?context=eyJzZSI6eyJlIjpbIjU4Njk0IiwiMTgzNzU0NzQiLCI1OTA5MCIsMTgzODI5NDQsIjE4MjI0Njc2IiwiNTkyODkiLCIxODM3MzM4NiJdLCJ0IjoiUmVzdGF1cmFudHMgaW4gQmFuYXNoYW5rYXJpIHNlcnZpbmcgQnVmZmV0In19</td>\n",
       "      <td>1st Floor, Annakuteera, 3rd Stage, Banashankari, Bangalore</td>\n",
       "      <td>Addhuri Udupi Bhojana</td>\n",
       "      <td>No</td>\n",
       "      <td>No</td>\n",
       "      <td>3.7/5</td>\n",
       "      <td>88</td>\n",
       "      <td>+91 9620009302</td>\n",
       "      <td>Banashankari</td>\n",
       "      <td>Quick Bites</td>\n",
       "      <td>Masala Dosa</td>\n",
       "      <td>South Indian, North Indian</td>\n",
       "      <td>300</td>\n",
       "      <td>[('Rated 4.0', \"RATED\\n  Great food and proper Karnataka style full meals. Been there twice and was fully satisfied.. Will give 5 stars if it's well managed............\"), ('Rated 2.0', 'RATED\\n  Reached the place at 3pm on Saturday. Half of the items on the menu were over. What was annoying was is the food was cold. The taste was also very average. Only dosa and holige were good. There were very few people in the restaurant and the service was still very slow. The waiters were all standing in one corner and talking. Had to call them repeatedly.'), ('Rated 4.0', 'RATED\\n  Had been here, good food served and tasty,good place to go with freinds and family, should be first to get served well with all food. One of the good hotel there for this price.'), ('Rated 2.0', 'RATED\\n  How can a Udupi restaurant be so dirty.the floor the walls the waiters are all stained in food.Why cant they clean it? The floor even had decorative colour paper every where and lot of food.Now coming to the taste of the food- it was pretty decent for what they chargw.What upset us was the menu says they serve thambuli, two variety of rice etc but they were all over at 2.45 but they still charged us full amount.Lastly if u r ok to b seated with random people and adjust with their table manners( burrping etc) then tis place is decent for a quick veg udupi meals'), ('Rated 4.0', 'RATED\\n  Aadhuri Udupi bhojana is one of the best vegetarian hotel in and around Banashankari locality\\nwere we can enjoy the authentic south Karnataka style food.'), ('Rated 5.0', 'RATED\\n  One of the best restaurants for unlimited food. Price for one full unlimited meal is ?150 and the service is awesome here. If youÃ\\x83Ã\\x83Ã\\x82Ã\\x82Ã\\x83Ã\\x82Ã\\x82Ã\\x92re a costalian you will love the food served here.'), ('Rated 4.0', \"RATED\\n  Been here a couple of times. Highly satisfying on both the ocassions. Great food. Decent service. At price of 160 per person it is of a great value. The staff here serves in a traditional Mysore style dresses. The food is authentic Karnataka meals. I really liked the pineapple pickle/chutney. They serve some 4 varities of rice of which you shouldn't try all as you would already be full. Roti, Dosa were decent. In the deserts, Payasam&amp; Holige were good.\\nI think it is one the must try places to try some authentic south food even if you have been to the likes of Kamath etc. this one is a little different. :)\"), ('Rated 5.0', 'RATED\\n  Very good restorent good south Indian food very nice all food s are good we spent good time and food in this hotel value of money we loved it'), ('Rated 3.5', 'RATED\\n  I went to this restaurant on Sunday afternoon.It was a bit crowded.\\n\\nIts located in the 1st floor Above anna kuteera kathriguppe\\n\\nYou need to take food coupon in the ground floor itself.\\nit was 160 rs.\\n\\nTaste wise it was good.\\nService was slow.\\nNothing exciting/different in the menu.\\nWhatever they serve its good.\\nWorth for money.'), ('Rated 5.0', 'RATED\\n  Awesome place , worth with price , quality , quantity , service , hygiene and discipline I loved it ???? wish there were more rating stars to give I give 100 on 5 for sure'), ('Rated 3.5', 'RATED\\n  Nice food, good ambiance, so many verity of food, this time i was in hurry so, next review will be detailed one. Its good to see all dishes at one place'), ('Rated 1.5', 'RATED\\n  The food was not satisfactory. Not one item served could be eaten again . Only advantage is the price but even that is not going to be enough to make me visit the place again . Dear Udupi staff people wouldnÃ\\x83Ã\\x83Ã\\x82Ã\\x82Ã\\x83Ã\\x82Ã\\x82Ã\\x92t mind if the food quality was better for a higher price and please get more fans so that people wonÃ\\x83Ã\\x83Ã\\x82Ã\\x82Ã\\x83Ã\\x82Ã\\x82Ã\\x92t have to deal with another disappointment of sweating while eating.'), ('Rated 5.0', 'RATED\\n  Excellent quality and taste, more variety of authentic south Indian food. Excellent service. Highly recommended. Worth the money we pay here.'), ('Rated 2.0', \"RATED\\n  I'm rating 2 only because of the large number of items they serve for the price they charge. While the taste is moderate, the biggest turn off is the poor service and totally unresponsive staff. They are either understaffed or poorly trained. I didn't get to taste a few items, thanks to their ever busy staff, and ended eating what was served. Please learn the crowd management from other peers like maiyya and roti ghar\"), ('Rated 5.0', 'RATED\\n  One of my colleagues suggested this place. Went there at 1 pm and place wasnt crowded. Ambience is decent and cool. A welcome drink \"appekai saru\" was served. Then started..typical \"baale yele uta\" . Diffrerent types of palya, kosambari and sides. Then came masala dosa, pulka,pulav, veg rice bath. Masala dosa was very very tasty. Service is bit fast as people will be coming, but they will make it slow if u tell them to. Then comes rice with sambar,rasam, daal,tambali. And yes, dont forget to eat holige,payasam and icecream. Service is very nice. One best thing is all of this comes in just 160 rs and its unlimited!!! What else you want!! A must visit place for south indian foodie!'), ('Rated 3.0', \"RATED\\n  Been here last week with high expectations based on few reviews. But utterly disappointed with the food quality &amp; taste. I feel it's an overhyped place! There are many better places in the vicinity for Plantain leaf meal. There was too much of waiting &amp; these staffs were too hurry in serving food &amp; asking people to finish meal &amp; leave quickly. I can understand there is a waiting and staffs should approach in a positive way. I will never go there again!\\n\\nbangaloreepicure.com\"), ('Rated 4.0', 'RATED\\n  I have a confession, being a south Indian I distaste south Indian food(not that I hate it, I don\\'t like it either).But still made up my mind on Sankaranti to have authentic south Indian food visited \"Adduri Udupi Bhojana\" because it was close to my place.I just had a look at the menu told myself that I can do it(I am not blessed with a tremendous appetite).welcomed with the mango soup followed by the wide variety of dishes served, I have developed the new love for Pongal(both sweet and Khara).I can still feel the taste of the ghee bursting in my mouth but it was\"kai holige\" that made my day, crisp and soft.not to forget food is served on a banana leaf that adds in more flavor and taste.waiters are attentive and responsive.The customer\\'s needs are monitored and addressed.so much variety for just 160Rs without compromising on quantity and quality and yes it is unlimited.This visit turned out to be a surprise package.'), ('Rated 3.5', 'RATED\\n  Food is good.\\nNo parking\\nAmbience is average\\nOverall its value for money if you looking for south Indian food.\\nPreferred the tiffin items......'), ('Rated 3.0', \"RATED\\n  Been here last week with high expectations based on few reviews. But utterly disappointed with the food quality &amp; taste. I feel it's an overhyped place! There are many better places in the vicinity for Plantain leaf meal. There was too much of waiting &amp; these staffs were too hurry in serving food &amp; asking people to finish meal &amp; leave quickly. I can understand there is a waiting and staffs should approach in a positive way. I will never go there again!\\n\\nbangaloreepicure.com\"), ('Rated 4.0', 'RATED\\n  I have a confession, being a south Indian I distaste south Indian food(not that I hate it, I don\\'t like it either).But still made up my mind on Sankaranti to have authentic south Indian food visited \"Adduri Udupi Bhojana\" because it was close to my place.I just had a look at the menu told myself that I can do it(I am not blessed with a tremendous appetite).welcomed with the mango soup followed by the wide variety of dishes served, I have developed the new love for Pongal(both sweet and Khara).I can still feel the taste of the ghee bursting in my mouth but it was\"kai holige\" that made my day, crisp and soft.not to forget food is served on a banana leaf that adds in more flavor and taste.waiters are attentive and responsive.The customer\\'s needs are monitored and addressed.so much variety for just 160Rs without compromising on quantity and quality and yes it is unlimited.This visit turned out to be a surprise package.'), ('Rated 3.5', 'RATED\\n  Food is good.\\nNo parking\\nAmbience is average\\nOverall its value for money if you looking for south Indian food.\\nPreferred the tiffin items......'), ('Rated 3.0', \"RATED\\n  Been here last week with high expectations based on few reviews. But utterly disappointed with the food quality &amp; taste. I feel it's an overhyped place! There are many better places in the vicinity for Plantain leaf meal. There was too much of waiting &amp; these staffs were too hurry in serving food &amp; asking people to finish meal &amp; leave quickly. I can understand there is a waiting and staffs should approach in a positive way. I will never go there again!\\n\\nbangaloreepicure.com\"), ('Rated 4.0', 'RATED\\n  I have a confession, being a south Indian I distaste south Indian food(not that I hate it, I don\\'t like it either).But still made up my mind on Sankaranti to have authentic south Indian food visited \"Adduri Udupi Bhojana\" because it was close to my place.I just had a look at the menu told myself that I can do it(I am not blessed with a tremendous appetite).welcomed with the mango soup followed by the wide variety of dishes served, I have developed the new love for Pongal(both sweet and Khara).I can still feel the taste of the ghee bursting in my mouth but it was\"kai holige\" that made my day, crisp and soft.not to forget food is served on a banana leaf that adds in more flavor and taste.waiters are attentive and responsive.The customer\\'s needs are monitored and addressed.so much variety for just 160Rs without compromising on quantity and quality and yes it is unlimited.This visit turned out to be a surprise package.'), ('Rated 3.5', 'RATED\\n  Food is good.\\nNo parking\\nAmbience is average\\nOverall its value for money if you looking for south Indian food.\\nPreferred the tiffin items......'), ('Rated 3.0', \"RATED\\n  Been here last week with high expectations based on few reviews. But utterly disappointed with the food quality &amp; taste. I feel it's an overhyped place! There are many better places in the vicinity for Plantain leaf meal. There was too much of waiting &amp; these staffs were too hurry in serving food &amp; asking people to finish meal &amp; leave quickly. I can understand there is a waiting and staffs should approach in a positive way. I will never go there again!\\n\\nbangaloreepicure.com\"), ('Rated 4.0', 'RATED\\n  I have a confession, being a south Indian I distaste south Indian food(not that I hate it, I don\\'t like it either).But still made up my mind on Sankaranti to have authentic south Indian food visited \"Adduri Udupi Bhojana\" because it was close to my place.I just had a look at the menu told myself that I can do it(I am not blessed with a tremendous appetite).welcomed with the mango soup followed by the wide variety of dishes served, I have developed the new love for Pongal(both sweet and Khara).I can still feel the taste of the ghee bursting in my mouth but it was\"kai holige\" that made my day, crisp and soft.not to forget food is served on a banana leaf that adds in more flavor and taste.waiters are attentive and responsive.The customer\\'s needs are monitored and addressed.so much variety for just 160Rs without compromising on quantity and quality and yes it is unlimited.This visit turned out to be a surprise package.'), ('Rated 3.5', 'RATED\\n  Food is good.\\nNo parking\\nAmbience is average\\nOverall its value for money if you looking for south Indian food.\\nPreferred the tiffin items......'), ('Rated 3.0', \"RATED\\n  Been here last week with high expectations based on few reviews. But utterly disappointed with the food quality &amp; taste. I feel it's an overhyped place! There are many better places in the vicinity for Plantain leaf meal. There was too much of waiting &amp; these staffs were too hurry in serving food &amp; asking people to finish meal &amp; leave quickly. I can understand there is a waiting and staffs should approach in a positive way. I will never go there again!\\n\\nbangaloreepicure.com\"), ('Rated 4.0', 'RATED\\n  I have a confession, being a south Indian I distaste south Indian food(not that I hate it, I don\\'t like it either).But still made up my mind on Sankaranti to have authentic south Indian food visited \"Adduri Udupi Bhojana\" because it was close to my place.I just had a look at the menu told myself that I can do it(I am not blessed with a tremendous appetite).welcomed with the mango soup followed by the wide variety of dishes served, I have developed the new love for Pongal(both sweet and Khara).I can still feel the taste of the ghee bursting in my mouth but it was\"kai holige\" that made my day, crisp and soft.not to forget food is served on a banana leaf that adds in more flavor and taste.waiters are attentive and responsive.The customer\\'s needs are monitored and addressed.so much variety for just 160Rs without compromising on quantity and quality and yes it is unlimited.This visit turned out to be a surprise package.'), ('Rated 3.5', 'RATED\\n  Food is good.\\nNo parking\\nAmbience is average\\nOverall its value for money if you looking for south Indian food.\\nPreferred the tiffin items......'), ('Rated 4.0', \"RATED\\n  Had been on a week night for an authentic south Indian food. I personally love being served on banyan leaf. The waiters are all dressed up in traditional Mysore attire wearing with a peta. The food was delicious and definitely worth it's price. The waiters are friendly and serve u well with a smile. The food is prepared without garlic which is a plus point attracting many senior customers.\"), ('Rated 3.5', \"RATED\\n  Food is good and enjoyed. With 150 Rs. is very nice.\\nNote: (It happen with us)\\n - If you going TWO people, you may need to share the table there. Its almost crowed.\\n - You have to sit where they ask, you can't choose even if all the table are empty. \\nJust wait, eat and come back.\"), ('Rated 5.0', 'RATED\\n  Excellent Ambience with delicious meals with 10-15 variety types. Worth paying for money and you can dine out if you are with more friends/relatives in home.'), ('Rated 4.5', 'RATED\\n  Very good and Unlimited . especially masala dosa . Service and ambience was also good. will visit again with friends . very very reasonble and wholesome food'), ('Rated 3.5', 'RATED\\n  Aaaa wt to tell, Unlimited food, food was like exactly like south indian marriage food, 2 soups, sides masala dosa, all were unlimited for just ?150, except ice cream in the end ?? they give a water bottle, and main thing is have patience to get place to sit..... ??,there is no parking place of this outlet, and difficult to park in front of the restaurants,')]</td>\n",
       "      <td>[]</td>\n",
       "      <td>Buffet</td>\n",
       "      <td>Banashankari</td>\n",
       "    </tr>\n",
       "    <tr>\n",
       "      <th>4</th>\n",
       "      <td>https://www.zomato.com/bangalore/grand-village-basavanagudi?context=eyJzZSI6eyJlIjpbIjU4Njk0IiwiMTgzNzU0NzQiLCI1OTA5MCIsIjE4MzgyOTQ0IiwxODIyNDY3NiwiNTkyODkiLCIxODM3MzM4NiJdLCJ0IjoiUmVzdGF1cmFudHMgaW4gQmFuYXNoYW5rYXJpIHNlcnZpbmcgQnVmZmV0In19</td>\n",
       "      <td>10, 3rd Floor, Lakshmi Associates, Gandhi Bazaar Main Road, Above Reliance Trends, Basavanagudi, Bangalore</td>\n",
       "      <td>Grand Village</td>\n",
       "      <td>No</td>\n",
       "      <td>No</td>\n",
       "      <td>3.8/5</td>\n",
       "      <td>166</td>\n",
       "      <td>+91 8026612447\\r\\n+91 9901210005</td>\n",
       "      <td>Basavanagudi</td>\n",
       "      <td>Casual Dining</td>\n",
       "      <td>Panipuri, Gol Gappe</td>\n",
       "      <td>North Indian, Rajasthani</td>\n",
       "      <td>600</td>\n",
       "      <td>[('Rated 4.0', 'RATED\\n  Very good restaurant in neighbourhood. Buffet system is properly arranged. Variety of dishes along with garba dance and puppet show. Good spread of desserts. Live paratha / Kulcha making'), ('Rated 4.0', 'RATED\\n  Great service, overwhelming experience.\\n\\nOne of its kind experience. Grand village offers you some very desi food options.\\n\\nJaljeera, buttermilk, chat papdi, bhajiya, dosa, pav bhaji, noodles, and so many curries kulcha, roti, and garama garam Jalebies, gulab jamuns.\\n\\nBeautiful ambience of village. People serving with smiles and with full heart !!\\n\\nSo here goes my overall ratings :\\nFood : 4/5\\nAmbience : 3.5/5\\nService : 4/5\\nPocket friendly : 4/5')]</td>\n",
       "      <td>[]</td>\n",
       "      <td>Buffet</td>\n",
       "      <td>Banashankari</td>\n",
       "    </tr>\n",
       "  </tbody>\n",
       "</table>\n",
       "</div>"
      ],
      "text/plain": [
       "                                                                                                                                                                                                                                                        url  \\\n",
       "0  https://www.zomato.com/bangalore/jalsa-banashankari?context=eyJzZSI6eyJlIjpbNTg2OTQsIjE4Mzc1NDc0IiwiNTkwOTAiLCIxODM4Mjk0NCIsIjE4MjI0Njc2IiwiNTkyODkiLCIxODM3MzM4NiJdLCJ0IjoiUmVzdGF1cmFudHMgaW4gQmFuYXNoYW5rYXJpIHNlcnZpbmcgQnVmZmV0In19                   \n",
       "1  https://www.zomato.com/bangalore/spice-elephant-banashankari?context=eyJzZSI6eyJlIjpbIjU4Njk0IiwxODM3NTQ3NCwiNTkwOTAiLCIxODM4Mjk0NCIsIjE4MjI0Njc2IiwiNTkyODkiLCIxODM3MzM4NiJdLCJ0IjoiUmVzdGF1cmFudHMgaW4gQmFuYXNoYW5rYXJpIHNlcnZpbmcgQnVmZmV0In19          \n",
       "2  https://www.zomato.com/SanchurroBangalore?context=eyJzZSI6eyJlIjpbIjU4Njk0IiwiMTgzNzU0NzQiLDU5MDkwLCIxODM4Mjk0NCIsIjE4MjI0Njc2IiwiNTkyODkiLCIxODM3MzM4NiJdLCJ0IjoiUmVzdGF1cmFudHMgaW4gQmFuYXNoYW5rYXJpIHNlcnZpbmcgQnVmZmV0In19                             \n",
       "3  https://www.zomato.com/bangalore/addhuri-udupi-bhojana-banashankari?context=eyJzZSI6eyJlIjpbIjU4Njk0IiwiMTgzNzU0NzQiLCI1OTA5MCIsMTgzODI5NDQsIjE4MjI0Njc2IiwiNTkyODkiLCIxODM3MzM4NiJdLCJ0IjoiUmVzdGF1cmFudHMgaW4gQmFuYXNoYW5rYXJpIHNlcnZpbmcgQnVmZmV0In19   \n",
       "4  https://www.zomato.com/bangalore/grand-village-basavanagudi?context=eyJzZSI6eyJlIjpbIjU4Njk0IiwiMTgzNzU0NzQiLCI1OTA5MCIsIjE4MzgyOTQ0IiwxODIyNDY3NiwiNTkyODkiLCIxODM3MzM4NiJdLCJ0IjoiUmVzdGF1cmFudHMgaW4gQmFuYXNoYW5rYXJpIHNlcnZpbmcgQnVmZmV0In19           \n",
       "\n",
       "                                                                                                      address  \\\n",
       "0  942, 21st Main Road, 2nd Stage, Banashankari, Bangalore                                                      \n",
       "1  2nd Floor, 80 Feet Road, Near Big Bazaar, 6th Block, Kathriguppe, 3rd Stage, Banashankari, Bangalore         \n",
       "2  1112, Next to KIMS Medical College, 17th Cross, 2nd Stage, Banashankari, Bangalore                           \n",
       "3  1st Floor, Annakuteera, 3rd Stage, Banashankari, Bangalore                                                   \n",
       "4  10, 3rd Floor, Lakshmi Associates, Gandhi Bazaar Main Road, Above Reliance Trends, Basavanagudi, Bangalore   \n",
       "\n",
       "                    name online_order book_table   rate  votes  \\\n",
       "0  Jalsa                  Yes          Yes        4.1/5  775     \n",
       "1  Spice Elephant         Yes          No         4.1/5  787     \n",
       "2  San Churro Cafe        Yes          No         3.8/5  918     \n",
       "3  Addhuri Udupi Bhojana  No           No         3.7/5  88      \n",
       "4  Grand Village          No           No         3.8/5  166     \n",
       "\n",
       "                              phone      location            rest_type  \\\n",
       "0  080 42297555\\r\\n+91 9743772233    Banashankari  Casual Dining         \n",
       "1  080 41714161                      Banashankari  Casual Dining         \n",
       "2  +91 9663487993                    Banashankari  Cafe, Casual Dining   \n",
       "3  +91 9620009302                    Banashankari  Quick Bites           \n",
       "4  +91 8026612447\\r\\n+91 9901210005  Basavanagudi  Casual Dining         \n",
       "\n",
       "                                                                                             dish_liked  \\\n",
       "0  Pasta, Lunch Buffet, Masala Papad, Paneer Lajawab, Tomato Shorba, Dum Biryani, Sweet Corn Soup         \n",
       "1  Momos, Lunch Buffet, Chocolate Nirvana, Thai Green Curry, Paneer Tikka, Dum Biryani, Chicken Biryani   \n",
       "2  Churros, Cannelloni, Minestrone Soup, Hot Chocolate, Pink Sauce Pasta, Salsa, Veg Supreme Pizza        \n",
       "3  Masala Dosa                                                                                            \n",
       "4  Panipuri, Gol Gappe                                                                                    \n",
       "\n",
       "                         cuisines approx_cost(for two people)  \\\n",
       "0  North Indian, Mughlai, Chinese  800                          \n",
       "1  Chinese, North Indian, Thai     800                          \n",
       "2  Cafe, Mexican, Italian          800                          \n",
       "3  South Indian, North Indian      300                          \n",
       "4  North Indian, Rajasthani        600                          \n",
       "\n",
       "                                                                                                                                                                                                                                                                                                                                                                                                                                                                                                                                                                                                                                                                                                                                                                                                                                                                                                                                                                                                                                                                                                                                                                                                                                                                                                                                                                                                                                                                                                                                                                                                                                                                                                                                                                                                                                                                                                                                                                                                                                                                                                                                                                                                                                                                                                                                                                                                                                                                                                                                                                                                                                                                                                                                                                                                                                                                                                                                                                                                                                                                                                                                                                                                                                                                                                                                                                                                                                                                                                                                                                                                                                                                                                                                                                                                                                                                                                                                                                                                                                                                                                                                                                                                                                                                                                                                                                                                                                                                                                                                                                                                                                                                                                                                                                                                                                                                                                                                                                                                                                                                                                                                                                                                                                                                                                                                                                                                                                                                                                                                                                                                                                                                                                                                                                                                                                                                                                                                                                                                                                                                                                                                                                                                                                                                                                                                                                                                                                                                                                                                                                                                                                                                                                                                                                                                                                                                                                                                                                                                                                                                                                                                                                                                                                                                                                                                                                                                                                                                                                                                                                                                                                                                                                                                                                                                                                                                                                                                                                                                                                                                                                                                                                                                                                                                                                                                                                                                                                                                                                                                                                                                                                                                                                                                                                                                                                                                                                                                                                                                                                                                                                                                                                                                                                                                                                                                                                                                                                                                                                                                                                                                                                                                                                                                                                                                                                                                                                                                                                                                                                                                                                                                                                                                                                                                                                                                                                                                                                                                                                                                                                                                                                                                                                                                                                                                                                                                                                                                                                                                                                                                                                                                                                                                                                                                                                                                                                                                                                                                                                                                                                                                                                                                                                                                                                                                                                                                                                                                                                                                                                                                                                                                                                                                                                                                                                                                                                                                                                                                                                                                                                                                                                                                                                                                                                                                                                                                                                                                                                                                                                                                                                                                                                                                                                                                                                                                                                                                                                                                                                                                                                                                                                                                                                                                                                                                                                                                                                                                                                                                                                                                                                                                                                                                                                                                                                                                                                                                                                                                                                                                                                                                                                                                                                                                                                                                                                                                                                                                                                                                                                                                                                                                                                                                                                                                                                                                                                                                                                                                                   reviews_list  \\\n",
       "0  [('Rated 4.0', 'RATED\\n  A beautiful place to dine in.The interiors take you back to the Mughal era. The lightings are just perfect.We went there on the occasion of Christmas and so they had only limited items available. But the taste and service was not compromised at all.The only complaint is that the breads could have been better.Would surely like to come here again.'), ('Rated 4.0', 'RATED\\n  I was here for dinner with my family on a weekday. The restaurant was completely empty. Ambience is good with some good old hindi music. Seating arrangement are good too. We ordered masala papad, panner and baby corn starters, lemon and corrionder soup, butter roti, olive and chilli paratha. Food was fresh and good, service is good too. Good for family hangout.\\nCheers'), ('Rated 2.0', 'RATED\\n  Its a restaurant near to Banashankari BDA. Me along with few of my office friends visited to have buffet but unfortunately they only provide veg buffet. On inquiring they said this place is mostly visited by vegetarians. Anyways we ordered ala carte items which took ages to come. Food was ok ok. Definitely not visiting anymore.'), ('Rated 4.0', 'RATED\\n  We went here on a weekend and one of us had the buffet while two of us took Ala Carte. Firstly the ambience and service of this place is great! The buffet had a lot of items and the good was good. We had a Pumpkin Halwa intm the dessert which was amazing. Must try! The kulchas are great here. Cheers!'), ('Rated 5.0', 'RATED\\n  The best thing about the place is itÃ\\x83Ã\\x83Ã\\x82Ã\\x82Ã\\x83Ã\\x82Ã\\x82Ã\\x92s ambiance. Second best thing was yummy ? food. We try buffet and buffet food was not disappointed us.\\nTest ?. ?? ?? ?? ?? ??\\nQuality ?. ??????????.\\nService: Staff was very professional and friendly.\\n\\nOverall experience was excellent.\\n\\nsubirmajumder85.wixsite.com'), ('Rated 5.0', 'RATED\\n  Great food and pleasant ambience. Expensive but Coll place to chill and relax......\\n\\nService is really very very good and friendly staff...\\n\\nFood : 5/5\\nService : 5/5\\nAmbience :5/5\\nOverall :5/5'), ('Rated 4.0', 'RATED\\n  Good ambience with tasty food.\\nCheese chilli paratha with Bhutta palak methi curry is a good combo.\\nLemon Chicken in the starters is a must try item.\\nEgg fried rice was also quite tasty.\\nIn the mocktails, recommend \"Alice in Junoon\". Do not miss it.'), ('Rated 4.0', 'RATED\\n  You canÃ\\x83Ã\\x83Ã\\x82Ã\\x82Ã\\x83Ã\\x82Ã\\x82Ã\\x92t go wrong with Jalsa. Never been a fan of their buffet and thus always order alacarteÃ\\x83Ã\\x83Ã\\x82Ã\\x82Ã\\x83Ã\\x82Ã\\x82Ã\\x92. Service at times can be on the slower side but food is worth the wait.'), ('Rated 5.0', 'RATED\\n  Overdelighted by the service and food provided at this place. A royal and ethnic atmosphere builds a strong essence of being in India and also the quality and taste of food is truly authentic. I would totally recommend to visit this place once.'), ('Rated 4.0', 'RATED\\n  The place is nice and comfortable. Food wise all jalea outlets maintain a good standard. The soya chaap was a standout dish. Clearly one of trademark dish as per me and a must try.\\n\\nThe only concern is the parking. It very congested and limited to just 5cars. The basement parking is very steep and makes it cumbersome'), ('Rated 4.0', 'RATED\\n  The place is nice and comfortable. Food wise all jalea outlets maintain a good standard. The soya chaap was a standout dish. Clearly one of trademark dish as per me and a must try.\\n\\nThe only concern is the parking. It very congested and limited to just 5cars. The basement parking is very steep and makes it cumbersome'), ('Rated 4.0', 'RATED\\n  The place is nice and comfortable. Food wise all jalea outlets maintain a good standard. The soya chaap was a standout dish. Clearly one of trademark dish as per me and a must try.\\n\\nThe only concern is the parking. It very congested and limited to just 5cars. The basement parking is very steep and makes it cumbersome')]                                                                                                                                                                                                                                                                                                                                                                                                                                                                                                                                                                                                                                                                                                                                                                                                                                                                                                                                                                                                                                                                                                                                                                                                                                                                                                                                                                                                                                                                                                                                                                                                                                                                                                                                                                                                                                                                                                                                                                                                                                                                                                                                                                                                                                                                                                                                                                                                                                                                                                                                                                                                                                                                                                                                                                                                                                                                                                                                                                                                                                                                                                                                                                                                                                                                                                                                                                                                                                                                                                                                                                                                                                                                                                                                                                                                                                                                                                                                                                                                                                                                                                                                                                                                                                                                                                                                                                                                                                                                                                                                                                                                                                                                                                                                                                                                                                                                                                                                                                                                                                                                                                                                                                                                                                                                                                                                                                                                                                                                                                                                                                                                                                                                                                                                                                                                                                                                                                                                                                                                                                                                                                                                                                                                                                                                                                                                                                                                                                                                                                                                                                                                                                                                                                                                                                                                                                                                                                                                                                                                                                                                                                                                                                                                                                                                                                                                                                                                                                                                                                                                                                                                                                                                                                                                                                                                                                                                                                                                                                                                                                                                                                                                                                                                                                                                                                                                                                                                                                                                                                                                                                                                                                                                                                                                                                                                                                                                                                                                                                                                                                                                                                                                                                                                                                                                                                                                                                                                                                                                                                                                                                                                                                                                                                                                                                                                                                                                                                                                                                                                                                                                                                                                                                                                                                                                                                                                                                                                                                                                                                                                                                                                                                                                                                                                                                                                                                                                                                                                                                                                                                                                                                                                                                                                                                                                                                                                                                            \n",
       "1  [('Rated 4.0', 'RATED\\n  Had been here for dinner with family. Turned out to be a good choose suitable for all ages of people. Can try this place. We liked the most was their starters. Service is good. Prices are affordable. Will recommend this restaurant for early dinner. The place is little noisy.'), ('Rated 3.0', 'RATED\\n  The ambience is really nice, staff is courteous. The price is pretty high for the quantity, but overall the experience was fine. The quality of food is nice but nothing extraordinary. They also have buffet(only veg)'), ('Rated 3.0', 'RATED\\n  I felt good is little expensive for the quantity they serve and In terms of taste is decent. There is nothing much to talk about the ambience, regular casual dining restaurant where you can take your family for dinner or lunch. If they improve on that quantity or may be reduce the price a bit or may be improve the presentation of the food it might Manage to get more repeat customers.'), ('Rated 4.0', 'RATED\\n  I was looking for a quite place to spend some time with family and as well wanted to try some new place. Since I was at Banashankari I thought of trying this place. The place had good rating and was part of Zomato gold. So I decided to try this place. It was a delite to see a very friendly staff and food we ordered was very tasty as well.\\n\\nFood : 4/5\\nAmbience :3/5\\nFriendly staff : 4/5\\nPocket friendly : 4/5\\n\\nWill definitely visit again ??'), ('Rated 4.0', \"RATED\\n  Nice place to dine and has a good ambiance... Food is good and the serving time is also good..neat restrooms and we'll arranged tables....only thing is we went at 12.30 for lunch...and we noticed that they kept on playing one music back to back which was a little annoying...\\n\\n1. Chicken biriyani was so good and the chicken was fresh and tender ,rice was well cooked and overall was great\\n\\n2. Mutton biriyani was very very good and tasty and It had plenty of mutton pieces...\"), ('Rated 5.0', 'RATED\\n  This place just cool ? with good ambience and slow music and having delicious food is where you find peace. Staff very friendly and they have maintained the place so clean. The price is average for what the quantity of food they serve.\\nThom yum Thai soup was best and was treat to mouth, roti was soft with that vilaythi paneer was perfect to have for veggie foodies, in rice we tried burnt garlic fried rice with vegetables and it was the perfect thing to end.'), ('Rated 4.0', \"RATED\\n  Quiet a good family type of place.. too calm and usually we don't find crowd here.. panner curry and the deserts is what we had tasted.. they wer really good but we found it a little expensive\"), ('Rated 2.0', \"RATED\\n  I had a very bad experience here.\\nI don't know about a la carte, but the buffet was the worst. They gave us complementary drink and momos before the buffet. The momos were really good.\\nThe number of varieties first of all was very disappointing. The service was very slow. They refilled the food very slowly. The starters were okay. The main course also was so so. There was two gravies with roti and some rice with raitha. They had chats, sev puri and pan puri, which was average. But the desert was disappointing. They had gulab Jamun and chocolate cake. The jamun was not cooked inside. There was a cold blob of raw dough inside. The chocolate cake also was really hard and not that good.\\nOverall the buffet was a bad experience for me.\"), ('Rated 4.0', \"RATED\\n  Food: 8/10\\nAmbience:8/10\\nStaff:8/10\\nOne of the good places to try north Indian food...but depends on ur taste buds. Not everyone will like all the items here. Specially when u r particular abt sweet and spicy food.\\nThere's buffet available too.\\nWe had ordered paneer uttar dakshin and paneer kurchan..was amazing. The Gobi hara pyaz and mix veg were average.\"), ('Rated 3.0', 'RATED\\n  A decent place for a family lunch or dinner.. well arranged in a simple manner. Food was tasty and the crew was very helpful and understanding..'), ('Rated 4.0', \"RATED\\n  Great place to have a heavy lunch. Good service.\\nThe chicken biryani was undoubtedly one of the best I've had. Biriyani and Lassi would be the suggested combo. Buffet is the talk of the place, so try according to your appetite. A nice place.\"), ('Rated 4.0', 'RATED\\n  Its the one restaurant near katriguppe that i found was really good. Good variety of Chinese and thai dishes. Service is good and good place to hangout with family as its a peaceful place where noise is really less and good view.'), ('Rated 2.0', \"RATED\\n  Spice elephant soup SPL: almost manchow flavour soup.. Just above medium spicy\\n\\nLasooni fish tikka was awesome\\n\\nI don't remember the dessert name but I have attached the photo .. It had vanilla ice inside wafers... Wafer was hell hard, egg smell chewy ... Nightmare dessert !\\n\\nTable leg space was very bad... I was so uncomfortable, the whole time kept on adjusting my legs\\n\\nNo parking\\n\\nFor the taste felt this is too costly\"), ('Rated 4.0', 'RATED\\n  Zomato gold partner at this price. It was insane. They have really nice food. small place with very courteous staff and very cheap food for this ambience. Cost of soups is 80-100. Starters from 150-250. Main course 200-300. Cost for two was 800 for us.')]                                                                                                                                                                                                                                                                                                                                                                                                                                                                                                                                                                                                                                                                                                                                                                                                                                                                                                                                                                                                                                                                                                                                                                                                                                                                                                                                                                                                                                                                                                                                                                                                                                                                                                                                                                                                                                                                                                                                                                                                                                                                                                                                                                                                                                                                                                                                                                                                                                                                                                                                                                                                                                                                                                                                                                                                                                                                                                                                                                                                                                                                                                                                                                                                                                                                                                                                                                                                                                                                                                                                                                                                                                                                                                                                                                                                                                                                                                                                                                                                                                                                                                                                                                                                                                                                                                                                                                                                                                                                                                                                                                                                                                                                                                                                                                                                                                                                                                                                                                                                                                                                                                                                                                                                                                                                                                                                                                                                                                                                                                                                                                                                                                                                                                                                                                                                                                                                                                                                                                                                                                                                                                                                                                                                                                                                                                                                                                                                                                                                                                                                                                                                                                                                                                                                                                                                                                                                                                                                                                                                                                                                                                                                                                                                                                                                                                                                                                                                                                                                                                                                                                                                                                                                                                                                                                                                                                                                                                                                                                                                                                                                                                                                                                                                                                                                                                                                                                                                                                                                                                                                                                                                                                                                                                                                                                                                                                                                                                                                                                                                                                                                                                                                                                                                                                                                                                                                                                                                                                                                                                                                                                                                                                                                                                                                                                                                                                                                                                                                                                                                                       \n",
       "2  [('Rated 3.0', \"RATED\\n  Ambience is not that good enough and it's not a pocket friendly cafe and the quantity is not that good and desserts are too good enough ??..\"), ('Rated 3.0', \"RATED\\n \\nWent there for a quick bite with friends.\\nThe ambience had more of corporate feel. I would say it was unique.\\nTried nachos, pasta churros and lasagne.\\n\\nNachos were pathetic.( Seriously don't order)\\nPasta was okayish.\\nLasagne was good.\\nNutella churros were the best.\\nOverall an okayish experience!\\nPeace ??\"), ('Rated 4.0', \"RATED\\n  First of all, a big thanks to the staff of this Cafe. Very polite and courteous.\\n\\nI was there 15mins before their closing time. Without any discomfort or hesitation, the staff welcomed me with a warm smile and said they're still open, though they were preparing to close the cafe for the day.\\n\\nQuickly ordered the Thai green curry, which is served with rice. They got it for me within 10mins, hot and freshly made.\\n\\nIt was tasty with the taste of coconut milk. Not very spicy, it was mild spicy.\\n\\nI saw they had yummy looking dessert menu, should go there to try them out!\\n\\nA good spacious place to hang out for coffee, pastas, pizza or Thai food.\"), ('Rated 3.0', \"RATED\\n  A place for people who love churos. Otherwise it's a normal simple cafe like any other in town . Can go and spend the evening there . The positive being it is one of the better cafes in and around Banashankari and also the place is not very crowded .\"), ('Rated 3.0', 'RATED\\n  Have been visiting this place since years. The quality has gone down drastically. Food quality has become very average from good. Service is also very bad of late.'), ('Rated 1.0', 'RATED\\n  Really disappointed with the place.\\n\\nSeems like a old dusty store room stacked up with old sofas and chairs! The decor is soo disappointing that I cannot put it in words!\\nLastly the food was cherry on the cake to make it a complete worse meal.\\n\\nThis place is the last option you should ever consider.'), ('Rated 3.0', 'RATED\\n  Congested atmosphere due to smoke from kitchen\\nAmbience was k\\nService was k .\\nChuros was a new experience recommended\\nNear to kims . Parking was not der'), ('Rated 1.0', \"RATED\\n  Cockroaches !! I Repeat cockroaches!!Bakasura was disappointed.\\nBeing in Banashankari, being a gold outlet and nesting them? who can even think of that. Thankfully it wasn't over bakasura's plate. The ambience was last cleaned a decade back i guess. A cockroach just walked over our table. As it was alive, and well moving , the bakasura couldnt take a pic of it. Then the staff had to actually take it out of our table. Such ambience ? like what are you upto?\\n\\nBakasura disapproves. I dont even want to talk about the food.\"), ('Rated 4.0', 'RATED\\n  A nice place to hangout, this place looks professional and also cute. If anyone is trying churros for the first the time, this is the place to go. Cheesecake is pretty amazing too.\\nRecommended.'), ('Rated 4.0', 'RATED\\n  1) pizza mocktails shakes and churros really very good\\n2) staff good\\n3) ambience simple and nice good\\n4) location of San churro cafe very nice\\n5) over San churro cafe good....'), ('Rated 3.0', \"RATED\\n  One of my favourite places that I often visit in South bangalore , but quality has been reduced than before. Little unhappy with the food this time.\\nBut their churros never dissapointed me. Staff are too slow and do not respond easily.\\n\\nSoups:\\nMinestrone soup was like vegetable stock water with vegetables in it, not happy with it.\\n\\nChurros :\\nIt was great as usual. A must visit place if u love churros.\\n\\nStarters:\\n1. Africano panner -\\nIt was bit sweet and not happy with the dish!!\\n2. Loaded nachos -\\nThis happened to be their one of the best dishes, but now I take back my words. Very dissapointed with the dish.\\n\\nMain course:\\nsicilia pizza\\nPizza was too good, it's a must try dish.\\n\\nFinally I would recommend this place for churros and pizza .\\n\\nTaste : 6/10\\nAmbience :7/10\\nValue for money : 8/10\\n\\nOverall experience : 7.5/10\"), ('Rated 4.0', 'RATED\\n  Visited this place long before, place come to.notice with the decoration lights outside the cafe. We ordered churos, pizza and hot chocolate, all were good just I little priced more.'), ('Rated 4.0', 'RATED\\n  Spain pictures of Churros triggered Nostalgia about it , which led to Google search for Churro places in city , lucky we to get the result as San Churro cafe , we had an delectable churros here along with hot chocolate and Nachos ! Thanks for fulfilling our thirst of Spanish Churros !\\nFood : ???\\nChurros ???\\nHot Chocolate ?\\nNachos ??\\n\\nService : ??\\n\\nAmbiance : ?\\n\\nCleanliness : ??\\n\\nOne drawback : Store had some flies, I hope they take care of them for our next tour ?'), ('Rated 3.0', 'RATED\\n  Ã\\x83Ã\\x83Ã\\x82Ã\\x82Ã\\x83Ã\\x82Ã\\x82Ã\\x93Chocolaty and churroic experienceÃ\\x83Ã\\x83Ã\\x82Ã\\x82Ã\\x83Ã\\x82Ã\\x82Ã\\x94\\n\\nHit chocolate and churro with chocolate dip in the picture.\\n\\nMy first time at this restaurant and it has delivered in service, options as well as taste.'), ('Rated 4.0', 'RATED\\n  Though very sadly the place looks in need of retouching, but the food was great! Especially when it was super cold outside and we were super hungry, the staff was nice. We ordered the pink pasta and a pizza. Both of them were pretty good. Was really tempted to try their Churros but we were stuffed. Worth a visit and try for sure!'), ('Rated 3.0', \"RATED\\n  Churros, the restaurant's eponymous offering, has to be tried. They're a Mexican snack and served with chocolate sauce. Milkshakes are good too. The interior walls have murals and writings all over. Haven't tried the pizzas here but the cakes and pastries were pretty good.\"), ('Rated 3.0', \"RATED\\n  Honestly, have only tried parcels and that too only starters and mains - never tried desserts. So this review is based on starters and mains only. The quality wasn't all that great, was pretty average.\"), ('Rated 4.0', \"RATED\\n  Visited this place for the first time, recently. The ambience was pretty good. We ordered two 'churros for two'. Having churros for the first time ever, I was way too excited and judgmental. But swear to Lord, the churros were heavenly! The chocolate sauce was the actual chocolate sauce and not nutella xD We had taken the Cross Country Ranch pizza. It was a thin crust pizza loaded with veggies.\\nThe place is famous for churros (the name suggests so). I would love to visit again to try all the other items out :')\"), ('Rated 4.0', 'RATED\\n  I love the desserts more than anything here !Good place and well served !:)\\nWe dint like the nachos here , it was not that good as we expected !\\nExcept nachos almost all dish were quite good!'), ('Rated 2.0', \"RATED\\n  2nd time I have visited this place and I am surprised to see how it has declined. Churros was hard, pizza was pathetic, loaded nachos and masala Garlic bread were topped with cheese with MAYO! Yes mayonnese.. Soup has the bread crumbs in almost melted state, mocktails were average and our only Savior was pasta and caramel pudding... This place has high potential but let down by dull ambience, pretty slow and inattentive staff. Buffet price was listed as 399 but was charged 499, We still went ahead and took the deal to be very disappointed!! Most dishes were freshly cooked hence going with some starts else would rate them lower. I did not find a single person who seemed happy with their meal as moat complained about one thing or the other. That'll be my last visit San Churros.\")]                                                                                                                                                                                                                                                                                                                                                                                                                                                                                                                                                                                                                                                                                                                                                                                                                                                                                                                                                                                                                                                                                                                                                                                                                                                                                                                                                                                                                                                                                                                                                                                                                                                                                                                                                                                                                                                                                                                                                                                                                                                                                                                                                                                                                                                                                                                                                                                                                                                                                                                                                                                                                                                                                                                                                                                                                                                                                                                                                                                                                                                                                                                                                                                                                                                                                                                                                                                                                                                                                                                                                                                                                                                                                                                                                                                                                                                                                                                                                                                                                                                                                                                                                                                                                                                                                                                                                                                                                                                                                                                                                                                                                                                                                                                                                                                                                                                                                                                                                                                                                                                                                                                                                                                                                                                                                                                                                                                                                                                                                                                                                                                                                                                                                                                                                                                                                                                                                                                                                                                                                                                                                                                                                                                                                                                                                                                                                                                                                                                                                                                                                                                                                                                                                                                                                                                                                                                                                                                                                                                                                                                                                                                                                                                                                                                                                                                                                                                                                                                                                                                                                                                                                                  \n",
       "3  [('Rated 4.0', \"RATED\\n  Great food and proper Karnataka style full meals. Been there twice and was fully satisfied.. Will give 5 stars if it's well managed............\"), ('Rated 2.0', 'RATED\\n  Reached the place at 3pm on Saturday. Half of the items on the menu were over. What was annoying was is the food was cold. The taste was also very average. Only dosa and holige were good. There were very few people in the restaurant and the service was still very slow. The waiters were all standing in one corner and talking. Had to call them repeatedly.'), ('Rated 4.0', 'RATED\\n  Had been here, good food served and tasty,good place to go with freinds and family, should be first to get served well with all food. One of the good hotel there for this price.'), ('Rated 2.0', 'RATED\\n  How can a Udupi restaurant be so dirty.the floor the walls the waiters are all stained in food.Why cant they clean it? The floor even had decorative colour paper every where and lot of food.Now coming to the taste of the food- it was pretty decent for what they chargw.What upset us was the menu says they serve thambuli, two variety of rice etc but they were all over at 2.45 but they still charged us full amount.Lastly if u r ok to b seated with random people and adjust with their table manners( burrping etc) then tis place is decent for a quick veg udupi meals'), ('Rated 4.0', 'RATED\\n  Aadhuri Udupi bhojana is one of the best vegetarian hotel in and around Banashankari locality\\nwere we can enjoy the authentic south Karnataka style food.'), ('Rated 5.0', 'RATED\\n  One of the best restaurants for unlimited food. Price for one full unlimited meal is ?150 and the service is awesome here. If youÃ\\x83Ã\\x83Ã\\x82Ã\\x82Ã\\x83Ã\\x82Ã\\x82Ã\\x92re a costalian you will love the food served here.'), ('Rated 4.0', \"RATED\\n  Been here a couple of times. Highly satisfying on both the ocassions. Great food. Decent service. At price of 160 per person it is of a great value. The staff here serves in a traditional Mysore style dresses. The food is authentic Karnataka meals. I really liked the pineapple pickle/chutney. They serve some 4 varities of rice of which you shouldn't try all as you would already be full. Roti, Dosa were decent. In the deserts, Payasam& Holige were good.\\nI think it is one the must try places to try some authentic south food even if you have been to the likes of Kamath etc. this one is a little different. :)\"), ('Rated 5.0', 'RATED\\n  Very good restorent good south Indian food very nice all food s are good we spent good time and food in this hotel value of money we loved it'), ('Rated 3.5', 'RATED\\n  I went to this restaurant on Sunday afternoon.It was a bit crowded.\\n\\nIts located in the 1st floor Above anna kuteera kathriguppe\\n\\nYou need to take food coupon in the ground floor itself.\\nit was 160 rs.\\n\\nTaste wise it was good.\\nService was slow.\\nNothing exciting/different in the menu.\\nWhatever they serve its good.\\nWorth for money.'), ('Rated 5.0', 'RATED\\n  Awesome place , worth with price , quality , quantity , service , hygiene and discipline I loved it ???? wish there were more rating stars to give I give 100 on 5 for sure'), ('Rated 3.5', 'RATED\\n  Nice food, good ambiance, so many verity of food, this time i was in hurry so, next review will be detailed one. Its good to see all dishes at one place'), ('Rated 1.5', 'RATED\\n  The food was not satisfactory. Not one item served could be eaten again . Only advantage is the price but even that is not going to be enough to make me visit the place again . Dear Udupi staff people wouldnÃ\\x83Ã\\x83Ã\\x82Ã\\x82Ã\\x83Ã\\x82Ã\\x82Ã\\x92t mind if the food quality was better for a higher price and please get more fans so that people wonÃ\\x83Ã\\x83Ã\\x82Ã\\x82Ã\\x83Ã\\x82Ã\\x82Ã\\x92t have to deal with another disappointment of sweating while eating.'), ('Rated 5.0', 'RATED\\n  Excellent quality and taste, more variety of authentic south Indian food. Excellent service. Highly recommended. Worth the money we pay here.'), ('Rated 2.0', \"RATED\\n  I'm rating 2 only because of the large number of items they serve for the price they charge. While the taste is moderate, the biggest turn off is the poor service and totally unresponsive staff. They are either understaffed or poorly trained. I didn't get to taste a few items, thanks to their ever busy staff, and ended eating what was served. Please learn the crowd management from other peers like maiyya and roti ghar\"), ('Rated 5.0', 'RATED\\n  One of my colleagues suggested this place. Went there at 1 pm and place wasnt crowded. Ambience is decent and cool. A welcome drink \"appekai saru\" was served. Then started..typical \"baale yele uta\" . Diffrerent types of palya, kosambari and sides. Then came masala dosa, pulka,pulav, veg rice bath. Masala dosa was very very tasty. Service is bit fast as people will be coming, but they will make it slow if u tell them to. Then comes rice with sambar,rasam, daal,tambali. And yes, dont forget to eat holige,payasam and icecream. Service is very nice. One best thing is all of this comes in just 160 rs and its unlimited!!! What else you want!! A must visit place for south indian foodie!'), ('Rated 3.0', \"RATED\\n  Been here last week with high expectations based on few reviews. But utterly disappointed with the food quality & taste. I feel it's an overhyped place! There are many better places in the vicinity for Plantain leaf meal. There was too much of waiting & these staffs were too hurry in serving food & asking people to finish meal & leave quickly. I can understand there is a waiting and staffs should approach in a positive way. I will never go there again!\\n\\nbangaloreepicure.com\"), ('Rated 4.0', 'RATED\\n  I have a confession, being a south Indian I distaste south Indian food(not that I hate it, I don\\'t like it either).But still made up my mind on Sankaranti to have authentic south Indian food visited \"Adduri Udupi Bhojana\" because it was close to my place.I just had a look at the menu told myself that I can do it(I am not blessed with a tremendous appetite).welcomed with the mango soup followed by the wide variety of dishes served, I have developed the new love for Pongal(both sweet and Khara).I can still feel the taste of the ghee bursting in my mouth but it was\"kai holige\" that made my day, crisp and soft.not to forget food is served on a banana leaf that adds in more flavor and taste.waiters are attentive and responsive.The customer\\'s needs are monitored and addressed.so much variety for just 160Rs without compromising on quantity and quality and yes it is unlimited.This visit turned out to be a surprise package.'), ('Rated 3.5', 'RATED\\n  Food is good.\\nNo parking\\nAmbience is average\\nOverall its value for money if you looking for south Indian food.\\nPreferred the tiffin items......'), ('Rated 3.0', \"RATED\\n  Been here last week with high expectations based on few reviews. But utterly disappointed with the food quality & taste. I feel it's an overhyped place! There are many better places in the vicinity for Plantain leaf meal. There was too much of waiting & these staffs were too hurry in serving food & asking people to finish meal & leave quickly. I can understand there is a waiting and staffs should approach in a positive way. I will never go there again!\\n\\nbangaloreepicure.com\"), ('Rated 4.0', 'RATED\\n  I have a confession, being a south Indian I distaste south Indian food(not that I hate it, I don\\'t like it either).But still made up my mind on Sankaranti to have authentic south Indian food visited \"Adduri Udupi Bhojana\" because it was close to my place.I just had a look at the menu told myself that I can do it(I am not blessed with a tremendous appetite).welcomed with the mango soup followed by the wide variety of dishes served, I have developed the new love for Pongal(both sweet and Khara).I can still feel the taste of the ghee bursting in my mouth but it was\"kai holige\" that made my day, crisp and soft.not to forget food is served on a banana leaf that adds in more flavor and taste.waiters are attentive and responsive.The customer\\'s needs are monitored and addressed.so much variety for just 160Rs without compromising on quantity and quality and yes it is unlimited.This visit turned out to be a surprise package.'), ('Rated 3.5', 'RATED\\n  Food is good.\\nNo parking\\nAmbience is average\\nOverall its value for money if you looking for south Indian food.\\nPreferred the tiffin items......'), ('Rated 3.0', \"RATED\\n  Been here last week with high expectations based on few reviews. But utterly disappointed with the food quality & taste. I feel it's an overhyped place! There are many better places in the vicinity for Plantain leaf meal. There was too much of waiting & these staffs were too hurry in serving food & asking people to finish meal & leave quickly. I can understand there is a waiting and staffs should approach in a positive way. I will never go there again!\\n\\nbangaloreepicure.com\"), ('Rated 4.0', 'RATED\\n  I have a confession, being a south Indian I distaste south Indian food(not that I hate it, I don\\'t like it either).But still made up my mind on Sankaranti to have authentic south Indian food visited \"Adduri Udupi Bhojana\" because it was close to my place.I just had a look at the menu told myself that I can do it(I am not blessed with a tremendous appetite).welcomed with the mango soup followed by the wide variety of dishes served, I have developed the new love for Pongal(both sweet and Khara).I can still feel the taste of the ghee bursting in my mouth but it was\"kai holige\" that made my day, crisp and soft.not to forget food is served on a banana leaf that adds in more flavor and taste.waiters are attentive and responsive.The customer\\'s needs are monitored and addressed.so much variety for just 160Rs without compromising on quantity and quality and yes it is unlimited.This visit turned out to be a surprise package.'), ('Rated 3.5', 'RATED\\n  Food is good.\\nNo parking\\nAmbience is average\\nOverall its value for money if you looking for south Indian food.\\nPreferred the tiffin items......'), ('Rated 3.0', \"RATED\\n  Been here last week with high expectations based on few reviews. But utterly disappointed with the food quality & taste. I feel it's an overhyped place! There are many better places in the vicinity for Plantain leaf meal. There was too much of waiting & these staffs were too hurry in serving food & asking people to finish meal & leave quickly. I can understand there is a waiting and staffs should approach in a positive way. I will never go there again!\\n\\nbangaloreepicure.com\"), ('Rated 4.0', 'RATED\\n  I have a confession, being a south Indian I distaste south Indian food(not that I hate it, I don\\'t like it either).But still made up my mind on Sankaranti to have authentic south Indian food visited \"Adduri Udupi Bhojana\" because it was close to my place.I just had a look at the menu told myself that I can do it(I am not blessed with a tremendous appetite).welcomed with the mango soup followed by the wide variety of dishes served, I have developed the new love for Pongal(both sweet and Khara).I can still feel the taste of the ghee bursting in my mouth but it was\"kai holige\" that made my day, crisp and soft.not to forget food is served on a banana leaf that adds in more flavor and taste.waiters are attentive and responsive.The customer\\'s needs are monitored and addressed.so much variety for just 160Rs without compromising on quantity and quality and yes it is unlimited.This visit turned out to be a surprise package.'), ('Rated 3.5', 'RATED\\n  Food is good.\\nNo parking\\nAmbience is average\\nOverall its value for money if you looking for south Indian food.\\nPreferred the tiffin items......'), ('Rated 3.0', \"RATED\\n  Been here last week with high expectations based on few reviews. But utterly disappointed with the food quality & taste. I feel it's an overhyped place! There are many better places in the vicinity for Plantain leaf meal. There was too much of waiting & these staffs were too hurry in serving food & asking people to finish meal & leave quickly. I can understand there is a waiting and staffs should approach in a positive way. I will never go there again!\\n\\nbangaloreepicure.com\"), ('Rated 4.0', 'RATED\\n  I have a confession, being a south Indian I distaste south Indian food(not that I hate it, I don\\'t like it either).But still made up my mind on Sankaranti to have authentic south Indian food visited \"Adduri Udupi Bhojana\" because it was close to my place.I just had a look at the menu told myself that I can do it(I am not blessed with a tremendous appetite).welcomed with the mango soup followed by the wide variety of dishes served, I have developed the new love for Pongal(both sweet and Khara).I can still feel the taste of the ghee bursting in my mouth but it was\"kai holige\" that made my day, crisp and soft.not to forget food is served on a banana leaf that adds in more flavor and taste.waiters are attentive and responsive.The customer\\'s needs are monitored and addressed.so much variety for just 160Rs without compromising on quantity and quality and yes it is unlimited.This visit turned out to be a surprise package.'), ('Rated 3.5', 'RATED\\n  Food is good.\\nNo parking\\nAmbience is average\\nOverall its value for money if you looking for south Indian food.\\nPreferred the tiffin items......'), ('Rated 4.0', \"RATED\\n  Had been on a week night for an authentic south Indian food. I personally love being served on banyan leaf. The waiters are all dressed up in traditional Mysore attire wearing with a peta. The food was delicious and definitely worth it's price. The waiters are friendly and serve u well with a smile. The food is prepared without garlic which is a plus point attracting many senior customers.\"), ('Rated 3.5', \"RATED\\n  Food is good and enjoyed. With 150 Rs. is very nice.\\nNote: (It happen with us)\\n - If you going TWO people, you may need to share the table there. Its almost crowed.\\n - You have to sit where they ask, you can't choose even if all the table are empty. \\nJust wait, eat and come back.\"), ('Rated 5.0', 'RATED\\n  Excellent Ambience with delicious meals with 10-15 variety types. Worth paying for money and you can dine out if you are with more friends/relatives in home.'), ('Rated 4.5', 'RATED\\n  Very good and Unlimited . especially masala dosa . Service and ambience was also good. will visit again with friends . very very reasonble and wholesome food'), ('Rated 3.5', 'RATED\\n  Aaaa wt to tell, Unlimited food, food was like exactly like south indian marriage food, 2 soups, sides masala dosa, all were unlimited for just ?150, except ice cream in the end ?? they give a water bottle, and main thing is have patience to get place to sit..... ??,there is no parking place of this outlet, and difficult to park in front of the restaurants,')]   \n",
       "4  [('Rated 4.0', 'RATED\\n  Very good restaurant in neighbourhood. Buffet system is properly arranged. Variety of dishes along with garba dance and puppet show. Good spread of desserts. Live paratha / Kulcha making'), ('Rated 4.0', 'RATED\\n  Great service, overwhelming experience.\\n\\nOne of its kind experience. Grand village offers you some very desi food options.\\n\\nJaljeera, buttermilk, chat papdi, bhajiya, dosa, pav bhaji, noodles, and so many curries kulcha, roti, and garama garam Jalebies, gulab jamuns.\\n\\nBeautiful ambience of village. People serving with smiles and with full heart !!\\n\\nSo here goes my overall ratings :\\nFood : 4/5\\nAmbience : 3.5/5\\nService : 4/5\\nPocket friendly : 4/5')]                                                                                                                                                                                                                                                                                                                                                                                                                                                                                                                                                                                                                                                                                                                                                                                                                                                                                                                                                                                                                                                                                                                                                                                                                                                                                                                                                                                                                                                                                                                                                                                                                                                                                                                                                                                                                                                                                                                                                                                                                                                                                                                                                                                                                                                                                                                                                                                                                                                                                                                                                                                                                                                                                                                                                                                                                                                                                                                                                                                                                                                                                                                                                                                                                                                                                                                                                                                                                                                                                                                                                                                                                                                                                                                                                                                                                                                                                                                                                                                                                                                                                                                                                                                                                                                                                                                                                                                                                                                                                                                                                                                                                                                                                                                                                                                                                                                                                                                                                                                                                                                                                                                                                                                                                                                                                                                                                                                                                                                                                                                                                                                                                                                                                                                                                                                                                                                                                                                                                                                                                                                                                                                                                                                                                                                                                                                                                                                                                                                                                                                                                                                                                                                                                                                                                                                                                                                                                                                                                                                                                                                                                                                                                                                                                                                                                                                                                                                                                                                                                                                                                                                                                                                                                                                                                                                                                                                                                                                                                                                                                                                                                                                                                                                                                                                                                                                                                                                                                                                                                                                                                                                                                                                                                                                                                                                                                                                                                                                                                                                                                                                                                                                                                                                                                                                                                                                                                                                                                                                                                                                                                                                                                                                                                                                                                                                                                                                                                                                                                                                                                                                                                                                                                                                                                                                                                                                                                                                                                                                                                                                                                                                                                                                                                                                                                                                                                                                                                                                                                                                                                                                                                                                                                                                                                                                                                                                                                                                                                                                                                                                                                                                                                                                                                                                                                                                                                                                                                                                                                                                                                                                                                                                                                                                                                                                                                                                                                                                                                                                                                                                                                                                                                                                                                                                                                                                                                                                                                                                                                                                                                                                                                                                                                                                                                                                                                                                                                                                                                                                                                                                                                                                                                                                                                                                                                                                                                                                                                                                                                                                                                                                                                                                                                                                                                                                                                                                                                                                                                                                                                                                                                                                                                                                                                                                                                                 \n",
       "\n",
       "  menu_item listed_in(type) listed_in(city)  \n",
       "0  []        Buffet          Banashankari    \n",
       "1  []        Buffet          Banashankari    \n",
       "2  []        Buffet          Banashankari    \n",
       "3  []        Buffet          Banashankari    \n",
       "4  []        Buffet          Banashankari    "
      ]
     },
     "execution_count": 48,
     "metadata": {},
     "output_type": "execute_result"
    }
   ],
   "source": [
    "zomato_data=pd.read_csv(\"zomato.csv\")\n",
    "zomato_data.head()"
   ]
  },
  {
   "cell_type": "code",
   "execution_count": 49,
   "metadata": {
    "ExecuteTime": {
     "end_time": "2019-11-10T06:25:32.888247Z",
     "start_time": "2019-11-10T06:25:32.856120Z"
    }
   },
   "outputs": [
    {
     "data": {
      "text/plain": [
       "(51717, 17)"
      ]
     },
     "execution_count": 49,
     "metadata": {},
     "output_type": "execute_result"
    }
   ],
   "source": [
    "zomato_data.shape"
   ]
  },
  {
   "cell_type": "code",
   "execution_count": 50,
   "metadata": {
    "ExecuteTime": {
     "end_time": "2019-11-10T06:25:32.931108Z",
     "start_time": "2019-11-10T06:25:32.890496Z"
    }
   },
   "outputs": [
    {
     "data": {
      "text/plain": [
       "Delivery              25942\n",
       "Dine-out              17779\n",
       "Desserts              3593 \n",
       "Cafes                 1723 \n",
       "Drinks & nightlife    1101 \n",
       "Buffet                882  \n",
       "Pubs and bars         697  \n",
       "Name: listed_in(type), dtype: int64"
      ]
     },
     "execution_count": 50,
     "metadata": {},
     "output_type": "execute_result"
    }
   ],
   "source": [
    "zomato_data['listed_in(type)'].value_counts()"
   ]
  },
  {
   "cell_type": "markdown",
   "metadata": {},
   "source": [
    "We have 51K restaurant reviews in the data. For each restaurant, there is an reviews list containing the review rating and the review comments. Let us extract these into a seperate dataframe. Also, so that we do not lose the other restaurant information, let us create a new resturant ID. Also, let us filter out for restraurant which have \"Buffet\""
   ]
  },
  {
   "cell_type": "markdown",
   "metadata": {},
   "source": [
    "### Filter out \"Buffet\" Resturants"
   ]
  },
  {
   "cell_type": "code",
   "execution_count": 51,
   "metadata": {
    "ExecuteTime": {
     "end_time": "2019-11-10T06:25:33.051233Z",
     "start_time": "2019-11-10T06:25:32.933089Z"
    }
   },
   "outputs": [
    {
     "name": "stdout",
     "output_type": "stream",
     "text": [
      "(882, 17)\n"
     ]
    }
   ],
   "source": [
    "## Filter out all restaurants for Dine-Out\n",
    "zomato_data=zomato_data[zomato_data['listed_in(type)']=='Buffet']\n",
    "print(zomato_data.shape)\n",
    "zomato_data['id']=zomato_data.index\n",
    "#print(zomato_data.head())"
   ]
  },
  {
   "cell_type": "code",
   "execution_count": 52,
   "metadata": {
    "ExecuteTime": {
     "end_time": "2019-11-10T06:25:33.117177Z",
     "start_time": "2019-11-10T06:25:33.053157Z"
    }
   },
   "outputs": [
    {
     "data": {
      "text/html": [
       "<div>\n",
       "<style scoped>\n",
       "    .dataframe tbody tr th:only-of-type {\n",
       "        vertical-align: middle;\n",
       "    }\n",
       "\n",
       "    .dataframe tbody tr th {\n",
       "        vertical-align: top;\n",
       "    }\n",
       "\n",
       "    .dataframe thead th {\n",
       "        text-align: right;\n",
       "    }\n",
       "</style>\n",
       "<table border=\"1\" class=\"dataframe\">\n",
       "  <thead>\n",
       "    <tr style=\"text-align: right;\">\n",
       "      <th></th>\n",
       "      <th>url</th>\n",
       "      <th>address</th>\n",
       "      <th>name</th>\n",
       "      <th>online_order</th>\n",
       "      <th>book_table</th>\n",
       "      <th>rate</th>\n",
       "      <th>votes</th>\n",
       "      <th>phone</th>\n",
       "      <th>location</th>\n",
       "      <th>rest_type</th>\n",
       "      <th>dish_liked</th>\n",
       "      <th>cuisines</th>\n",
       "      <th>approx_cost(for two people)</th>\n",
       "      <th>reviews_list</th>\n",
       "      <th>menu_item</th>\n",
       "      <th>listed_in(type)</th>\n",
       "      <th>listed_in(city)</th>\n",
       "      <th>id</th>\n",
       "    </tr>\n",
       "  </thead>\n",
       "  <tbody>\n",
       "    <tr>\n",
       "      <th>0</th>\n",
       "      <td>https://www.zomato.com/bangalore/jalsa-banashankari?context=eyJzZSI6eyJlIjpbNTg2OTQsIjE4Mzc1NDc0IiwiNTkwOTAiLCIxODM4Mjk0NCIsIjE4MjI0Njc2IiwiNTkyODkiLCIxODM3MzM4NiJdLCJ0IjoiUmVzdGF1cmFudHMgaW4gQmFuYXNoYW5rYXJpIHNlcnZpbmcgQnVmZmV0In19</td>\n",
       "      <td>942, 21st Main Road, 2nd Stage, Banashankari, Bangalore</td>\n",
       "      <td>Jalsa</td>\n",
       "      <td>Yes</td>\n",
       "      <td>Yes</td>\n",
       "      <td>4.1/5</td>\n",
       "      <td>775</td>\n",
       "      <td>080 42297555\\r\\n+91 9743772233</td>\n",
       "      <td>Banashankari</td>\n",
       "      <td>Casual Dining</td>\n",
       "      <td>Pasta, Lunch Buffet, Masala Papad, Paneer Lajawab, Tomato Shorba, Dum Biryani, Sweet Corn Soup</td>\n",
       "      <td>North Indian, Mughlai, Chinese</td>\n",
       "      <td>800</td>\n",
       "      <td>[('Rated 4.0', 'RATED\\n  A beautiful place to dine in.The interiors take you back to the Mughal era. The lightings are just perfect.We went there on the occasion of Christmas and so they had only limited items available. But the taste and service was not compromised at all.The only complaint is that the breads could have been better.Would surely like to come here again.'), ('Rated 4.0', 'RATED\\n  I was here for dinner with my family on a weekday. The restaurant was completely empty. Ambience is good with some good old hindi music. Seating arrangement are good too. We ordered masala papad, panner and baby corn starters, lemon and corrionder soup, butter roti, olive and chilli paratha. Food was fresh and good, service is good too. Good for family hangout.\\nCheers'), ('Rated 2.0', 'RATED\\n  Its a restaurant near to Banashankari BDA. Me along with few of my office friends visited to have buffet but unfortunately they only provide veg buffet. On inquiring they said this place is mostly visited by vegetarians. Anyways we ordered ala carte items which took ages to come. Food was ok ok. Definitely not visiting anymore.'), ('Rated 4.0', 'RATED\\n  We went here on a weekend and one of us had the buffet while two of us took Ala Carte. Firstly the ambience and service of this place is great! The buffet had a lot of items and the good was good. We had a Pumpkin Halwa intm the dessert which was amazing. Must try! The kulchas are great here. Cheers!'), ('Rated 5.0', 'RATED\\n  The best thing about the place is itÃ\\x83Ã\\x83Ã\\x82Ã\\x82Ã\\x83Ã\\x82Ã\\x82Ã\\x92s ambiance. Second best thing was yummy ? food. We try buffet and buffet food was not disappointed us.\\nTest ?. ?? ?? ?? ?? ??\\nQuality ?. ??????????.\\nService: Staff was very professional and friendly.\\n\\nOverall experience was excellent.\\n\\nsubirmajumder85.wixsite.com'), ('Rated 5.0', 'RATED\\n  Great food and pleasant ambience. Expensive but Coll place to chill and relax......\\n\\nService is really very very good and friendly staff...\\n\\nFood : 5/5\\nService : 5/5\\nAmbience :5/5\\nOverall :5/5'), ('Rated 4.0', 'RATED\\n  Good ambience with tasty food.\\nCheese chilli paratha with Bhutta palak methi curry is a good combo.\\nLemon Chicken in the starters is a must try item.\\nEgg fried rice was also quite tasty.\\nIn the mocktails, recommend \"Alice in Junoon\". Do not miss it.'), ('Rated 4.0', 'RATED\\n  You canÃ\\x83Ã\\x83Ã\\x82Ã\\x82Ã\\x83Ã\\x82Ã\\x82Ã\\x92t go wrong with Jalsa. Never been a fan of their buffet and thus always order alacarteÃ\\x83Ã\\x83Ã\\x82Ã\\x82Ã\\x83Ã\\x82Ã\\x82Ã\\x92. Service at times can be on the slower side but food is worth the wait.'), ('Rated 5.0', 'RATED\\n  Overdelighted by the service and food provided at this place. A royal and ethnic atmosphere builds a strong essence of being in India and also the quality and taste of food is truly authentic. I would totally recommend to visit this place once.'), ('Rated 4.0', 'RATED\\n  The place is nice and comfortable. Food wise all jalea outlets maintain a good standard. The soya chaap was a standout dish. Clearly one of trademark dish as per me and a must try.\\n\\nThe only concern is the parking. It very congested and limited to just 5cars. The basement parking is very steep and makes it cumbersome'), ('Rated 4.0', 'RATED\\n  The place is nice and comfortable. Food wise all jalea outlets maintain a good standard. The soya chaap was a standout dish. Clearly one of trademark dish as per me and a must try.\\n\\nThe only concern is the parking. It very congested and limited to just 5cars. The basement parking is very steep and makes it cumbersome'), ('Rated 4.0', 'RATED\\n  The place is nice and comfortable. Food wise all jalea outlets maintain a good standard. The soya chaap was a standout dish. Clearly one of trademark dish as per me and a must try.\\n\\nThe only concern is the parking. It very congested and limited to just 5cars. The basement parking is very steep and makes it cumbersome')]</td>\n",
       "      <td>[]</td>\n",
       "      <td>Buffet</td>\n",
       "      <td>Banashankari</td>\n",
       "      <td>0</td>\n",
       "    </tr>\n",
       "    <tr>\n",
       "      <th>1</th>\n",
       "      <td>https://www.zomato.com/bangalore/spice-elephant-banashankari?context=eyJzZSI6eyJlIjpbIjU4Njk0IiwxODM3NTQ3NCwiNTkwOTAiLCIxODM4Mjk0NCIsIjE4MjI0Njc2IiwiNTkyODkiLCIxODM3MzM4NiJdLCJ0IjoiUmVzdGF1cmFudHMgaW4gQmFuYXNoYW5rYXJpIHNlcnZpbmcgQnVmZmV0In19</td>\n",
       "      <td>2nd Floor, 80 Feet Road, Near Big Bazaar, 6th Block, Kathriguppe, 3rd Stage, Banashankari, Bangalore</td>\n",
       "      <td>Spice Elephant</td>\n",
       "      <td>Yes</td>\n",
       "      <td>No</td>\n",
       "      <td>4.1/5</td>\n",
       "      <td>787</td>\n",
       "      <td>080 41714161</td>\n",
       "      <td>Banashankari</td>\n",
       "      <td>Casual Dining</td>\n",
       "      <td>Momos, Lunch Buffet, Chocolate Nirvana, Thai Green Curry, Paneer Tikka, Dum Biryani, Chicken Biryani</td>\n",
       "      <td>Chinese, North Indian, Thai</td>\n",
       "      <td>800</td>\n",
       "      <td>[('Rated 4.0', 'RATED\\n  Had been here for dinner with family. Turned out to be a good choose suitable for all ages of people. Can try this place. We liked the most was their starters. Service is good. Prices are affordable. Will recommend this restaurant for early dinner. The place is little noisy.'), ('Rated 3.0', 'RATED\\n  The ambience is really nice, staff is courteous. The price is pretty high for the quantity, but overall the experience was fine. The quality of food is nice but nothing extraordinary. They also have buffet(only veg)'), ('Rated 3.0', 'RATED\\n  I felt good is little expensive for the quantity they serve and In terms of taste is decent. There is nothing much to talk about the ambience, regular casual dining restaurant where you can take your family for dinner or lunch. If they improve on that quantity or may be reduce the price a bit or may be improve the presentation of the food it might Manage to get more repeat customers.'), ('Rated 4.0', 'RATED\\n  I was looking for a quite place to spend some time with family and as well wanted to try some new place. Since I was at Banashankari I thought of trying this place. The place had good rating and was part of Zomato gold. So I decided to try this place. It was a delite to see a very friendly staff and food we ordered was very tasty as well.\\n\\nFood : 4/5\\nAmbience :3/5\\nFriendly staff : 4/5\\nPocket friendly : 4/5\\n\\nWill definitely visit again ??'), ('Rated 4.0', \"RATED\\n  Nice place to dine and has a good ambiance... Food is good and the serving time is also good..neat restrooms and we'll arranged tables....only thing is we went at 12.30 for lunch...and we noticed that they kept on playing one music back to back which was a little annoying...\\n\\n1. Chicken biriyani was so good and the chicken was fresh and tender ,rice was well cooked and overall was great\\n\\n2. Mutton biriyani was very very good and tasty and It had plenty of mutton pieces...\"), ('Rated 5.0', 'RATED\\n  This place just cool ? with good ambience and slow music and having delicious food is where you find peace. Staff very friendly and they have maintained the place so clean. The price is average for what the quantity of food they serve.\\nThom yum Thai soup was best and was treat to mouth, roti was soft with that vilaythi paneer was perfect to have for veggie foodies, in rice we tried burnt garlic fried rice with vegetables and it was the perfect thing to end.'), ('Rated 4.0', \"RATED\\n  Quiet a good family type of place.. too calm and usually we don't find crowd here.. panner curry and the deserts is what we had tasted.. they wer really good but we found it a little expensive\"), ('Rated 2.0', \"RATED\\n  I had a very bad experience here.\\nI don't know about a la carte, but the buffet was the worst. They gave us complementary drink and momos before the buffet. The momos were really good.\\nThe number of varieties first of all was very disappointing. The service was very slow. They refilled the food very slowly. The starters were okay. The main course also was so so. There was two gravies with roti and some rice with raitha. They had chats, sev puri and pan puri, which was average. But the desert was disappointing. They had gulab Jamun and chocolate cake. The jamun was not cooked inside. There was a cold blob of raw dough inside. The chocolate cake also was really hard and not that good.\\nOverall the buffet was a bad experience for me.\"), ('Rated 4.0', \"RATED\\n  Food: 8/10\\nAmbience:8/10\\nStaff:8/10\\nOne of the good places to try north Indian food...but depends on ur taste buds. Not everyone will like all the items here. Specially when u r particular abt sweet and spicy food.\\nThere's buffet available too.\\nWe had ordered paneer uttar dakshin and paneer kurchan..was amazing. The Gobi hara pyaz and mix veg were average.\"), ('Rated 3.0', 'RATED\\n  A decent place for a family lunch or dinner.. well arranged in a simple manner. Food was tasty and the crew was very helpful and understanding..'), ('Rated 4.0', \"RATED\\n  Great place to have a heavy lunch. Good service.\\nThe chicken biryani was undoubtedly one of the best I've had. Biriyani and Lassi would be the suggested combo. Buffet is the talk of the place, so try according to your appetite. A nice place.\"), ('Rated 4.0', 'RATED\\n  Its the one restaurant near katriguppe that i found was really good. Good variety of Chinese and thai dishes. Service is good and good place to hangout with family as its a peaceful place where noise is really less and good view.'), ('Rated 2.0', \"RATED\\n  Spice elephant soup SPL: almost manchow flavour soup.. Just above medium spicy\\n\\nLasooni fish tikka was awesome\\n\\nI don't remember the dessert name but I have attached the photo .. It had vanilla ice inside wafers... Wafer was hell hard, egg smell chewy ... Nightmare dessert !\\n\\nTable leg space was very bad... I was so uncomfortable, the whole time kept on adjusting my legs\\n\\nNo parking\\n\\nFor the taste felt this is too costly\"), ('Rated 4.0', 'RATED\\n  Zomato gold partner at this price. It was insane. They have really nice food. small place with very courteous staff and very cheap food for this ambience. Cost of soups is 80-100. Starters from 150-250. Main course 200-300. Cost for two was 800 for us.')]</td>\n",
       "      <td>[]</td>\n",
       "      <td>Buffet</td>\n",
       "      <td>Banashankari</td>\n",
       "      <td>1</td>\n",
       "    </tr>\n",
       "    <tr>\n",
       "      <th>2</th>\n",
       "      <td>https://www.zomato.com/SanchurroBangalore?context=eyJzZSI6eyJlIjpbIjU4Njk0IiwiMTgzNzU0NzQiLDU5MDkwLCIxODM4Mjk0NCIsIjE4MjI0Njc2IiwiNTkyODkiLCIxODM3MzM4NiJdLCJ0IjoiUmVzdGF1cmFudHMgaW4gQmFuYXNoYW5rYXJpIHNlcnZpbmcgQnVmZmV0In19</td>\n",
       "      <td>1112, Next to KIMS Medical College, 17th Cross, 2nd Stage, Banashankari, Bangalore</td>\n",
       "      <td>San Churro Cafe</td>\n",
       "      <td>Yes</td>\n",
       "      <td>No</td>\n",
       "      <td>3.8/5</td>\n",
       "      <td>918</td>\n",
       "      <td>+91 9663487993</td>\n",
       "      <td>Banashankari</td>\n",
       "      <td>Cafe, Casual Dining</td>\n",
       "      <td>Churros, Cannelloni, Minestrone Soup, Hot Chocolate, Pink Sauce Pasta, Salsa, Veg Supreme Pizza</td>\n",
       "      <td>Cafe, Mexican, Italian</td>\n",
       "      <td>800</td>\n",
       "      <td>[('Rated 3.0', \"RATED\\n  Ambience is not that good enough and it's not a pocket friendly cafe and the quantity is not that good and desserts are too good enough ??..\"), ('Rated 3.0', \"RATED\\n \\nWent there for a quick bite with friends.\\nThe ambience had more of corporate feel. I would say it was unique.\\nTried nachos, pasta churros and lasagne.\\n\\nNachos were pathetic.( Seriously don't order)\\nPasta was okayish.\\nLasagne was good.\\nNutella churros were the best.\\nOverall an okayish experience!\\nPeace ??\"), ('Rated 4.0', \"RATED\\n  First of all, a big thanks to the staff of this Cafe. Very polite and courteous.\\n\\nI was there 15mins before their closing time. Without any discomfort or hesitation, the staff welcomed me with a warm smile and said they're still open, though they were preparing to close the cafe for the day.\\n\\nQuickly ordered the Thai green curry, which is served with rice. They got it for me within 10mins, hot and freshly made.\\n\\nIt was tasty with the taste of coconut milk. Not very spicy, it was mild spicy.\\n\\nI saw they had yummy looking dessert menu, should go there to try them out!\\n\\nA good spacious place to hang out for coffee, pastas, pizza or Thai food.\"), ('Rated 3.0', \"RATED\\n  A place for people who love churos. Otherwise it's a normal simple cafe like any other in town . Can go and spend the evening there . The positive being it is one of the better cafes in and around Banashankari and also the place is not very crowded .\"), ('Rated 3.0', 'RATED\\n  Have been visiting this place since years. The quality has gone down drastically. Food quality has become very average from good. Service is also very bad of late.'), ('Rated 1.0', 'RATED\\n  Really disappointed with the place.\\n\\nSeems like a old dusty store room stacked up with old sofas and chairs! The decor is soo disappointing that I cannot put it in words!\\nLastly the food was cherry on the cake to make it a complete worse meal.\\n\\nThis place is the last option you should ever consider.'), ('Rated 3.0', 'RATED\\n  Congested atmosphere due to smoke from kitchen\\nAmbience was k\\nService was k .\\nChuros was a new experience recommended\\nNear to kims . Parking was not der'), ('Rated 1.0', \"RATED\\n  Cockroaches !! I Repeat cockroaches!!Bakasura was disappointed.\\nBeing in Banashankari, being a gold outlet and nesting them? who can even think of that. Thankfully it wasn't over bakasura's plate. The ambience was last cleaned a decade back i guess. A cockroach just walked over our table. As it was alive, and well moving , the bakasura couldnt take a pic of it. Then the staff had to actually take it out of our table. Such ambience ? like what are you upto?\\n\\nBakasura disapproves. I dont even want to talk about the food.\"), ('Rated 4.0', 'RATED\\n  A nice place to hangout, this place looks professional and also cute. If anyone is trying churros for the first the time, this is the place to go. Cheesecake is pretty amazing too.\\nRecommended.'), ('Rated 4.0', 'RATED\\n  1) pizza mocktails shakes and churros really very good\\n2) staff good\\n3) ambience simple and nice good\\n4) location of San churro cafe very nice\\n5) over San churro cafe good....'), ('Rated 3.0', \"RATED\\n  One of my favourite places that I often visit in South bangalore , but quality has been reduced than before. Little unhappy with the food this time.\\nBut their churros never dissapointed me. Staff are too slow and do not respond easily.\\n\\nSoups:\\nMinestrone soup was like vegetable stock water with vegetables in it, not happy with it.\\n\\nChurros :\\nIt was great as usual. A must visit place if u love churros.\\n\\nStarters:\\n1. Africano panner -\\nIt was bit sweet and not happy with the dish!!\\n2. Loaded nachos -\\nThis happened to be their one of the best dishes, but now I take back my words. Very dissapointed with the dish.\\n\\nMain course:\\nsicilia pizza\\nPizza was too good, it's a must try dish.\\n\\nFinally I would recommend this place for churros and pizza .\\n\\nTaste : 6/10\\nAmbience :7/10\\nValue for money : 8/10\\n\\nOverall experience : 7.5/10\"), ('Rated 4.0', 'RATED\\n  Visited this place long before, place come to.notice with the decoration lights outside the cafe. We ordered churos, pizza and hot chocolate, all were good just I little priced more.'), ('Rated 4.0', 'RATED\\n  Spain pictures of Churros triggered Nostalgia about it , which led to Google search for Churro places in city , lucky we to get the result as San Churro cafe , we had an delectable churros here along with hot chocolate and Nachos ! Thanks for fulfilling our thirst of Spanish Churros !\\nFood : ???\\nChurros ???\\nHot Chocolate ?\\nNachos ??\\n\\nService : ??\\n\\nAmbiance : ?\\n\\nCleanliness : ??\\n\\nOne drawback : Store had some flies, I hope they take care of them for our next tour ?'), ('Rated 3.0', 'RATED\\n  Ã\\x83Ã\\x83Ã\\x82Ã\\x82Ã\\x83Ã\\x82Ã\\x82Ã\\x93Chocolaty and churroic experienceÃ\\x83Ã\\x83Ã\\x82Ã\\x82Ã\\x83Ã\\x82Ã\\x82Ã\\x94\\n\\nHit chocolate and churro with chocolate dip in the picture.\\n\\nMy first time at this restaurant and it has delivered in service, options as well as taste.'), ('Rated 4.0', 'RATED\\n  Though very sadly the place looks in need of retouching, but the food was great! Especially when it was super cold outside and we were super hungry, the staff was nice. We ordered the pink pasta and a pizza. Both of them were pretty good. Was really tempted to try their Churros but we were stuffed. Worth a visit and try for sure!'), ('Rated 3.0', \"RATED\\n  Churros, the restaurant's eponymous offering, has to be tried. They're a Mexican snack and served with chocolate sauce. Milkshakes are good too. The interior walls have murals and writings all over. Haven't tried the pizzas here but the cakes and pastries were pretty good.\"), ('Rated 3.0', \"RATED\\n  Honestly, have only tried parcels and that too only starters and mains - never tried desserts. So this review is based on starters and mains only. The quality wasn't all that great, was pretty average.\"), ('Rated 4.0', \"RATED\\n  Visited this place for the first time, recently. The ambience was pretty good. We ordered two 'churros for two'. Having churros for the first time ever, I was way too excited and judgmental. But swear to Lord, the churros were heavenly! The chocolate sauce was the actual chocolate sauce and not nutella xD We had taken the Cross Country Ranch pizza. It was a thin crust pizza loaded with veggies.\\nThe place is famous for churros (the name suggests so). I would love to visit again to try all the other items out :')\"), ('Rated 4.0', 'RATED\\n  I love the desserts more than anything here !Good place and well served !:)\\nWe dint like the nachos here , it was not that good as we expected !\\nExcept nachos almost all dish were quite good!'), ('Rated 2.0', \"RATED\\n  2nd time I have visited this place and I am surprised to see how it has declined. Churros was hard, pizza was pathetic, loaded nachos and masala Garlic bread were topped with cheese with MAYO! Yes mayonnese.. Soup has the bread crumbs in almost melted state, mocktails were average and our only Savior was pasta and caramel pudding... This place has high potential but let down by dull ambience, pretty slow and inattentive staff. Buffet price was listed as 399 but was charged 499, We still went ahead and took the deal to be very disappointed!! Most dishes were freshly cooked hence going with some starts else would rate them lower. I did not find a single person who seemed happy with their meal as moat complained about one thing or the other. That'll be my last visit San Churros.\")]</td>\n",
       "      <td>[]</td>\n",
       "      <td>Buffet</td>\n",
       "      <td>Banashankari</td>\n",
       "      <td>2</td>\n",
       "    </tr>\n",
       "    <tr>\n",
       "      <th>3</th>\n",
       "      <td>https://www.zomato.com/bangalore/addhuri-udupi-bhojana-banashankari?context=eyJzZSI6eyJlIjpbIjU4Njk0IiwiMTgzNzU0NzQiLCI1OTA5MCIsMTgzODI5NDQsIjE4MjI0Njc2IiwiNTkyODkiLCIxODM3MzM4NiJdLCJ0IjoiUmVzdGF1cmFudHMgaW4gQmFuYXNoYW5rYXJpIHNlcnZpbmcgQnVmZmV0In19</td>\n",
       "      <td>1st Floor, Annakuteera, 3rd Stage, Banashankari, Bangalore</td>\n",
       "      <td>Addhuri Udupi Bhojana</td>\n",
       "      <td>No</td>\n",
       "      <td>No</td>\n",
       "      <td>3.7/5</td>\n",
       "      <td>88</td>\n",
       "      <td>+91 9620009302</td>\n",
       "      <td>Banashankari</td>\n",
       "      <td>Quick Bites</td>\n",
       "      <td>Masala Dosa</td>\n",
       "      <td>South Indian, North Indian</td>\n",
       "      <td>300</td>\n",
       "      <td>[('Rated 4.0', \"RATED\\n  Great food and proper Karnataka style full meals. Been there twice and was fully satisfied.. Will give 5 stars if it's well managed............\"), ('Rated 2.0', 'RATED\\n  Reached the place at 3pm on Saturday. Half of the items on the menu were over. What was annoying was is the food was cold. The taste was also very average. Only dosa and holige were good. There were very few people in the restaurant and the service was still very slow. The waiters were all standing in one corner and talking. Had to call them repeatedly.'), ('Rated 4.0', 'RATED\\n  Had been here, good food served and tasty,good place to go with freinds and family, should be first to get served well with all food. One of the good hotel there for this price.'), ('Rated 2.0', 'RATED\\n  How can a Udupi restaurant be so dirty.the floor the walls the waiters are all stained in food.Why cant they clean it? The floor even had decorative colour paper every where and lot of food.Now coming to the taste of the food- it was pretty decent for what they chargw.What upset us was the menu says they serve thambuli, two variety of rice etc but they were all over at 2.45 but they still charged us full amount.Lastly if u r ok to b seated with random people and adjust with their table manners( burrping etc) then tis place is decent for a quick veg udupi meals'), ('Rated 4.0', 'RATED\\n  Aadhuri Udupi bhojana is one of the best vegetarian hotel in and around Banashankari locality\\nwere we can enjoy the authentic south Karnataka style food.'), ('Rated 5.0', 'RATED\\n  One of the best restaurants for unlimited food. Price for one full unlimited meal is ?150 and the service is awesome here. If youÃ\\x83Ã\\x83Ã\\x82Ã\\x82Ã\\x83Ã\\x82Ã\\x82Ã\\x92re a costalian you will love the food served here.'), ('Rated 4.0', \"RATED\\n  Been here a couple of times. Highly satisfying on both the ocassions. Great food. Decent service. At price of 160 per person it is of a great value. The staff here serves in a traditional Mysore style dresses. The food is authentic Karnataka meals. I really liked the pineapple pickle/chutney. They serve some 4 varities of rice of which you shouldn't try all as you would already be full. Roti, Dosa were decent. In the deserts, Payasam&amp; Holige were good.\\nI think it is one the must try places to try some authentic south food even if you have been to the likes of Kamath etc. this one is a little different. :)\"), ('Rated 5.0', 'RATED\\n  Very good restorent good south Indian food very nice all food s are good we spent good time and food in this hotel value of money we loved it'), ('Rated 3.5', 'RATED\\n  I went to this restaurant on Sunday afternoon.It was a bit crowded.\\n\\nIts located in the 1st floor Above anna kuteera kathriguppe\\n\\nYou need to take food coupon in the ground floor itself.\\nit was 160 rs.\\n\\nTaste wise it was good.\\nService was slow.\\nNothing exciting/different in the menu.\\nWhatever they serve its good.\\nWorth for money.'), ('Rated 5.0', 'RATED\\n  Awesome place , worth with price , quality , quantity , service , hygiene and discipline I loved it ???? wish there were more rating stars to give I give 100 on 5 for sure'), ('Rated 3.5', 'RATED\\n  Nice food, good ambiance, so many verity of food, this time i was in hurry so, next review will be detailed one. Its good to see all dishes at one place'), ('Rated 1.5', 'RATED\\n  The food was not satisfactory. Not one item served could be eaten again . Only advantage is the price but even that is not going to be enough to make me visit the place again . Dear Udupi staff people wouldnÃ\\x83Ã\\x83Ã\\x82Ã\\x82Ã\\x83Ã\\x82Ã\\x82Ã\\x92t mind if the food quality was better for a higher price and please get more fans so that people wonÃ\\x83Ã\\x83Ã\\x82Ã\\x82Ã\\x83Ã\\x82Ã\\x82Ã\\x92t have to deal with another disappointment of sweating while eating.'), ('Rated 5.0', 'RATED\\n  Excellent quality and taste, more variety of authentic south Indian food. Excellent service. Highly recommended. Worth the money we pay here.'), ('Rated 2.0', \"RATED\\n  I'm rating 2 only because of the large number of items they serve for the price they charge. While the taste is moderate, the biggest turn off is the poor service and totally unresponsive staff. They are either understaffed or poorly trained. I didn't get to taste a few items, thanks to their ever busy staff, and ended eating what was served. Please learn the crowd management from other peers like maiyya and roti ghar\"), ('Rated 5.0', 'RATED\\n  One of my colleagues suggested this place. Went there at 1 pm and place wasnt crowded. Ambience is decent and cool. A welcome drink \"appekai saru\" was served. Then started..typical \"baale yele uta\" . Diffrerent types of palya, kosambari and sides. Then came masala dosa, pulka,pulav, veg rice bath. Masala dosa was very very tasty. Service is bit fast as people will be coming, but they will make it slow if u tell them to. Then comes rice with sambar,rasam, daal,tambali. And yes, dont forget to eat holige,payasam and icecream. Service is very nice. One best thing is all of this comes in just 160 rs and its unlimited!!! What else you want!! A must visit place for south indian foodie!'), ('Rated 3.0', \"RATED\\n  Been here last week with high expectations based on few reviews. But utterly disappointed with the food quality &amp; taste. I feel it's an overhyped place! There are many better places in the vicinity for Plantain leaf meal. There was too much of waiting &amp; these staffs were too hurry in serving food &amp; asking people to finish meal &amp; leave quickly. I can understand there is a waiting and staffs should approach in a positive way. I will never go there again!\\n\\nbangaloreepicure.com\"), ('Rated 4.0', 'RATED\\n  I have a confession, being a south Indian I distaste south Indian food(not that I hate it, I don\\'t like it either).But still made up my mind on Sankaranti to have authentic south Indian food visited \"Adduri Udupi Bhojana\" because it was close to my place.I just had a look at the menu told myself that I can do it(I am not blessed with a tremendous appetite).welcomed with the mango soup followed by the wide variety of dishes served, I have developed the new love for Pongal(both sweet and Khara).I can still feel the taste of the ghee bursting in my mouth but it was\"kai holige\" that made my day, crisp and soft.not to forget food is served on a banana leaf that adds in more flavor and taste.waiters are attentive and responsive.The customer\\'s needs are monitored and addressed.so much variety for just 160Rs without compromising on quantity and quality and yes it is unlimited.This visit turned out to be a surprise package.'), ('Rated 3.5', 'RATED\\n  Food is good.\\nNo parking\\nAmbience is average\\nOverall its value for money if you looking for south Indian food.\\nPreferred the tiffin items......'), ('Rated 3.0', \"RATED\\n  Been here last week with high expectations based on few reviews. But utterly disappointed with the food quality &amp; taste. I feel it's an overhyped place! There are many better places in the vicinity for Plantain leaf meal. There was too much of waiting &amp; these staffs were too hurry in serving food &amp; asking people to finish meal &amp; leave quickly. I can understand there is a waiting and staffs should approach in a positive way. I will never go there again!\\n\\nbangaloreepicure.com\"), ('Rated 4.0', 'RATED\\n  I have a confession, being a south Indian I distaste south Indian food(not that I hate it, I don\\'t like it either).But still made up my mind on Sankaranti to have authentic south Indian food visited \"Adduri Udupi Bhojana\" because it was close to my place.I just had a look at the menu told myself that I can do it(I am not blessed with a tremendous appetite).welcomed with the mango soup followed by the wide variety of dishes served, I have developed the new love for Pongal(both sweet and Khara).I can still feel the taste of the ghee bursting in my mouth but it was\"kai holige\" that made my day, crisp and soft.not to forget food is served on a banana leaf that adds in more flavor and taste.waiters are attentive and responsive.The customer\\'s needs are monitored and addressed.so much variety for just 160Rs without compromising on quantity and quality and yes it is unlimited.This visit turned out to be a surprise package.'), ('Rated 3.5', 'RATED\\n  Food is good.\\nNo parking\\nAmbience is average\\nOverall its value for money if you looking for south Indian food.\\nPreferred the tiffin items......'), ('Rated 3.0', \"RATED\\n  Been here last week with high expectations based on few reviews. But utterly disappointed with the food quality &amp; taste. I feel it's an overhyped place! There are many better places in the vicinity for Plantain leaf meal. There was too much of waiting &amp; these staffs were too hurry in serving food &amp; asking people to finish meal &amp; leave quickly. I can understand there is a waiting and staffs should approach in a positive way. I will never go there again!\\n\\nbangaloreepicure.com\"), ('Rated 4.0', 'RATED\\n  I have a confession, being a south Indian I distaste south Indian food(not that I hate it, I don\\'t like it either).But still made up my mind on Sankaranti to have authentic south Indian food visited \"Adduri Udupi Bhojana\" because it was close to my place.I just had a look at the menu told myself that I can do it(I am not blessed with a tremendous appetite).welcomed with the mango soup followed by the wide variety of dishes served, I have developed the new love for Pongal(both sweet and Khara).I can still feel the taste of the ghee bursting in my mouth but it was\"kai holige\" that made my day, crisp and soft.not to forget food is served on a banana leaf that adds in more flavor and taste.waiters are attentive and responsive.The customer\\'s needs are monitored and addressed.so much variety for just 160Rs without compromising on quantity and quality and yes it is unlimited.This visit turned out to be a surprise package.'), ('Rated 3.5', 'RATED\\n  Food is good.\\nNo parking\\nAmbience is average\\nOverall its value for money if you looking for south Indian food.\\nPreferred the tiffin items......'), ('Rated 3.0', \"RATED\\n  Been here last week with high expectations based on few reviews. But utterly disappointed with the food quality &amp; taste. I feel it's an overhyped place! There are many better places in the vicinity for Plantain leaf meal. There was too much of waiting &amp; these staffs were too hurry in serving food &amp; asking people to finish meal &amp; leave quickly. I can understand there is a waiting and staffs should approach in a positive way. I will never go there again!\\n\\nbangaloreepicure.com\"), ('Rated 4.0', 'RATED\\n  I have a confession, being a south Indian I distaste south Indian food(not that I hate it, I don\\'t like it either).But still made up my mind on Sankaranti to have authentic south Indian food visited \"Adduri Udupi Bhojana\" because it was close to my place.I just had a look at the menu told myself that I can do it(I am not blessed with a tremendous appetite).welcomed with the mango soup followed by the wide variety of dishes served, I have developed the new love for Pongal(both sweet and Khara).I can still feel the taste of the ghee bursting in my mouth but it was\"kai holige\" that made my day, crisp and soft.not to forget food is served on a banana leaf that adds in more flavor and taste.waiters are attentive and responsive.The customer\\'s needs are monitored and addressed.so much variety for just 160Rs without compromising on quantity and quality and yes it is unlimited.This visit turned out to be a surprise package.'), ('Rated 3.5', 'RATED\\n  Food is good.\\nNo parking\\nAmbience is average\\nOverall its value for money if you looking for south Indian food.\\nPreferred the tiffin items......'), ('Rated 3.0', \"RATED\\n  Been here last week with high expectations based on few reviews. But utterly disappointed with the food quality &amp; taste. I feel it's an overhyped place! There are many better places in the vicinity for Plantain leaf meal. There was too much of waiting &amp; these staffs were too hurry in serving food &amp; asking people to finish meal &amp; leave quickly. I can understand there is a waiting and staffs should approach in a positive way. I will never go there again!\\n\\nbangaloreepicure.com\"), ('Rated 4.0', 'RATED\\n  I have a confession, being a south Indian I distaste south Indian food(not that I hate it, I don\\'t like it either).But still made up my mind on Sankaranti to have authentic south Indian food visited \"Adduri Udupi Bhojana\" because it was close to my place.I just had a look at the menu told myself that I can do it(I am not blessed with a tremendous appetite).welcomed with the mango soup followed by the wide variety of dishes served, I have developed the new love for Pongal(both sweet and Khara).I can still feel the taste of the ghee bursting in my mouth but it was\"kai holige\" that made my day, crisp and soft.not to forget food is served on a banana leaf that adds in more flavor and taste.waiters are attentive and responsive.The customer\\'s needs are monitored and addressed.so much variety for just 160Rs without compromising on quantity and quality and yes it is unlimited.This visit turned out to be a surprise package.'), ('Rated 3.5', 'RATED\\n  Food is good.\\nNo parking\\nAmbience is average\\nOverall its value for money if you looking for south Indian food.\\nPreferred the tiffin items......'), ('Rated 4.0', \"RATED\\n  Had been on a week night for an authentic south Indian food. I personally love being served on banyan leaf. The waiters are all dressed up in traditional Mysore attire wearing with a peta. The food was delicious and definitely worth it's price. The waiters are friendly and serve u well with a smile. The food is prepared without garlic which is a plus point attracting many senior customers.\"), ('Rated 3.5', \"RATED\\n  Food is good and enjoyed. With 150 Rs. is very nice.\\nNote: (It happen with us)\\n - If you going TWO people, you may need to share the table there. Its almost crowed.\\n - You have to sit where they ask, you can't choose even if all the table are empty. \\nJust wait, eat and come back.\"), ('Rated 5.0', 'RATED\\n  Excellent Ambience with delicious meals with 10-15 variety types. Worth paying for money and you can dine out if you are with more friends/relatives in home.'), ('Rated 4.5', 'RATED\\n  Very good and Unlimited . especially masala dosa . Service and ambience was also good. will visit again with friends . very very reasonble and wholesome food'), ('Rated 3.5', 'RATED\\n  Aaaa wt to tell, Unlimited food, food was like exactly like south indian marriage food, 2 soups, sides masala dosa, all were unlimited for just ?150, except ice cream in the end ?? they give a water bottle, and main thing is have patience to get place to sit..... ??,there is no parking place of this outlet, and difficult to park in front of the restaurants,')]</td>\n",
       "      <td>[]</td>\n",
       "      <td>Buffet</td>\n",
       "      <td>Banashankari</td>\n",
       "      <td>3</td>\n",
       "    </tr>\n",
       "    <tr>\n",
       "      <th>4</th>\n",
       "      <td>https://www.zomato.com/bangalore/grand-village-basavanagudi?context=eyJzZSI6eyJlIjpbIjU4Njk0IiwiMTgzNzU0NzQiLCI1OTA5MCIsIjE4MzgyOTQ0IiwxODIyNDY3NiwiNTkyODkiLCIxODM3MzM4NiJdLCJ0IjoiUmVzdGF1cmFudHMgaW4gQmFuYXNoYW5rYXJpIHNlcnZpbmcgQnVmZmV0In19</td>\n",
       "      <td>10, 3rd Floor, Lakshmi Associates, Gandhi Bazaar Main Road, Above Reliance Trends, Basavanagudi, Bangalore</td>\n",
       "      <td>Grand Village</td>\n",
       "      <td>No</td>\n",
       "      <td>No</td>\n",
       "      <td>3.8/5</td>\n",
       "      <td>166</td>\n",
       "      <td>+91 8026612447\\r\\n+91 9901210005</td>\n",
       "      <td>Basavanagudi</td>\n",
       "      <td>Casual Dining</td>\n",
       "      <td>Panipuri, Gol Gappe</td>\n",
       "      <td>North Indian, Rajasthani</td>\n",
       "      <td>600</td>\n",
       "      <td>[('Rated 4.0', 'RATED\\n  Very good restaurant in neighbourhood. Buffet system is properly arranged. Variety of dishes along with garba dance and puppet show. Good spread of desserts. Live paratha / Kulcha making'), ('Rated 4.0', 'RATED\\n  Great service, overwhelming experience.\\n\\nOne of its kind experience. Grand village offers you some very desi food options.\\n\\nJaljeera, buttermilk, chat papdi, bhajiya, dosa, pav bhaji, noodles, and so many curries kulcha, roti, and garama garam Jalebies, gulab jamuns.\\n\\nBeautiful ambience of village. People serving with smiles and with full heart !!\\n\\nSo here goes my overall ratings :\\nFood : 4/5\\nAmbience : 3.5/5\\nService : 4/5\\nPocket friendly : 4/5')]</td>\n",
       "      <td>[]</td>\n",
       "      <td>Buffet</td>\n",
       "      <td>Banashankari</td>\n",
       "      <td>4</td>\n",
       "    </tr>\n",
       "  </tbody>\n",
       "</table>\n",
       "</div>"
      ],
      "text/plain": [
       "                                                                                                                                                                                                                                                        url  \\\n",
       "0  https://www.zomato.com/bangalore/jalsa-banashankari?context=eyJzZSI6eyJlIjpbNTg2OTQsIjE4Mzc1NDc0IiwiNTkwOTAiLCIxODM4Mjk0NCIsIjE4MjI0Njc2IiwiNTkyODkiLCIxODM3MzM4NiJdLCJ0IjoiUmVzdGF1cmFudHMgaW4gQmFuYXNoYW5rYXJpIHNlcnZpbmcgQnVmZmV0In19                   \n",
       "1  https://www.zomato.com/bangalore/spice-elephant-banashankari?context=eyJzZSI6eyJlIjpbIjU4Njk0IiwxODM3NTQ3NCwiNTkwOTAiLCIxODM4Mjk0NCIsIjE4MjI0Njc2IiwiNTkyODkiLCIxODM3MzM4NiJdLCJ0IjoiUmVzdGF1cmFudHMgaW4gQmFuYXNoYW5rYXJpIHNlcnZpbmcgQnVmZmV0In19          \n",
       "2  https://www.zomato.com/SanchurroBangalore?context=eyJzZSI6eyJlIjpbIjU4Njk0IiwiMTgzNzU0NzQiLDU5MDkwLCIxODM4Mjk0NCIsIjE4MjI0Njc2IiwiNTkyODkiLCIxODM3MzM4NiJdLCJ0IjoiUmVzdGF1cmFudHMgaW4gQmFuYXNoYW5rYXJpIHNlcnZpbmcgQnVmZmV0In19                             \n",
       "3  https://www.zomato.com/bangalore/addhuri-udupi-bhojana-banashankari?context=eyJzZSI6eyJlIjpbIjU4Njk0IiwiMTgzNzU0NzQiLCI1OTA5MCIsMTgzODI5NDQsIjE4MjI0Njc2IiwiNTkyODkiLCIxODM3MzM4NiJdLCJ0IjoiUmVzdGF1cmFudHMgaW4gQmFuYXNoYW5rYXJpIHNlcnZpbmcgQnVmZmV0In19   \n",
       "4  https://www.zomato.com/bangalore/grand-village-basavanagudi?context=eyJzZSI6eyJlIjpbIjU4Njk0IiwiMTgzNzU0NzQiLCI1OTA5MCIsIjE4MzgyOTQ0IiwxODIyNDY3NiwiNTkyODkiLCIxODM3MzM4NiJdLCJ0IjoiUmVzdGF1cmFudHMgaW4gQmFuYXNoYW5rYXJpIHNlcnZpbmcgQnVmZmV0In19           \n",
       "\n",
       "                                                                                                      address  \\\n",
       "0  942, 21st Main Road, 2nd Stage, Banashankari, Bangalore                                                      \n",
       "1  2nd Floor, 80 Feet Road, Near Big Bazaar, 6th Block, Kathriguppe, 3rd Stage, Banashankari, Bangalore         \n",
       "2  1112, Next to KIMS Medical College, 17th Cross, 2nd Stage, Banashankari, Bangalore                           \n",
       "3  1st Floor, Annakuteera, 3rd Stage, Banashankari, Bangalore                                                   \n",
       "4  10, 3rd Floor, Lakshmi Associates, Gandhi Bazaar Main Road, Above Reliance Trends, Basavanagudi, Bangalore   \n",
       "\n",
       "                    name online_order book_table   rate  votes  \\\n",
       "0  Jalsa                  Yes          Yes        4.1/5  775     \n",
       "1  Spice Elephant         Yes          No         4.1/5  787     \n",
       "2  San Churro Cafe        Yes          No         3.8/5  918     \n",
       "3  Addhuri Udupi Bhojana  No           No         3.7/5  88      \n",
       "4  Grand Village          No           No         3.8/5  166     \n",
       "\n",
       "                              phone      location            rest_type  \\\n",
       "0  080 42297555\\r\\n+91 9743772233    Banashankari  Casual Dining         \n",
       "1  080 41714161                      Banashankari  Casual Dining         \n",
       "2  +91 9663487993                    Banashankari  Cafe, Casual Dining   \n",
       "3  +91 9620009302                    Banashankari  Quick Bites           \n",
       "4  +91 8026612447\\r\\n+91 9901210005  Basavanagudi  Casual Dining         \n",
       "\n",
       "                                                                                             dish_liked  \\\n",
       "0  Pasta, Lunch Buffet, Masala Papad, Paneer Lajawab, Tomato Shorba, Dum Biryani, Sweet Corn Soup         \n",
       "1  Momos, Lunch Buffet, Chocolate Nirvana, Thai Green Curry, Paneer Tikka, Dum Biryani, Chicken Biryani   \n",
       "2  Churros, Cannelloni, Minestrone Soup, Hot Chocolate, Pink Sauce Pasta, Salsa, Veg Supreme Pizza        \n",
       "3  Masala Dosa                                                                                            \n",
       "4  Panipuri, Gol Gappe                                                                                    \n",
       "\n",
       "                         cuisines approx_cost(for two people)  \\\n",
       "0  North Indian, Mughlai, Chinese  800                          \n",
       "1  Chinese, North Indian, Thai     800                          \n",
       "2  Cafe, Mexican, Italian          800                          \n",
       "3  South Indian, North Indian      300                          \n",
       "4  North Indian, Rajasthani        600                          \n",
       "\n",
       "                                                                                                                                                                                                                                                                                                                                                                                                                                                                                                                                                                                                                                                                                                                                                                                                                                                                                                                                                                                                                                                                                                                                                                                                                                                                                                                                                                                                                                                                                                                                                                                                                                                                                                                                                                                                                                                                                                                                                                                                                                                                                                                                                                                                                                                                                                                                                                                                                                                                                                                                                                                                                                                                                                                                                                                                                                                                                                                                                                                                                                                                                                                                                                                                                                                                                                                                                                                                                                                                                                                                                                                                                                                                                                                                                                                                                                                                                                                                                                                                                                                                                                                                                                                                                                                                                                                                                                                                                                                                                                                                                                                                                                                                                                                                                                                                                                                                                                                                                                                                                                                                                                                                                                                                                                                                                                                                                                                                                                                                                                                                                                                                                                                                                                                                                                                                                                                                                                                                                                                                                                                                                                                                                                                                                                                                                                                                                                                                                                                                                                                                                                                                                                                                                                                                                                                                                                                                                                                                                                                                                                                                                                                                                                                                                                                                                                                                                                                                                                                                                                                                                                                                                                                                                                                                                                                                                                                                                                                                                                                                                                                                                                                                                                                                                                                                                                                                                                                                                                                                                                                                                                                                                                                                                                                                                                                                                                                                                                                                                                                                                                                                                                                                                                                                                                                                                                                                                                                                                                                                                                                                                                                                                                                                                                                                                                                                                                                                                                                                                                                                                                                                                                                                                                                                                                                                                                                                                                                                                                                                                                                                                                                                                                                                                                                                                                                                                                                                                                                                                                                                                                                                                                                                                                                                                                                                                                                                                                                                                                                                                                                                                                                                                                                                                                                                                                                                                                                                                                                                                                                                                                                                                                                                                                                                                                                                                                                                                                                                                                                                                                                                                                                                                                                                                                                                                                                                                                                                                                                                                                                                                                                                                                                                                                                                                                                                                                                                                                                                                                                                                                                                                                                                                                                                                                                                                                                                                                                                                                                                                                                                                                                                                                                                                                                                                                                                                                                                                                                                                                                                                                                                                                                                                                                                                                                                                                                                                                                                                                                                                                                                                                                                                                                                                                                                                                                                                                                                                                                                                                                                                   reviews_list  \\\n",
       "0  [('Rated 4.0', 'RATED\\n  A beautiful place to dine in.The interiors take you back to the Mughal era. The lightings are just perfect.We went there on the occasion of Christmas and so they had only limited items available. But the taste and service was not compromised at all.The only complaint is that the breads could have been better.Would surely like to come here again.'), ('Rated 4.0', 'RATED\\n  I was here for dinner with my family on a weekday. The restaurant was completely empty. Ambience is good with some good old hindi music. Seating arrangement are good too. We ordered masala papad, panner and baby corn starters, lemon and corrionder soup, butter roti, olive and chilli paratha. Food was fresh and good, service is good too. Good for family hangout.\\nCheers'), ('Rated 2.0', 'RATED\\n  Its a restaurant near to Banashankari BDA. Me along with few of my office friends visited to have buffet but unfortunately they only provide veg buffet. On inquiring they said this place is mostly visited by vegetarians. Anyways we ordered ala carte items which took ages to come. Food was ok ok. Definitely not visiting anymore.'), ('Rated 4.0', 'RATED\\n  We went here on a weekend and one of us had the buffet while two of us took Ala Carte. Firstly the ambience and service of this place is great! The buffet had a lot of items and the good was good. We had a Pumpkin Halwa intm the dessert which was amazing. Must try! The kulchas are great here. Cheers!'), ('Rated 5.0', 'RATED\\n  The best thing about the place is itÃ\\x83Ã\\x83Ã\\x82Ã\\x82Ã\\x83Ã\\x82Ã\\x82Ã\\x92s ambiance. Second best thing was yummy ? food. We try buffet and buffet food was not disappointed us.\\nTest ?. ?? ?? ?? ?? ??\\nQuality ?. ??????????.\\nService: Staff was very professional and friendly.\\n\\nOverall experience was excellent.\\n\\nsubirmajumder85.wixsite.com'), ('Rated 5.0', 'RATED\\n  Great food and pleasant ambience. Expensive but Coll place to chill and relax......\\n\\nService is really very very good and friendly staff...\\n\\nFood : 5/5\\nService : 5/5\\nAmbience :5/5\\nOverall :5/5'), ('Rated 4.0', 'RATED\\n  Good ambience with tasty food.\\nCheese chilli paratha with Bhutta palak methi curry is a good combo.\\nLemon Chicken in the starters is a must try item.\\nEgg fried rice was also quite tasty.\\nIn the mocktails, recommend \"Alice in Junoon\". Do not miss it.'), ('Rated 4.0', 'RATED\\n  You canÃ\\x83Ã\\x83Ã\\x82Ã\\x82Ã\\x83Ã\\x82Ã\\x82Ã\\x92t go wrong with Jalsa. Never been a fan of their buffet and thus always order alacarteÃ\\x83Ã\\x83Ã\\x82Ã\\x82Ã\\x83Ã\\x82Ã\\x82Ã\\x92. Service at times can be on the slower side but food is worth the wait.'), ('Rated 5.0', 'RATED\\n  Overdelighted by the service and food provided at this place. A royal and ethnic atmosphere builds a strong essence of being in India and also the quality and taste of food is truly authentic. I would totally recommend to visit this place once.'), ('Rated 4.0', 'RATED\\n  The place is nice and comfortable. Food wise all jalea outlets maintain a good standard. The soya chaap was a standout dish. Clearly one of trademark dish as per me and a must try.\\n\\nThe only concern is the parking. It very congested and limited to just 5cars. The basement parking is very steep and makes it cumbersome'), ('Rated 4.0', 'RATED\\n  The place is nice and comfortable. Food wise all jalea outlets maintain a good standard. The soya chaap was a standout dish. Clearly one of trademark dish as per me and a must try.\\n\\nThe only concern is the parking. It very congested and limited to just 5cars. The basement parking is very steep and makes it cumbersome'), ('Rated 4.0', 'RATED\\n  The place is nice and comfortable. Food wise all jalea outlets maintain a good standard. The soya chaap was a standout dish. Clearly one of trademark dish as per me and a must try.\\n\\nThe only concern is the parking. It very congested and limited to just 5cars. The basement parking is very steep and makes it cumbersome')]                                                                                                                                                                                                                                                                                                                                                                                                                                                                                                                                                                                                                                                                                                                                                                                                                                                                                                                                                                                                                                                                                                                                                                                                                                                                                                                                                                                                                                                                                                                                                                                                                                                                                                                                                                                                                                                                                                                                                                                                                                                                                                                                                                                                                                                                                                                                                                                                                                                                                                                                                                                                                                                                                                                                                                                                                                                                                                                                                                                                                                                                                                                                                                                                                                                                                                                                                                                                                                                                                                                                                                                                                                                                                                                                                                                                                                                                                                                                                                                                                                                                                                                                                                                                                                                                                                                                                                                                                                                                                                                                                                                                                                                                                                                                                                                                                                                                                                                                                                                                                                                                                                                                                                                                                                                                                                                                                                                                                                                                                                                                                                                                                                                                                                                                                                                                                                                                                                                                                                                                                                                                                                                                                                                                                                                                                                                                                                                                                                                                                                                                                                                                                                                                                                                                                                                                                                                                                                                                                                                                                                                                                                                                                                                                                                                                                                                                                                                                                                                                                                                                                                                                                                                                                                                                                                                                                                                                                                                                                                                                                                                                                                                                                                                                                                                                                                                                                                                                                                                                                                                                                                                                                                                                                                                                                                                                                                                                                                                                                                                                                                                                                                                                                                                                                                                                                                                                                                                                                                                                                                                                                                                                                                                                                                                                                                                                                                                                                                                                                                                                                                                                                                                                                                                                                                                                                                                                                                                                                                                                                                                                                                                                                                                                                                                                                                                                                                                                                                                                                                                                                                                                                                                                                                                                                                                                                                                                                                            \n",
       "1  [('Rated 4.0', 'RATED\\n  Had been here for dinner with family. Turned out to be a good choose suitable for all ages of people. Can try this place. We liked the most was their starters. Service is good. Prices are affordable. Will recommend this restaurant for early dinner. The place is little noisy.'), ('Rated 3.0', 'RATED\\n  The ambience is really nice, staff is courteous. The price is pretty high for the quantity, but overall the experience was fine. The quality of food is nice but nothing extraordinary. They also have buffet(only veg)'), ('Rated 3.0', 'RATED\\n  I felt good is little expensive for the quantity they serve and In terms of taste is decent. There is nothing much to talk about the ambience, regular casual dining restaurant where you can take your family for dinner or lunch. If they improve on that quantity or may be reduce the price a bit or may be improve the presentation of the food it might Manage to get more repeat customers.'), ('Rated 4.0', 'RATED\\n  I was looking for a quite place to spend some time with family and as well wanted to try some new place. Since I was at Banashankari I thought of trying this place. The place had good rating and was part of Zomato gold. So I decided to try this place. It was a delite to see a very friendly staff and food we ordered was very tasty as well.\\n\\nFood : 4/5\\nAmbience :3/5\\nFriendly staff : 4/5\\nPocket friendly : 4/5\\n\\nWill definitely visit again ??'), ('Rated 4.0', \"RATED\\n  Nice place to dine and has a good ambiance... Food is good and the serving time is also good..neat restrooms and we'll arranged tables....only thing is we went at 12.30 for lunch...and we noticed that they kept on playing one music back to back which was a little annoying...\\n\\n1. Chicken biriyani was so good and the chicken was fresh and tender ,rice was well cooked and overall was great\\n\\n2. Mutton biriyani was very very good and tasty and It had plenty of mutton pieces...\"), ('Rated 5.0', 'RATED\\n  This place just cool ? with good ambience and slow music and having delicious food is where you find peace. Staff very friendly and they have maintained the place so clean. The price is average for what the quantity of food they serve.\\nThom yum Thai soup was best and was treat to mouth, roti was soft with that vilaythi paneer was perfect to have for veggie foodies, in rice we tried burnt garlic fried rice with vegetables and it was the perfect thing to end.'), ('Rated 4.0', \"RATED\\n  Quiet a good family type of place.. too calm and usually we don't find crowd here.. panner curry and the deserts is what we had tasted.. they wer really good but we found it a little expensive\"), ('Rated 2.0', \"RATED\\n  I had a very bad experience here.\\nI don't know about a la carte, but the buffet was the worst. They gave us complementary drink and momos before the buffet. The momos were really good.\\nThe number of varieties first of all was very disappointing. The service was very slow. They refilled the food very slowly. The starters were okay. The main course also was so so. There was two gravies with roti and some rice with raitha. They had chats, sev puri and pan puri, which was average. But the desert was disappointing. They had gulab Jamun and chocolate cake. The jamun was not cooked inside. There was a cold blob of raw dough inside. The chocolate cake also was really hard and not that good.\\nOverall the buffet was a bad experience for me.\"), ('Rated 4.0', \"RATED\\n  Food: 8/10\\nAmbience:8/10\\nStaff:8/10\\nOne of the good places to try north Indian food...but depends on ur taste buds. Not everyone will like all the items here. Specially when u r particular abt sweet and spicy food.\\nThere's buffet available too.\\nWe had ordered paneer uttar dakshin and paneer kurchan..was amazing. The Gobi hara pyaz and mix veg were average.\"), ('Rated 3.0', 'RATED\\n  A decent place for a family lunch or dinner.. well arranged in a simple manner. Food was tasty and the crew was very helpful and understanding..'), ('Rated 4.0', \"RATED\\n  Great place to have a heavy lunch. Good service.\\nThe chicken biryani was undoubtedly one of the best I've had. Biriyani and Lassi would be the suggested combo. Buffet is the talk of the place, so try according to your appetite. A nice place.\"), ('Rated 4.0', 'RATED\\n  Its the one restaurant near katriguppe that i found was really good. Good variety of Chinese and thai dishes. Service is good and good place to hangout with family as its a peaceful place where noise is really less and good view.'), ('Rated 2.0', \"RATED\\n  Spice elephant soup SPL: almost manchow flavour soup.. Just above medium spicy\\n\\nLasooni fish tikka was awesome\\n\\nI don't remember the dessert name but I have attached the photo .. It had vanilla ice inside wafers... Wafer was hell hard, egg smell chewy ... Nightmare dessert !\\n\\nTable leg space was very bad... I was so uncomfortable, the whole time kept on adjusting my legs\\n\\nNo parking\\n\\nFor the taste felt this is too costly\"), ('Rated 4.0', 'RATED\\n  Zomato gold partner at this price. It was insane. They have really nice food. small place with very courteous staff and very cheap food for this ambience. Cost of soups is 80-100. Starters from 150-250. Main course 200-300. Cost for two was 800 for us.')]                                                                                                                                                                                                                                                                                                                                                                                                                                                                                                                                                                                                                                                                                                                                                                                                                                                                                                                                                                                                                                                                                                                                                                                                                                                                                                                                                                                                                                                                                                                                                                                                                                                                                                                                                                                                                                                                                                                                                                                                                                                                                                                                                                                                                                                                                                                                                                                                                                                                                                                                                                                                                                                                                                                                                                                                                                                                                                                                                                                                                                                                                                                                                                                                                                                                                                                                                                                                                                                                                                                                                                                                                                                                                                                                                                                                                                                                                                                                                                                                                                                                                                                                                                                                                                                                                                                                                                                                                                                                                                                                                                                                                                                                                                                                                                                                                                                                                                                                                                                                                                                                                                                                                                                                                                                                                                                                                                                                                                                                                                                                                                                                                                                                                                                                                                                                                                                                                                                                                                                                                                                                                                                                                                                                                                                                                                                                                                                                                                                                                                                                                                                                                                                                                                                                                                                                                                                                                                                                                                                                                                                                                                                                                                                                                                                                                                                                                                                                                                                                                                                                                                                                                                                                                                                                                                                                                                                                                                                                                                                                                                                                                                                                                                                                                                                                                                                                                                                                                                                                                                                                                                                                                                                                                                                                                                                                                                                                                                                                                                                                                                                                                                                                                                                                                                                                                                                                                                                                                                                                                                                                                                                                                                                                                                                                                                                                                                                                                                                                                                                                                       \n",
       "2  [('Rated 3.0', \"RATED\\n  Ambience is not that good enough and it's not a pocket friendly cafe and the quantity is not that good and desserts are too good enough ??..\"), ('Rated 3.0', \"RATED\\n \\nWent there for a quick bite with friends.\\nThe ambience had more of corporate feel. I would say it was unique.\\nTried nachos, pasta churros and lasagne.\\n\\nNachos were pathetic.( Seriously don't order)\\nPasta was okayish.\\nLasagne was good.\\nNutella churros were the best.\\nOverall an okayish experience!\\nPeace ??\"), ('Rated 4.0', \"RATED\\n  First of all, a big thanks to the staff of this Cafe. Very polite and courteous.\\n\\nI was there 15mins before their closing time. Without any discomfort or hesitation, the staff welcomed me with a warm smile and said they're still open, though they were preparing to close the cafe for the day.\\n\\nQuickly ordered the Thai green curry, which is served with rice. They got it for me within 10mins, hot and freshly made.\\n\\nIt was tasty with the taste of coconut milk. Not very spicy, it was mild spicy.\\n\\nI saw they had yummy looking dessert menu, should go there to try them out!\\n\\nA good spacious place to hang out for coffee, pastas, pizza or Thai food.\"), ('Rated 3.0', \"RATED\\n  A place for people who love churos. Otherwise it's a normal simple cafe like any other in town . Can go and spend the evening there . The positive being it is one of the better cafes in and around Banashankari and also the place is not very crowded .\"), ('Rated 3.0', 'RATED\\n  Have been visiting this place since years. The quality has gone down drastically. Food quality has become very average from good. Service is also very bad of late.'), ('Rated 1.0', 'RATED\\n  Really disappointed with the place.\\n\\nSeems like a old dusty store room stacked up with old sofas and chairs! The decor is soo disappointing that I cannot put it in words!\\nLastly the food was cherry on the cake to make it a complete worse meal.\\n\\nThis place is the last option you should ever consider.'), ('Rated 3.0', 'RATED\\n  Congested atmosphere due to smoke from kitchen\\nAmbience was k\\nService was k .\\nChuros was a new experience recommended\\nNear to kims . Parking was not der'), ('Rated 1.0', \"RATED\\n  Cockroaches !! I Repeat cockroaches!!Bakasura was disappointed.\\nBeing in Banashankari, being a gold outlet and nesting them? who can even think of that. Thankfully it wasn't over bakasura's plate. The ambience was last cleaned a decade back i guess. A cockroach just walked over our table. As it was alive, and well moving , the bakasura couldnt take a pic of it. Then the staff had to actually take it out of our table. Such ambience ? like what are you upto?\\n\\nBakasura disapproves. I dont even want to talk about the food.\"), ('Rated 4.0', 'RATED\\n  A nice place to hangout, this place looks professional and also cute. If anyone is trying churros for the first the time, this is the place to go. Cheesecake is pretty amazing too.\\nRecommended.'), ('Rated 4.0', 'RATED\\n  1) pizza mocktails shakes and churros really very good\\n2) staff good\\n3) ambience simple and nice good\\n4) location of San churro cafe very nice\\n5) over San churro cafe good....'), ('Rated 3.0', \"RATED\\n  One of my favourite places that I often visit in South bangalore , but quality has been reduced than before. Little unhappy with the food this time.\\nBut their churros never dissapointed me. Staff are too slow and do not respond easily.\\n\\nSoups:\\nMinestrone soup was like vegetable stock water with vegetables in it, not happy with it.\\n\\nChurros :\\nIt was great as usual. A must visit place if u love churros.\\n\\nStarters:\\n1. Africano panner -\\nIt was bit sweet and not happy with the dish!!\\n2. Loaded nachos -\\nThis happened to be their one of the best dishes, but now I take back my words. Very dissapointed with the dish.\\n\\nMain course:\\nsicilia pizza\\nPizza was too good, it's a must try dish.\\n\\nFinally I would recommend this place for churros and pizza .\\n\\nTaste : 6/10\\nAmbience :7/10\\nValue for money : 8/10\\n\\nOverall experience : 7.5/10\"), ('Rated 4.0', 'RATED\\n  Visited this place long before, place come to.notice with the decoration lights outside the cafe. We ordered churos, pizza and hot chocolate, all were good just I little priced more.'), ('Rated 4.0', 'RATED\\n  Spain pictures of Churros triggered Nostalgia about it , which led to Google search for Churro places in city , lucky we to get the result as San Churro cafe , we had an delectable churros here along with hot chocolate and Nachos ! Thanks for fulfilling our thirst of Spanish Churros !\\nFood : ???\\nChurros ???\\nHot Chocolate ?\\nNachos ??\\n\\nService : ??\\n\\nAmbiance : ?\\n\\nCleanliness : ??\\n\\nOne drawback : Store had some flies, I hope they take care of them for our next tour ?'), ('Rated 3.0', 'RATED\\n  Ã\\x83Ã\\x83Ã\\x82Ã\\x82Ã\\x83Ã\\x82Ã\\x82Ã\\x93Chocolaty and churroic experienceÃ\\x83Ã\\x83Ã\\x82Ã\\x82Ã\\x83Ã\\x82Ã\\x82Ã\\x94\\n\\nHit chocolate and churro with chocolate dip in the picture.\\n\\nMy first time at this restaurant and it has delivered in service, options as well as taste.'), ('Rated 4.0', 'RATED\\n  Though very sadly the place looks in need of retouching, but the food was great! Especially when it was super cold outside and we were super hungry, the staff was nice. We ordered the pink pasta and a pizza. Both of them were pretty good. Was really tempted to try their Churros but we were stuffed. Worth a visit and try for sure!'), ('Rated 3.0', \"RATED\\n  Churros, the restaurant's eponymous offering, has to be tried. They're a Mexican snack and served with chocolate sauce. Milkshakes are good too. The interior walls have murals and writings all over. Haven't tried the pizzas here but the cakes and pastries were pretty good.\"), ('Rated 3.0', \"RATED\\n  Honestly, have only tried parcels and that too only starters and mains - never tried desserts. So this review is based on starters and mains only. The quality wasn't all that great, was pretty average.\"), ('Rated 4.0', \"RATED\\n  Visited this place for the first time, recently. The ambience was pretty good. We ordered two 'churros for two'. Having churros for the first time ever, I was way too excited and judgmental. But swear to Lord, the churros were heavenly! The chocolate sauce was the actual chocolate sauce and not nutella xD We had taken the Cross Country Ranch pizza. It was a thin crust pizza loaded with veggies.\\nThe place is famous for churros (the name suggests so). I would love to visit again to try all the other items out :')\"), ('Rated 4.0', 'RATED\\n  I love the desserts more than anything here !Good place and well served !:)\\nWe dint like the nachos here , it was not that good as we expected !\\nExcept nachos almost all dish were quite good!'), ('Rated 2.0', \"RATED\\n  2nd time I have visited this place and I am surprised to see how it has declined. Churros was hard, pizza was pathetic, loaded nachos and masala Garlic bread were topped with cheese with MAYO! Yes mayonnese.. Soup has the bread crumbs in almost melted state, mocktails were average and our only Savior was pasta and caramel pudding... This place has high potential but let down by dull ambience, pretty slow and inattentive staff. Buffet price was listed as 399 but was charged 499, We still went ahead and took the deal to be very disappointed!! Most dishes were freshly cooked hence going with some starts else would rate them lower. I did not find a single person who seemed happy with their meal as moat complained about one thing or the other. That'll be my last visit San Churros.\")]                                                                                                                                                                                                                                                                                                                                                                                                                                                                                                                                                                                                                                                                                                                                                                                                                                                                                                                                                                                                                                                                                                                                                                                                                                                                                                                                                                                                                                                                                                                                                                                                                                                                                                                                                                                                                                                                                                                                                                                                                                                                                                                                                                                                                                                                                                                                                                                                                                                                                                                                                                                                                                                                                                                                                                                                                                                                                                                                                                                                                                                                                                                                                                                                                                                                                                                                                                                                                                                                                                                                                                                                                                                                                                                                                                                                                                                                                                                                                                                                                                                                                                                                                                                                                                                                                                                                                                                                                                                                                                                                                                                                                                                                                                                                                                                                                                                                                                                                                                                                                                                                                                                                                                                                                                                                                                                                                                                                                                                                                                                                                                                                                                                                                                                                                                                                                                                                                                                                                                                                                                                                                                                                                                                                                                                                                                                                                                                                                                                                                                                                                                                                                                                                                                                                                                                                                                                                                                                                                                                                                                                                                                                                                                                                                                                                                                                                                                                                                                                                                                                                                                                                                                  \n",
       "3  [('Rated 4.0', \"RATED\\n  Great food and proper Karnataka style full meals. Been there twice and was fully satisfied.. Will give 5 stars if it's well managed............\"), ('Rated 2.0', 'RATED\\n  Reached the place at 3pm on Saturday. Half of the items on the menu were over. What was annoying was is the food was cold. The taste was also very average. Only dosa and holige were good. There were very few people in the restaurant and the service was still very slow. The waiters were all standing in one corner and talking. Had to call them repeatedly.'), ('Rated 4.0', 'RATED\\n  Had been here, good food served and tasty,good place to go with freinds and family, should be first to get served well with all food. One of the good hotel there for this price.'), ('Rated 2.0', 'RATED\\n  How can a Udupi restaurant be so dirty.the floor the walls the waiters are all stained in food.Why cant they clean it? The floor even had decorative colour paper every where and lot of food.Now coming to the taste of the food- it was pretty decent for what they chargw.What upset us was the menu says they serve thambuli, two variety of rice etc but they were all over at 2.45 but they still charged us full amount.Lastly if u r ok to b seated with random people and adjust with their table manners( burrping etc) then tis place is decent for a quick veg udupi meals'), ('Rated 4.0', 'RATED\\n  Aadhuri Udupi bhojana is one of the best vegetarian hotel in and around Banashankari locality\\nwere we can enjoy the authentic south Karnataka style food.'), ('Rated 5.0', 'RATED\\n  One of the best restaurants for unlimited food. Price for one full unlimited meal is ?150 and the service is awesome here. If youÃ\\x83Ã\\x83Ã\\x82Ã\\x82Ã\\x83Ã\\x82Ã\\x82Ã\\x92re a costalian you will love the food served here.'), ('Rated 4.0', \"RATED\\n  Been here a couple of times. Highly satisfying on both the ocassions. Great food. Decent service. At price of 160 per person it is of a great value. The staff here serves in a traditional Mysore style dresses. The food is authentic Karnataka meals. I really liked the pineapple pickle/chutney. They serve some 4 varities of rice of which you shouldn't try all as you would already be full. Roti, Dosa were decent. In the deserts, Payasam& Holige were good.\\nI think it is one the must try places to try some authentic south food even if you have been to the likes of Kamath etc. this one is a little different. :)\"), ('Rated 5.0', 'RATED\\n  Very good restorent good south Indian food very nice all food s are good we spent good time and food in this hotel value of money we loved it'), ('Rated 3.5', 'RATED\\n  I went to this restaurant on Sunday afternoon.It was a bit crowded.\\n\\nIts located in the 1st floor Above anna kuteera kathriguppe\\n\\nYou need to take food coupon in the ground floor itself.\\nit was 160 rs.\\n\\nTaste wise it was good.\\nService was slow.\\nNothing exciting/different in the menu.\\nWhatever they serve its good.\\nWorth for money.'), ('Rated 5.0', 'RATED\\n  Awesome place , worth with price , quality , quantity , service , hygiene and discipline I loved it ???? wish there were more rating stars to give I give 100 on 5 for sure'), ('Rated 3.5', 'RATED\\n  Nice food, good ambiance, so many verity of food, this time i was in hurry so, next review will be detailed one. Its good to see all dishes at one place'), ('Rated 1.5', 'RATED\\n  The food was not satisfactory. Not one item served could be eaten again . Only advantage is the price but even that is not going to be enough to make me visit the place again . Dear Udupi staff people wouldnÃ\\x83Ã\\x83Ã\\x82Ã\\x82Ã\\x83Ã\\x82Ã\\x82Ã\\x92t mind if the food quality was better for a higher price and please get more fans so that people wonÃ\\x83Ã\\x83Ã\\x82Ã\\x82Ã\\x83Ã\\x82Ã\\x82Ã\\x92t have to deal with another disappointment of sweating while eating.'), ('Rated 5.0', 'RATED\\n  Excellent quality and taste, more variety of authentic south Indian food. Excellent service. Highly recommended. Worth the money we pay here.'), ('Rated 2.0', \"RATED\\n  I'm rating 2 only because of the large number of items they serve for the price they charge. While the taste is moderate, the biggest turn off is the poor service and totally unresponsive staff. They are either understaffed or poorly trained. I didn't get to taste a few items, thanks to their ever busy staff, and ended eating what was served. Please learn the crowd management from other peers like maiyya and roti ghar\"), ('Rated 5.0', 'RATED\\n  One of my colleagues suggested this place. Went there at 1 pm and place wasnt crowded. Ambience is decent and cool. A welcome drink \"appekai saru\" was served. Then started..typical \"baale yele uta\" . Diffrerent types of palya, kosambari and sides. Then came masala dosa, pulka,pulav, veg rice bath. Masala dosa was very very tasty. Service is bit fast as people will be coming, but they will make it slow if u tell them to. Then comes rice with sambar,rasam, daal,tambali. And yes, dont forget to eat holige,payasam and icecream. Service is very nice. One best thing is all of this comes in just 160 rs and its unlimited!!! What else you want!! A must visit place for south indian foodie!'), ('Rated 3.0', \"RATED\\n  Been here last week with high expectations based on few reviews. But utterly disappointed with the food quality & taste. I feel it's an overhyped place! There are many better places in the vicinity for Plantain leaf meal. There was too much of waiting & these staffs were too hurry in serving food & asking people to finish meal & leave quickly. I can understand there is a waiting and staffs should approach in a positive way. I will never go there again!\\n\\nbangaloreepicure.com\"), ('Rated 4.0', 'RATED\\n  I have a confession, being a south Indian I distaste south Indian food(not that I hate it, I don\\'t like it either).But still made up my mind on Sankaranti to have authentic south Indian food visited \"Adduri Udupi Bhojana\" because it was close to my place.I just had a look at the menu told myself that I can do it(I am not blessed with a tremendous appetite).welcomed with the mango soup followed by the wide variety of dishes served, I have developed the new love for Pongal(both sweet and Khara).I can still feel the taste of the ghee bursting in my mouth but it was\"kai holige\" that made my day, crisp and soft.not to forget food is served on a banana leaf that adds in more flavor and taste.waiters are attentive and responsive.The customer\\'s needs are monitored and addressed.so much variety for just 160Rs without compromising on quantity and quality and yes it is unlimited.This visit turned out to be a surprise package.'), ('Rated 3.5', 'RATED\\n  Food is good.\\nNo parking\\nAmbience is average\\nOverall its value for money if you looking for south Indian food.\\nPreferred the tiffin items......'), ('Rated 3.0', \"RATED\\n  Been here last week with high expectations based on few reviews. But utterly disappointed with the food quality & taste. I feel it's an overhyped place! There are many better places in the vicinity for Plantain leaf meal. There was too much of waiting & these staffs were too hurry in serving food & asking people to finish meal & leave quickly. I can understand there is a waiting and staffs should approach in a positive way. I will never go there again!\\n\\nbangaloreepicure.com\"), ('Rated 4.0', 'RATED\\n  I have a confession, being a south Indian I distaste south Indian food(not that I hate it, I don\\'t like it either).But still made up my mind on Sankaranti to have authentic south Indian food visited \"Adduri Udupi Bhojana\" because it was close to my place.I just had a look at the menu told myself that I can do it(I am not blessed with a tremendous appetite).welcomed with the mango soup followed by the wide variety of dishes served, I have developed the new love for Pongal(both sweet and Khara).I can still feel the taste of the ghee bursting in my mouth but it was\"kai holige\" that made my day, crisp and soft.not to forget food is served on a banana leaf that adds in more flavor and taste.waiters are attentive and responsive.The customer\\'s needs are monitored and addressed.so much variety for just 160Rs without compromising on quantity and quality and yes it is unlimited.This visit turned out to be a surprise package.'), ('Rated 3.5', 'RATED\\n  Food is good.\\nNo parking\\nAmbience is average\\nOverall its value for money if you looking for south Indian food.\\nPreferred the tiffin items......'), ('Rated 3.0', \"RATED\\n  Been here last week with high expectations based on few reviews. But utterly disappointed with the food quality & taste. I feel it's an overhyped place! There are many better places in the vicinity for Plantain leaf meal. There was too much of waiting & these staffs were too hurry in serving food & asking people to finish meal & leave quickly. I can understand there is a waiting and staffs should approach in a positive way. I will never go there again!\\n\\nbangaloreepicure.com\"), ('Rated 4.0', 'RATED\\n  I have a confession, being a south Indian I distaste south Indian food(not that I hate it, I don\\'t like it either).But still made up my mind on Sankaranti to have authentic south Indian food visited \"Adduri Udupi Bhojana\" because it was close to my place.I just had a look at the menu told myself that I can do it(I am not blessed with a tremendous appetite).welcomed with the mango soup followed by the wide variety of dishes served, I have developed the new love for Pongal(both sweet and Khara).I can still feel the taste of the ghee bursting in my mouth but it was\"kai holige\" that made my day, crisp and soft.not to forget food is served on a banana leaf that adds in more flavor and taste.waiters are attentive and responsive.The customer\\'s needs are monitored and addressed.so much variety for just 160Rs without compromising on quantity and quality and yes it is unlimited.This visit turned out to be a surprise package.'), ('Rated 3.5', 'RATED\\n  Food is good.\\nNo parking\\nAmbience is average\\nOverall its value for money if you looking for south Indian food.\\nPreferred the tiffin items......'), ('Rated 3.0', \"RATED\\n  Been here last week with high expectations based on few reviews. But utterly disappointed with the food quality & taste. I feel it's an overhyped place! There are many better places in the vicinity for Plantain leaf meal. There was too much of waiting & these staffs were too hurry in serving food & asking people to finish meal & leave quickly. I can understand there is a waiting and staffs should approach in a positive way. I will never go there again!\\n\\nbangaloreepicure.com\"), ('Rated 4.0', 'RATED\\n  I have a confession, being a south Indian I distaste south Indian food(not that I hate it, I don\\'t like it either).But still made up my mind on Sankaranti to have authentic south Indian food visited \"Adduri Udupi Bhojana\" because it was close to my place.I just had a look at the menu told myself that I can do it(I am not blessed with a tremendous appetite).welcomed with the mango soup followed by the wide variety of dishes served, I have developed the new love for Pongal(both sweet and Khara).I can still feel the taste of the ghee bursting in my mouth but it was\"kai holige\" that made my day, crisp and soft.not to forget food is served on a banana leaf that adds in more flavor and taste.waiters are attentive and responsive.The customer\\'s needs are monitored and addressed.so much variety for just 160Rs without compromising on quantity and quality and yes it is unlimited.This visit turned out to be a surprise package.'), ('Rated 3.5', 'RATED\\n  Food is good.\\nNo parking\\nAmbience is average\\nOverall its value for money if you looking for south Indian food.\\nPreferred the tiffin items......'), ('Rated 3.0', \"RATED\\n  Been here last week with high expectations based on few reviews. But utterly disappointed with the food quality & taste. I feel it's an overhyped place! There are many better places in the vicinity for Plantain leaf meal. There was too much of waiting & these staffs were too hurry in serving food & asking people to finish meal & leave quickly. I can understand there is a waiting and staffs should approach in a positive way. I will never go there again!\\n\\nbangaloreepicure.com\"), ('Rated 4.0', 'RATED\\n  I have a confession, being a south Indian I distaste south Indian food(not that I hate it, I don\\'t like it either).But still made up my mind on Sankaranti to have authentic south Indian food visited \"Adduri Udupi Bhojana\" because it was close to my place.I just had a look at the menu told myself that I can do it(I am not blessed with a tremendous appetite).welcomed with the mango soup followed by the wide variety of dishes served, I have developed the new love for Pongal(both sweet and Khara).I can still feel the taste of the ghee bursting in my mouth but it was\"kai holige\" that made my day, crisp and soft.not to forget food is served on a banana leaf that adds in more flavor and taste.waiters are attentive and responsive.The customer\\'s needs are monitored and addressed.so much variety for just 160Rs without compromising on quantity and quality and yes it is unlimited.This visit turned out to be a surprise package.'), ('Rated 3.5', 'RATED\\n  Food is good.\\nNo parking\\nAmbience is average\\nOverall its value for money if you looking for south Indian food.\\nPreferred the tiffin items......'), ('Rated 4.0', \"RATED\\n  Had been on a week night for an authentic south Indian food. I personally love being served on banyan leaf. The waiters are all dressed up in traditional Mysore attire wearing with a peta. The food was delicious and definitely worth it's price. The waiters are friendly and serve u well with a smile. The food is prepared without garlic which is a plus point attracting many senior customers.\"), ('Rated 3.5', \"RATED\\n  Food is good and enjoyed. With 150 Rs. is very nice.\\nNote: (It happen with us)\\n - If you going TWO people, you may need to share the table there. Its almost crowed.\\n - You have to sit where they ask, you can't choose even if all the table are empty. \\nJust wait, eat and come back.\"), ('Rated 5.0', 'RATED\\n  Excellent Ambience with delicious meals with 10-15 variety types. Worth paying for money and you can dine out if you are with more friends/relatives in home.'), ('Rated 4.5', 'RATED\\n  Very good and Unlimited . especially masala dosa . Service and ambience was also good. will visit again with friends . very very reasonble and wholesome food'), ('Rated 3.5', 'RATED\\n  Aaaa wt to tell, Unlimited food, food was like exactly like south indian marriage food, 2 soups, sides masala dosa, all were unlimited for just ?150, except ice cream in the end ?? they give a water bottle, and main thing is have patience to get place to sit..... ??,there is no parking place of this outlet, and difficult to park in front of the restaurants,')]   \n",
       "4  [('Rated 4.0', 'RATED\\n  Very good restaurant in neighbourhood. Buffet system is properly arranged. Variety of dishes along with garba dance and puppet show. Good spread of desserts. Live paratha / Kulcha making'), ('Rated 4.0', 'RATED\\n  Great service, overwhelming experience.\\n\\nOne of its kind experience. Grand village offers you some very desi food options.\\n\\nJaljeera, buttermilk, chat papdi, bhajiya, dosa, pav bhaji, noodles, and so many curries kulcha, roti, and garama garam Jalebies, gulab jamuns.\\n\\nBeautiful ambience of village. People serving with smiles and with full heart !!\\n\\nSo here goes my overall ratings :\\nFood : 4/5\\nAmbience : 3.5/5\\nService : 4/5\\nPocket friendly : 4/5')]                                                                                                                                                                                                                                                                                                                                                                                                                                                                                                                                                                                                                                                                                                                                                                                                                                                                                                                                                                                                                                                                                                                                                                                                                                                                                                                                                                                                                                                                                                                                                                                                                                                                                                                                                                                                                                                                                                                                                                                                                                                                                                                                                                                                                                                                                                                                                                                                                                                                                                                                                                                                                                                                                                                                                                                                                                                                                                                                                                                                                                                                                                                                                                                                                                                                                                                                                                                                                                                                                                                                                                                                                                                                                                                                                                                                                                                                                                                                                                                                                                                                                                                                                                                                                                                                                                                                                                                                                                                                                                                                                                                                                                                                                                                                                                                                                                                                                                                                                                                                                                                                                                                                                                                                                                                                                                                                                                                                                                                                                                                                                                                                                                                                                                                                                                                                                                                                                                                                                                                                                                                                                                                                                                                                                                                                                                                                                                                                                                                                                                                                                                                                                                                                                                                                                                                                                                                                                                                                                                                                                                                                                                                                                                                                                                                                                                                                                                                                                                                                                                                                                                                                                                                                                                                                                                                                                                                                                                                                                                                                                                                                                                                                                                                                                                                                                                                                                                                                                                                                                                                                                                                                                                                                                                                                                                                                                                                                                                                                                                                                                                                                                                                                                                                                                                                                                                                                                                                                                                                                                                                                                                                                                                                                                                                                                                                                                                                                                                                                                                                                                                                                                                                                                                                                                                                                                                                                                                                                                                                                                                                                                                                                                                                                                                                                                                                                                                                                                                                                                                                                                                                                                                                                                                                                                                                                                                                                                                                                                                                                                                                                                                                                                                                                                                                                                                                                                                                                                                                                                                                                                                                                                                                                                                                                                                                                                                                                                                                                                                                                                                                                                                                                                                                                                                                                                                                                                                                                                                                                                                                                                                                                                                                                                                                                                                                                                                                                                                                                                                                                                                                                                                                                                                                                                                                                                                                                                                                                                                                                                                                                                                                                                                                                                                                                                                                                                                                                                                                                                                                                                                                                                                                                                                                                                                                                                                 \n",
       "\n",
       "  menu_item listed_in(type) listed_in(city)  id  \n",
       "0  []        Buffet          Banashankari    0   \n",
       "1  []        Buffet          Banashankari    1   \n",
       "2  []        Buffet          Banashankari    2   \n",
       "3  []        Buffet          Banashankari    3   \n",
       "4  []        Buffet          Banashankari    4   "
      ]
     },
     "execution_count": 52,
     "metadata": {},
     "output_type": "execute_result"
    }
   ],
   "source": [
    "zomato_data.head()"
   ]
  },
  {
   "cell_type": "markdown",
   "metadata": {},
   "source": [
    "###  Extract the reviews data "
   ]
  },
  {
   "cell_type": "code",
   "execution_count": 53,
   "metadata": {
    "ExecuteTime": {
     "end_time": "2019-11-10T06:25:33.161872Z",
     "start_time": "2019-11-10T06:25:33.123187Z"
    }
   },
   "outputs": [
    {
     "name": "stdout",
     "output_type": "stream",
     "text": [
      "[('Rated 4.0', 'RATED\\n  A beautiful place to dine in.The interiors take you back to the Mughal era. The lightings are just perfect.We went there on the occasion of Christmas and so they had only limited items available. But the taste and service was not compromised at all.The only complaint is that the breads could have been better.Would surely like to come here again.'), ('Rated 4.0', 'RATED\\n  I was here for dinner with my family on a weekday. The restaurant was completely empty. Ambience is good with some good old hindi music. Seating arrangement are good too. We ordered masala papad, panner and baby corn starters, lemon and corrionder soup, butter roti, olive and chilli paratha. Food was fresh and good, service is good too. Good for family hangout.\\nCheers'), ('Rated 2.0', 'RATED\\n  Its a restaurant near to Banashankari BDA. Me along with few of my office friends visited to have buffet but unfortunately they only provide veg buffet. On inquiring they said this place is mostly visited by vegetarians. Anyways we ordered ala carte items which took ages to come. Food was ok ok. Definitely not visiting anymore.'), ('Rated 4.0', 'RATED\\n  We went here on a weekend and one of us had the buffet while two of us took Ala Carte. Firstly the ambience and service of this place is great! The buffet had a lot of items and the good was good. We had a Pumpkin Halwa intm the dessert which was amazing. Must try! The kulchas are great here. Cheers!'), ('Rated 5.0', 'RATED\\n  The best thing about the place is itÃ\\x83Ã\\x83Ã\\x82Ã\\x82Ã\\x83Ã\\x82Ã\\x82Ã\\x92s ambiance. Second best thing was yummy ? food. We try buffet and buffet food was not disappointed us.\\nTest ?. ?? ?? ?? ?? ??\\nQuality ?. ??????????.\\nService: Staff was very professional and friendly.\\n\\nOverall experience was excellent.\\n\\nsubirmajumder85.wixsite.com'), ('Rated 5.0', 'RATED\\n  Great food and pleasant ambience. Expensive but Coll place to chill and relax......\\n\\nService is really very very good and friendly staff...\\n\\nFood : 5/5\\nService : 5/5\\nAmbience :5/5\\nOverall :5/5'), ('Rated 4.0', 'RATED\\n  Good ambience with tasty food.\\nCheese chilli paratha with Bhutta palak methi curry is a good combo.\\nLemon Chicken in the starters is a must try item.\\nEgg fried rice was also quite tasty.\\nIn the mocktails, recommend \"Alice in Junoon\". Do not miss it.'), ('Rated 4.0', 'RATED\\n  You canÃ\\x83Ã\\x83Ã\\x82Ã\\x82Ã\\x83Ã\\x82Ã\\x82Ã\\x92t go wrong with Jalsa. Never been a fan of their buffet and thus always order alacarteÃ\\x83Ã\\x83Ã\\x82Ã\\x82Ã\\x83Ã\\x82Ã\\x82Ã\\x92. Service at times can be on the slower side but food is worth the wait.'), ('Rated 5.0', 'RATED\\n  Overdelighted by the service and food provided at this place. A royal and ethnic atmosphere builds a strong essence of being in India and also the quality and taste of food is truly authentic. I would totally recommend to visit this place once.'), ('Rated 4.0', 'RATED\\n  The place is nice and comfortable. Food wise all jalea outlets maintain a good standard. The soya chaap was a standout dish. Clearly one of trademark dish as per me and a must try.\\n\\nThe only concern is the parking. It very congested and limited to just 5cars. The basement parking is very steep and makes it cumbersome'), ('Rated 4.0', 'RATED\\n  The place is nice and comfortable. Food wise all jalea outlets maintain a good standard. The soya chaap was a standout dish. Clearly one of trademark dish as per me and a must try.\\n\\nThe only concern is the parking. It very congested and limited to just 5cars. The basement parking is very steep and makes it cumbersome'), ('Rated 4.0', 'RATED\\n  The place is nice and comfortable. Food wise all jalea outlets maintain a good standard. The soya chaap was a standout dish. Clearly one of trademark dish as per me and a must try.\\n\\nThe only concern is the parking. It very congested and limited to just 5cars. The basement parking is very steep and makes it cumbersome')]\n"
     ]
    }
   ],
   "source": [
    "reviews_data=zomato_data[['reviews_list','id']].reset_index(drop=True)\n",
    "reviews_data['index']=reviews_data.index\n",
    "review=reviews_data['reviews_list'][0]\n",
    "print(review)"
   ]
  },
  {
   "cell_type": "code",
   "execution_count": 54,
   "metadata": {
    "ExecuteTime": {
     "end_time": "2019-11-10T06:25:33.199151Z",
     "start_time": "2019-11-10T06:25:33.163940Z"
    }
   },
   "outputs": [
    {
     "data": {
      "text/plain": [
       "str"
      ]
     },
     "execution_count": 54,
     "metadata": {},
     "output_type": "execute_result"
    }
   ],
   "source": [
    "type(review)"
   ]
  },
  {
   "cell_type": "markdown",
   "metadata": {
    "ExecuteTime": {
     "end_time": "2019-10-31T13:49:44.679716Z",
     "start_time": "2019-10-31T13:49:44.640104Z"
    }
   },
   "source": [
    "The list of reviews are present as a string. \n",
    "\n",
    "###  Convert the reviews for each restaurant into a list of (rating,review) tuple"
   ]
  },
  {
   "cell_type": "code",
   "execution_count": 55,
   "metadata": {
    "ExecuteTime": {
     "end_time": "2019-11-10T06:25:33.366998Z",
     "start_time": "2019-11-10T06:25:33.335436Z"
    }
   },
   "outputs": [
    {
     "data": {
      "text/plain": [
       "list"
      ]
     },
     "execution_count": 55,
     "metadata": {},
     "output_type": "execute_result"
    }
   ],
   "source": [
    "import ast\n",
    "text = ast.literal_eval(review)\n",
    "\n",
    "type(text)"
   ]
  },
  {
   "cell_type": "code",
   "execution_count": 56,
   "metadata": {
    "ExecuteTime": {
     "end_time": "2019-11-10T06:25:34.440511Z",
     "start_time": "2019-11-10T06:25:33.860663Z"
    }
   },
   "outputs": [],
   "source": [
    "reviews_data['reviews_list']=reviews_data['reviews_list'].apply(lambda x:ast.literal_eval(x))\n"
   ]
  },
  {
   "cell_type": "markdown",
   "metadata": {},
   "source": [
    "The review is present as a list of (rating,review) tuple. \n",
    "\n",
    "###   Convert the list of (rating,review) to one row each"
   ]
  },
  {
   "cell_type": "code",
   "execution_count": 57,
   "metadata": {
    "ExecuteTime": {
     "end_time": "2019-11-10T06:25:35.265494Z",
     "start_time": "2019-11-10T06:25:34.861386Z"
    }
   },
   "outputs": [],
   "source": [
    "reviews = reviews_data['reviews_list'].apply(pd.Series).reset_index().melt(id_vars='index').dropna()"
   ]
  },
  {
   "cell_type": "code",
   "execution_count": 58,
   "metadata": {
    "ExecuteTime": {
     "end_time": "2019-11-10T06:25:35.376140Z",
     "start_time": "2019-11-10T06:25:35.340271Z"
    }
   },
   "outputs": [
    {
     "data": {
      "text/html": [
       "<div>\n",
       "<style scoped>\n",
       "    .dataframe tbody tr th:only-of-type {\n",
       "        vertical-align: middle;\n",
       "    }\n",
       "\n",
       "    .dataframe tbody tr th {\n",
       "        vertical-align: top;\n",
       "    }\n",
       "\n",
       "    .dataframe thead th {\n",
       "        text-align: right;\n",
       "    }\n",
       "</style>\n",
       "<table border=\"1\" class=\"dataframe\">\n",
       "  <thead>\n",
       "    <tr style=\"text-align: right;\">\n",
       "      <th></th>\n",
       "      <th>index</th>\n",
       "      <th>variable</th>\n",
       "      <th>value</th>\n",
       "    </tr>\n",
       "  </thead>\n",
       "  <tbody>\n",
       "    <tr>\n",
       "      <th>0</th>\n",
       "      <td>0</td>\n",
       "      <td>0</td>\n",
       "      <td>(Rated 4.0, RATED\\n  A beautiful place to dine in.The interiors take you back to the Mughal era. The lightings are just perfect.We went there on the occasion of Christmas and so they had only limited items available. But the taste and service was not compromised at all.The only complaint is that the breads could have been better.Would surely like to come here again.)</td>\n",
       "    </tr>\n",
       "    <tr>\n",
       "      <th>1</th>\n",
       "      <td>1</td>\n",
       "      <td>0</td>\n",
       "      <td>(Rated 4.0, RATED\\n  Had been here for dinner with family. Turned out to be a good choose suitable for all ages of people. Can try this place. We liked the most was their starters. Service is good. Prices are affordable. Will recommend this restaurant for early dinner. The place is little noisy.)</td>\n",
       "    </tr>\n",
       "    <tr>\n",
       "      <th>2</th>\n",
       "      <td>2</td>\n",
       "      <td>0</td>\n",
       "      <td>(Rated 3.0, RATED\\n  Ambience is not that good enough and it's not a pocket friendly cafe and the quantity is not that good and desserts are too good enough ??..)</td>\n",
       "    </tr>\n",
       "    <tr>\n",
       "      <th>3</th>\n",
       "      <td>3</td>\n",
       "      <td>0</td>\n",
       "      <td>(Rated 4.0, RATED\\n  Great food and proper Karnataka style full meals. Been there twice and was fully satisfied.. Will give 5 stars if it's well managed............)</td>\n",
       "    </tr>\n",
       "    <tr>\n",
       "      <th>4</th>\n",
       "      <td>4</td>\n",
       "      <td>0</td>\n",
       "      <td>(Rated 4.0, RATED\\n  Very good restaurant in neighbourhood. Buffet system is properly arranged. Variety of dishes along with garba dance and puppet show. Good spread of desserts. Live paratha / Kulcha making)</td>\n",
       "    </tr>\n",
       "  </tbody>\n",
       "</table>\n",
       "</div>"
      ],
      "text/plain": [
       "   index variable  \\\n",
       "0  0      0         \n",
       "1  1      0         \n",
       "2  2      0         \n",
       "3  3      0         \n",
       "4  4      0         \n",
       "\n",
       "                                                                                                                                                                                                                                                                                                                                                                               value  \n",
       "0  (Rated 4.0, RATED\\n  A beautiful place to dine in.The interiors take you back to the Mughal era. The lightings are just perfect.We went there on the occasion of Christmas and so they had only limited items available. But the taste and service was not compromised at all.The only complaint is that the breads could have been better.Would surely like to come here again.)  \n",
       "1  (Rated 4.0, RATED\\n  Had been here for dinner with family. Turned out to be a good choose suitable for all ages of people. Can try this place. We liked the most was their starters. Service is good. Prices are affordable. Will recommend this restaurant for early dinner. The place is little noisy.)                                                                          \n",
       "2  (Rated 3.0, RATED\\n  Ambience is not that good enough and it's not a pocket friendly cafe and the quantity is not that good and desserts are too good enough ??..)                                                                                                                                                                                                                 \n",
       "3  (Rated 4.0, RATED\\n  Great food and proper Karnataka style full meals. Been there twice and was fully satisfied.. Will give 5 stars if it's well managed............)                                                                                                                                                                                                              \n",
       "4  (Rated 4.0, RATED\\n  Very good restaurant in neighbourhood. Buffet system is properly arranged. Variety of dishes along with garba dance and puppet show. Good spread of desserts. Live paratha / Kulcha making)                                                                                                                                                                   "
      ]
     },
     "execution_count": 58,
     "metadata": {},
     "output_type": "execute_result"
    }
   ],
   "source": [
    "reviews.head()"
   ]
  },
  {
   "cell_type": "code",
   "execution_count": 59,
   "metadata": {
    "ExecuteTime": {
     "end_time": "2019-11-10T06:25:35.868031Z",
     "start_time": "2019-11-10T06:25:35.828325Z"
    }
   },
   "outputs": [
    {
     "data": {
      "text/html": [
       "<div>\n",
       "<style scoped>\n",
       "    .dataframe tbody tr th:only-of-type {\n",
       "        vertical-align: middle;\n",
       "    }\n",
       "\n",
       "    .dataframe tbody tr th {\n",
       "        vertical-align: top;\n",
       "    }\n",
       "\n",
       "    .dataframe thead th {\n",
       "        text-align: right;\n",
       "    }\n",
       "</style>\n",
       "<table border=\"1\" class=\"dataframe\">\n",
       "  <thead>\n",
       "    <tr style=\"text-align: right;\">\n",
       "      <th></th>\n",
       "      <th>index</th>\n",
       "      <th>reviews</th>\n",
       "    </tr>\n",
       "  </thead>\n",
       "  <tbody>\n",
       "    <tr>\n",
       "      <th>0</th>\n",
       "      <td>0</td>\n",
       "      <td>(Rated 4.0, RATED\\n  A beautiful place to dine in.The interiors take you back to the Mughal era. The lightings are just perfect.We went there on the occasion of Christmas and so they had only limited items available. But the taste and service was not compromised at all.The only complaint is that the breads could have been better.Would surely like to come here again.)</td>\n",
       "    </tr>\n",
       "    <tr>\n",
       "      <th>1</th>\n",
       "      <td>1</td>\n",
       "      <td>(Rated 4.0, RATED\\n  Had been here for dinner with family. Turned out to be a good choose suitable for all ages of people. Can try this place. We liked the most was their starters. Service is good. Prices are affordable. Will recommend this restaurant for early dinner. The place is little noisy.)</td>\n",
       "    </tr>\n",
       "    <tr>\n",
       "      <th>2</th>\n",
       "      <td>2</td>\n",
       "      <td>(Rated 3.0, RATED\\n  Ambience is not that good enough and it's not a pocket friendly cafe and the quantity is not that good and desserts are too good enough ??..)</td>\n",
       "    </tr>\n",
       "    <tr>\n",
       "      <th>3</th>\n",
       "      <td>3</td>\n",
       "      <td>(Rated 4.0, RATED\\n  Great food and proper Karnataka style full meals. Been there twice and was fully satisfied.. Will give 5 stars if it's well managed............)</td>\n",
       "    </tr>\n",
       "    <tr>\n",
       "      <th>4</th>\n",
       "      <td>4</td>\n",
       "      <td>(Rated 4.0, RATED\\n  Very good restaurant in neighbourhood. Buffet system is properly arranged. Variety of dishes along with garba dance and puppet show. Good spread of desserts. Live paratha / Kulcha making)</td>\n",
       "    </tr>\n",
       "  </tbody>\n",
       "</table>\n",
       "</div>"
      ],
      "text/plain": [
       "   index  \\\n",
       "0  0       \n",
       "1  1       \n",
       "2  2       \n",
       "3  3       \n",
       "4  4       \n",
       "\n",
       "                                                                                                                                                                                                                                                                                                                                                                             reviews  \n",
       "0  (Rated 4.0, RATED\\n  A beautiful place to dine in.The interiors take you back to the Mughal era. The lightings are just perfect.We went there on the occasion of Christmas and so they had only limited items available. But the taste and service was not compromised at all.The only complaint is that the breads could have been better.Would surely like to come here again.)  \n",
       "1  (Rated 4.0, RATED\\n  Had been here for dinner with family. Turned out to be a good choose suitable for all ages of people. Can try this place. We liked the most was their starters. Service is good. Prices are affordable. Will recommend this restaurant for early dinner. The place is little noisy.)                                                                          \n",
       "2  (Rated 3.0, RATED\\n  Ambience is not that good enough and it's not a pocket friendly cafe and the quantity is not that good and desserts are too good enough ??..)                                                                                                                                                                                                                 \n",
       "3  (Rated 4.0, RATED\\n  Great food and proper Karnataka style full meals. Been there twice and was fully satisfied.. Will give 5 stars if it's well managed............)                                                                                                                                                                                                              \n",
       "4  (Rated 4.0, RATED\\n  Very good restaurant in neighbourhood. Buffet system is properly arranged. Variety of dishes along with garba dance and puppet show. Good spread of desserts. Live paratha / Kulcha making)                                                                                                                                                                   "
      ]
     },
     "execution_count": 59,
     "metadata": {},
     "output_type": "execute_result"
    }
   ],
   "source": [
    "reviews=reviews[['index',\"value\"]]\n",
    "reviews.columns=['index','reviews']\n",
    "reviews.head()"
   ]
  },
  {
   "cell_type": "code",
   "execution_count": 60,
   "metadata": {
    "ExecuteTime": {
     "end_time": "2019-11-10T06:25:36.343999Z",
     "start_time": "2019-11-10T06:25:36.306551Z"
    }
   },
   "outputs": [
    {
     "data": {
      "text/html": [
       "<div>\n",
       "<style scoped>\n",
       "    .dataframe tbody tr th:only-of-type {\n",
       "        vertical-align: middle;\n",
       "    }\n",
       "\n",
       "    .dataframe tbody tr th {\n",
       "        vertical-align: top;\n",
       "    }\n",
       "\n",
       "    .dataframe thead th {\n",
       "        text-align: right;\n",
       "    }\n",
       "</style>\n",
       "<table border=\"1\" class=\"dataframe\">\n",
       "  <thead>\n",
       "    <tr style=\"text-align: right;\">\n",
       "      <th></th>\n",
       "      <th>index</th>\n",
       "      <th>reviews</th>\n",
       "    </tr>\n",
       "  </thead>\n",
       "  <tbody>\n",
       "    <tr>\n",
       "      <th>0</th>\n",
       "      <td>0</td>\n",
       "      <td>(Rated 4.0, RATED\\n  A beautiful place to dine in.The interiors take you back to the Mughal era. The lightings are just perfect.We went there on the occasion of Christmas and so they had only limited items available. But the taste and service was not compromised at all.The only complaint is that the breads could have been better.Would surely like to come here again.)</td>\n",
       "    </tr>\n",
       "    <tr>\n",
       "      <th>882</th>\n",
       "      <td>0</td>\n",
       "      <td>(Rated 4.0, RATED\\n  I was here for dinner with my family on a weekday. The restaurant was completely empty. Ambience is good with some good old hindi music. Seating arrangement are good too. We ordered masala papad, panner and baby corn starters, lemon and corrionder soup, butter roti, olive and chilli paratha. Food was fresh and good, service is good too. Good for family hangout.\\nCheers)</td>\n",
       "    </tr>\n",
       "    <tr>\n",
       "      <th>1764</th>\n",
       "      <td>0</td>\n",
       "      <td>(Rated 2.0, RATED\\n  Its a restaurant near to Banashankari BDA. Me along with few of my office friends visited to have buffet but unfortunately they only provide veg buffet. On inquiring they said this place is mostly visited by vegetarians. Anyways we ordered ala carte items which took ages to come. Food was ok ok. Definitely not visiting anymore.)</td>\n",
       "    </tr>\n",
       "    <tr>\n",
       "      <th>2646</th>\n",
       "      <td>0</td>\n",
       "      <td>(Rated 4.0, RATED\\n  We went here on a weekend and one of us had the buffet while two of us took Ala Carte. Firstly the ambience and service of this place is great! The buffet had a lot of items and the good was good. We had a Pumpkin Halwa intm the dessert which was amazing. Must try! The kulchas are great here. Cheers!)</td>\n",
       "    </tr>\n",
       "    <tr>\n",
       "      <th>3528</th>\n",
       "      <td>0</td>\n",
       "      <td>(Rated 5.0, RATED\\n  The best thing about the place is itÃÃÃÃÃÃÃÃs ambiance. Second best thing was yummy ? food. We try buffet and buffet food was not disappointed us.\\nTest ?. ?? ?? ?? ?? ??\\nQuality ?. ??????????.\\nService: Staff was very professional and friendly.\\n\\nOverall experience was excellent.\\n\\nsubirmajumder85.wixsite.com)</td>\n",
       "    </tr>\n",
       "    <tr>\n",
       "      <th>4410</th>\n",
       "      <td>0</td>\n",
       "      <td>(Rated 5.0, RATED\\n  Great food and pleasant ambience. Expensive but Coll place to chill and relax......\\n\\nService is really very very good and friendly staff...\\n\\nFood : 5/5\\nService : 5/5\\nAmbience :5/5\\nOverall :5/5)</td>\n",
       "    </tr>\n",
       "    <tr>\n",
       "      <th>5292</th>\n",
       "      <td>0</td>\n",
       "      <td>(Rated 4.0, RATED\\n  Good ambience with tasty food.\\nCheese chilli paratha with Bhutta palak methi curry is a good combo.\\nLemon Chicken in the starters is a must try item.\\nEgg fried rice was also quite tasty.\\nIn the mocktails, recommend \"Alice in Junoon\". Do not miss it.)</td>\n",
       "    </tr>\n",
       "    <tr>\n",
       "      <th>6174</th>\n",
       "      <td>0</td>\n",
       "      <td>(Rated 4.0, RATED\\n  You canÃÃÃÃÃÃÃÃt go wrong with Jalsa. Never been a fan of their buffet and thus always order alacarteÃÃÃÃÃÃÃÃ. Service at times can be on the slower side but food is worth the wait.)</td>\n",
       "    </tr>\n",
       "    <tr>\n",
       "      <th>7056</th>\n",
       "      <td>0</td>\n",
       "      <td>(Rated 5.0, RATED\\n  Overdelighted by the service and food provided at this place. A royal and ethnic atmosphere builds a strong essence of being in India and also the quality and taste of food is truly authentic. I would totally recommend to visit this place once.)</td>\n",
       "    </tr>\n",
       "    <tr>\n",
       "      <th>7938</th>\n",
       "      <td>0</td>\n",
       "      <td>(Rated 4.0, RATED\\n  The place is nice and comfortable. Food wise all jalea outlets maintain a good standard. The soya chaap was a standout dish. Clearly one of trademark dish as per me and a must try.\\n\\nThe only concern is the parking. It very congested and limited to just 5cars. The basement parking is very steep and makes it cumbersome)</td>\n",
       "    </tr>\n",
       "    <tr>\n",
       "      <th>8820</th>\n",
       "      <td>0</td>\n",
       "      <td>(Rated 4.0, RATED\\n  The place is nice and comfortable. Food wise all jalea outlets maintain a good standard. The soya chaap was a standout dish. Clearly one of trademark dish as per me and a must try.\\n\\nThe only concern is the parking. It very congested and limited to just 5cars. The basement parking is very steep and makes it cumbersome)</td>\n",
       "    </tr>\n",
       "    <tr>\n",
       "      <th>9702</th>\n",
       "      <td>0</td>\n",
       "      <td>(Rated 4.0, RATED\\n  The place is nice and comfortable. Food wise all jalea outlets maintain a good standard. The soya chaap was a standout dish. Clearly one of trademark dish as per me and a must try.\\n\\nThe only concern is the parking. It very congested and limited to just 5cars. The basement parking is very steep and makes it cumbersome)</td>\n",
       "    </tr>\n",
       "  </tbody>\n",
       "</table>\n",
       "</div>"
      ],
      "text/plain": [
       "      index  \\\n",
       "0     0       \n",
       "882   0       \n",
       "1764  0       \n",
       "2646  0       \n",
       "3528  0       \n",
       "4410  0       \n",
       "5292  0       \n",
       "6174  0       \n",
       "7056  0       \n",
       "7938  0       \n",
       "8820  0       \n",
       "9702  0       \n",
       "\n",
       "                                                                                                                                                                                                                                                                                                                                                                                                        reviews  \n",
       "0     (Rated 4.0, RATED\\n  A beautiful place to dine in.The interiors take you back to the Mughal era. The lightings are just perfect.We went there on the occasion of Christmas and so they had only limited items available. But the taste and service was not compromised at all.The only complaint is that the breads could have been better.Would surely like to come here again.)                          \n",
       "882   (Rated 4.0, RATED\\n  I was here for dinner with my family on a weekday. The restaurant was completely empty. Ambience is good with some good old hindi music. Seating arrangement are good too. We ordered masala papad, panner and baby corn starters, lemon and corrionder soup, butter roti, olive and chilli paratha. Food was fresh and good, service is good too. Good for family hangout.\\nCheers)  \n",
       "1764  (Rated 2.0, RATED\\n  Its a restaurant near to Banashankari BDA. Me along with few of my office friends visited to have buffet but unfortunately they only provide veg buffet. On inquiring they said this place is mostly visited by vegetarians. Anyways we ordered ala carte items which took ages to come. Food was ok ok. Definitely not visiting anymore.)                                            \n",
       "2646  (Rated 4.0, RATED\\n  We went here on a weekend and one of us had the buffet while two of us took Ala Carte. Firstly the ambience and service of this place is great! The buffet had a lot of items and the good was good. We had a Pumpkin Halwa intm the dessert which was amazing. Must try! The kulchas are great here. Cheers!)                                                                        \n",
       "3528  (Rated 5.0, RATED\\n  The best thing about the place is itÃÃÃÃÃÃÃÃs ambiance. Second best thing was yummy ? food. We try buffet and buffet food was not disappointed us.\\nTest ?. ?? ?? ?? ?? ??\\nQuality ?. ??????????.\\nService: Staff was very professional and friendly.\\n\\nOverall experience was excellent.\\n\\nsubirmajumder85.wixsite.com)                                           \n",
       "4410  (Rated 5.0, RATED\\n  Great food and pleasant ambience. Expensive but Coll place to chill and relax......\\n\\nService is really very very good and friendly staff...\\n\\nFood : 5/5\\nService : 5/5\\nAmbience :5/5\\nOverall :5/5)                                                                                                                                                                              \n",
       "5292  (Rated 4.0, RATED\\n  Good ambience with tasty food.\\nCheese chilli paratha with Bhutta palak methi curry is a good combo.\\nLemon Chicken in the starters is a must try item.\\nEgg fried rice was also quite tasty.\\nIn the mocktails, recommend \"Alice in Junoon\". Do not miss it.)                                                                                                                        \n",
       "6174  (Rated 4.0, RATED\\n  You canÃÃÃÃÃÃÃÃt go wrong with Jalsa. Never been a fan of their buffet and thus always order alacarteÃÃÃÃÃÃÃÃ. Service at times can be on the slower side but food is worth the wait.)                                                                                                                                                                \n",
       "7056  (Rated 5.0, RATED\\n  Overdelighted by the service and food provided at this place. A royal and ethnic atmosphere builds a strong essence of being in India and also the quality and taste of food is truly authentic. I would totally recommend to visit this place once.)                                                                                                                                 \n",
       "7938  (Rated 4.0, RATED\\n  The place is nice and comfortable. Food wise all jalea outlets maintain a good standard. The soya chaap was a standout dish. Clearly one of trademark dish as per me and a must try.\\n\\nThe only concern is the parking. It very congested and limited to just 5cars. The basement parking is very steep and makes it cumbersome)                                                     \n",
       "8820  (Rated 4.0, RATED\\n  The place is nice and comfortable. Food wise all jalea outlets maintain a good standard. The soya chaap was a standout dish. Clearly one of trademark dish as per me and a must try.\\n\\nThe only concern is the parking. It very congested and limited to just 5cars. The basement parking is very steep and makes it cumbersome)                                                     \n",
       "9702  (Rated 4.0, RATED\\n  The place is nice and comfortable. Food wise all jalea outlets maintain a good standard. The soya chaap was a standout dish. Clearly one of trademark dish as per me and a must try.\\n\\nThe only concern is the parking. It very congested and limited to just 5cars. The basement parking is very steep and makes it cumbersome)                                                     "
      ]
     },
     "execution_count": 60,
     "metadata": {},
     "output_type": "execute_result"
    }
   ],
   "source": [
    "reviews[reviews['index']==0]"
   ]
  },
  {
   "cell_type": "code",
   "execution_count": 61,
   "metadata": {
    "ExecuteTime": {
     "end_time": "2019-11-10T06:25:36.827315Z",
     "start_time": "2019-11-10T06:25:36.788782Z"
    }
   },
   "outputs": [
    {
     "data": {
      "text/plain": [
       "12"
      ]
     },
     "execution_count": 61,
     "metadata": {},
     "output_type": "execute_result"
    }
   ],
   "source": [
    "len(reviews_data.loc[reviews_data['id']==0,'reviews_list'].tolist()[0])"
   ]
  },
  {
   "cell_type": "markdown",
   "metadata": {},
   "source": [
    "###   For each line, extract the ratings and the review"
   ]
  },
  {
   "cell_type": "code",
   "execution_count": 62,
   "metadata": {
    "ExecuteTime": {
     "end_time": "2019-11-10T06:25:37.879213Z",
     "start_time": "2019-11-10T06:25:37.757126Z"
    }
   },
   "outputs": [
    {
     "data": {
      "text/html": [
       "<div>\n",
       "<style scoped>\n",
       "    .dataframe tbody tr th:only-of-type {\n",
       "        vertical-align: middle;\n",
       "    }\n",
       "\n",
       "    .dataframe tbody tr th {\n",
       "        vertical-align: top;\n",
       "    }\n",
       "\n",
       "    .dataframe thead th {\n",
       "        text-align: right;\n",
       "    }\n",
       "</style>\n",
       "<table border=\"1\" class=\"dataframe\">\n",
       "  <thead>\n",
       "    <tr style=\"text-align: right;\">\n",
       "      <th></th>\n",
       "      <th>index</th>\n",
       "      <th>reviews</th>\n",
       "      <th>rating</th>\n",
       "      <th>review_text</th>\n",
       "    </tr>\n",
       "  </thead>\n",
       "  <tbody>\n",
       "    <tr>\n",
       "      <th>0</th>\n",
       "      <td>0</td>\n",
       "      <td>(Rated 4.0, RATED\\n  A beautiful place to dine in.The interiors take you back to the Mughal era. The lightings are just perfect.We went there on the occasion of Christmas and so they had only limited items available. But the taste and service was not compromised at all.The only complaint is that the breads could have been better.Would surely like to come here again.)</td>\n",
       "      <td>Rated 4.0</td>\n",
       "      <td>RATED\\n  A beautiful place to dine in.The interiors take you back to the Mughal era. The lightings are just perfect.We went there on the occasion of Christmas and so they had only limited items available. But the taste and service was not compromised at all.The only complaint is that the breads could have been better.Would surely like to come here again.</td>\n",
       "    </tr>\n",
       "    <tr>\n",
       "      <th>1</th>\n",
       "      <td>1</td>\n",
       "      <td>(Rated 4.0, RATED\\n  Had been here for dinner with family. Turned out to be a good choose suitable for all ages of people. Can try this place. We liked the most was their starters. Service is good. Prices are affordable. Will recommend this restaurant for early dinner. The place is little noisy.)</td>\n",
       "      <td>Rated 4.0</td>\n",
       "      <td>RATED\\n  Had been here for dinner with family. Turned out to be a good choose suitable for all ages of people. Can try this place. We liked the most was their starters. Service is good. Prices are affordable. Will recommend this restaurant for early dinner. The place is little noisy.</td>\n",
       "    </tr>\n",
       "    <tr>\n",
       "      <th>2</th>\n",
       "      <td>2</td>\n",
       "      <td>(Rated 3.0, RATED\\n  Ambience is not that good enough and it's not a pocket friendly cafe and the quantity is not that good and desserts are too good enough ??..)</td>\n",
       "      <td>Rated 3.0</td>\n",
       "      <td>RATED\\n  Ambience is not that good enough and it's not a pocket friendly cafe and the quantity is not that good and desserts are too good enough ??..</td>\n",
       "    </tr>\n",
       "    <tr>\n",
       "      <th>3</th>\n",
       "      <td>3</td>\n",
       "      <td>(Rated 4.0, RATED\\n  Great food and proper Karnataka style full meals. Been there twice and was fully satisfied.. Will give 5 stars if it's well managed............)</td>\n",
       "      <td>Rated 4.0</td>\n",
       "      <td>RATED\\n  Great food and proper Karnataka style full meals. Been there twice and was fully satisfied.. Will give 5 stars if it's well managed............</td>\n",
       "    </tr>\n",
       "    <tr>\n",
       "      <th>4</th>\n",
       "      <td>4</td>\n",
       "      <td>(Rated 4.0, RATED\\n  Very good restaurant in neighbourhood. Buffet system is properly arranged. Variety of dishes along with garba dance and puppet show. Good spread of desserts. Live paratha / Kulcha making)</td>\n",
       "      <td>Rated 4.0</td>\n",
       "      <td>RATED\\n  Very good restaurant in neighbourhood. Buffet system is properly arranged. Variety of dishes along with garba dance and puppet show. Good spread of desserts. Live paratha / Kulcha making</td>\n",
       "    </tr>\n",
       "  </tbody>\n",
       "</table>\n",
       "</div>"
      ],
      "text/plain": [
       "   index  \\\n",
       "0  0       \n",
       "1  1       \n",
       "2  2       \n",
       "3  3       \n",
       "4  4       \n",
       "\n",
       "                                                                                                                                                                                                                                                                                                                                                                             reviews  \\\n",
       "0  (Rated 4.0, RATED\\n  A beautiful place to dine in.The interiors take you back to the Mughal era. The lightings are just perfect.We went there on the occasion of Christmas and so they had only limited items available. But the taste and service was not compromised at all.The only complaint is that the breads could have been better.Would surely like to come here again.)   \n",
       "1  (Rated 4.0, RATED\\n  Had been here for dinner with family. Turned out to be a good choose suitable for all ages of people. Can try this place. We liked the most was their starters. Service is good. Prices are affordable. Will recommend this restaurant for early dinner. The place is little noisy.)                                                                           \n",
       "2  (Rated 3.0, RATED\\n  Ambience is not that good enough and it's not a pocket friendly cafe and the quantity is not that good and desserts are too good enough ??..)                                                                                                                                                                                                                  \n",
       "3  (Rated 4.0, RATED\\n  Great food and proper Karnataka style full meals. Been there twice and was fully satisfied.. Will give 5 stars if it's well managed............)                                                                                                                                                                                                               \n",
       "4  (Rated 4.0, RATED\\n  Very good restaurant in neighbourhood. Buffet system is properly arranged. Variety of dishes along with garba dance and puppet show. Good spread of desserts. Live paratha / Kulcha making)                                                                                                                                                                    \n",
       "\n",
       "      rating  \\\n",
       "0  Rated 4.0   \n",
       "1  Rated 4.0   \n",
       "2  Rated 3.0   \n",
       "3  Rated 4.0   \n",
       "4  Rated 4.0   \n",
       "\n",
       "                                                                                                                                                                                                                                                                                                                                                            review_text  \n",
       "0  RATED\\n  A beautiful place to dine in.The interiors take you back to the Mughal era. The lightings are just perfect.We went there on the occasion of Christmas and so they had only limited items available. But the taste and service was not compromised at all.The only complaint is that the breads could have been better.Would surely like to come here again.  \n",
       "1  RATED\\n  Had been here for dinner with family. Turned out to be a good choose suitable for all ages of people. Can try this place. We liked the most was their starters. Service is good. Prices are affordable. Will recommend this restaurant for early dinner. The place is little noisy.                                                                          \n",
       "2  RATED\\n  Ambience is not that good enough and it's not a pocket friendly cafe and the quantity is not that good and desserts are too good enough ??..                                                                                                                                                                                                                 \n",
       "3  RATED\\n  Great food and proper Karnataka style full meals. Been there twice and was fully satisfied.. Will give 5 stars if it's well managed............                                                                                                                                                                                                              \n",
       "4  RATED\\n  Very good restaurant in neighbourhood. Buffet system is properly arranged. Variety of dishes along with garba dance and puppet show. Good spread of desserts. Live paratha / Kulcha making                                                                                                                                                                   "
      ]
     },
     "execution_count": 62,
     "metadata": {},
     "output_type": "execute_result"
    }
   ],
   "source": [
    "reviews['rating']=reviews['reviews'].apply(lambda x:x[0])\n",
    "reviews['review_text']=reviews['reviews'].apply(lambda x:x[1])\n",
    "reviews.head()"
   ]
  },
  {
   "cell_type": "markdown",
   "metadata": {
    "ExecuteTime": {
     "end_time": "2019-10-31T13:52:55.564061Z",
     "start_time": "2019-10-31T13:52:55.534730Z"
    }
   },
   "source": [
    "###   Replace the word \"rated \" and \"RATED\\n\" in rating and review_text respectively"
   ]
  },
  {
   "cell_type": "code",
   "execution_count": 63,
   "metadata": {
    "ExecuteTime": {
     "end_time": "2019-11-10T06:25:38.981814Z",
     "start_time": "2019-11-10T06:25:38.900603Z"
    }
   },
   "outputs": [],
   "source": [
    "\n",
    "reviews['rating']=reviews['rating'].apply(lambda x:re.sub(\"Rated \",\"\",str(x)))\n"
   ]
  },
  {
   "cell_type": "code",
   "execution_count": 81,
   "metadata": {
    "ExecuteTime": {
     "end_time": "2019-11-10T06:35:08.714634Z",
     "start_time": "2019-11-10T06:35:08.680594Z"
    }
   },
   "outputs": [
    {
     "data": {
      "text/plain": [
       "' I rated the restaurant badly because od the ambience'"
      ]
     },
     "execution_count": 81,
     "metadata": {},
     "output_type": "execute_result"
    }
   ],
   "source": [
    "test=\"RATED\\n I rated the restaurant badly because od the ambience\"\n",
    "re.sub(\"^(rated\\n)\",\"\",test,flags=re.I) ## Removes only the rated in the beginning of the string"
   ]
  },
  {
   "cell_type": "code",
   "execution_count": 65,
   "metadata": {
    "ExecuteTime": {
     "end_time": "2019-11-10T06:25:40.130974Z",
     "start_time": "2019-11-10T06:25:39.876570Z"
    }
   },
   "outputs": [],
   "source": [
    "reviews['review_text']=reviews['review_text'].apply(lambda x:re.sub(\"^(rated\\n)\",\"\",x,flags=re.I))\n",
    "reviews['review_text']=reviews['review_text'].apply(lambda x:x.strip())"
   ]
  },
  {
   "cell_type": "markdown",
   "metadata": {},
   "source": [
    "###   Drop of the reviews columns and also convert \"rating\" to integer"
   ]
  },
  {
   "cell_type": "code",
   "execution_count": 66,
   "metadata": {
    "ExecuteTime": {
     "end_time": "2019-11-10T06:25:41.428322Z",
     "start_time": "2019-11-10T06:25:41.388698Z"
    }
   },
   "outputs": [],
   "source": [
    "reviews.drop(['reviews'],inplace=True,axis=1)"
   ]
  },
  {
   "cell_type": "code",
   "execution_count": 67,
   "metadata": {
    "ExecuteTime": {
     "end_time": "2019-11-10T06:25:42.055821Z",
     "start_time": "2019-11-10T06:25:42.012522Z"
    }
   },
   "outputs": [],
   "source": [
    "reviews['rating']=pd.to_numeric(reviews['rating'])\n"
   ]
  },
  {
   "cell_type": "code",
   "execution_count": 68,
   "metadata": {
    "ExecuteTime": {
     "end_time": "2019-11-10T06:25:42.681908Z",
     "start_time": "2019-11-10T06:25:42.638892Z"
    }
   },
   "outputs": [
    {
     "name": "stdout",
     "output_type": "stream",
     "text": [
      "<class 'pandas.core.frame.DataFrame'>\n",
      "Int64Index: 42261 entries, 0 to 518887\n",
      "Data columns (total 3 columns):\n",
      "index          42261 non-null int64\n",
      "rating         42261 non-null float64\n",
      "review_text    42261 non-null object\n",
      "dtypes: float64(1), int64(1), object(1)\n",
      "memory usage: 1.3+ MB\n"
     ]
    }
   ],
   "source": [
    "reviews.info()"
   ]
  },
  {
   "cell_type": "markdown",
   "metadata": {},
   "source": [
    "##   Text Cleaning\n",
    "\n",
    "Let us look at another very popular library \"spacy\""
   ]
  },
  {
   "cell_type": "code",
   "execution_count": 69,
   "metadata": {
    "ExecuteTime": {
     "end_time": "2019-11-10T06:25:43.864746Z",
     "start_time": "2019-11-10T06:25:43.834128Z"
    }
   },
   "outputs": [],
   "source": [
    "import spacy"
   ]
  },
  {
   "cell_type": "markdown",
   "metadata": {},
   "source": [
    "\n",
    "\n",
    "The object “nlp” is used to create documents, access linguistic annotations and different nlp properties"
   ]
  },
  {
   "cell_type": "code",
   "execution_count": 86,
   "metadata": {
    "ExecuteTime": {
     "end_time": "2019-11-10T07:37:38.084367Z",
     "start_time": "2019-11-10T07:37:37.832683Z"
    }
   },
   "outputs": [],
   "source": [
    "nlp = spacy.load(\"en_core_web_sm\")#, disable=['parser', 'ner']) #Loads the english model and we dont want prser or an ner so we will disable it\n",
    "\n",
    "\n",
    "\n"
   ]
  },
  {
   "cell_type": "markdown",
   "metadata": {},
   "source": [
    " **Let us go through Text Preprocessing using spacy for one review**"
   ]
  },
  {
   "cell_type": "code",
   "execution_count": 87,
   "metadata": {
    "ExecuteTime": {
     "end_time": "2019-11-10T07:37:39.976553Z",
     "start_time": "2019-11-10T07:37:39.944218Z"
    }
   },
   "outputs": [
    {
     "data": {
      "text/plain": [
       "'A beautiful place to dine in.The interiors take you back to the Mughal era. The lightings are just perfect.We went there on the occasion of Christmas and so they had only limited items available. But the taste and service was not compromised at all.The only complaint is that the breads could have been better.Would surely like to come here again.'"
      ]
     },
     "execution_count": 87,
     "metadata": {},
     "output_type": "execute_result"
    }
   ],
   "source": [
    "review_txt=reviews.iloc[0]['review_text']\n",
    "review_txt"
   ]
  },
  {
   "cell_type": "code",
   "execution_count": 72,
   "metadata": {
    "ExecuteTime": {
     "end_time": "2019-11-10T06:25:46.623071Z",
     "start_time": "2019-11-10T06:25:46.573546Z"
    }
   },
   "outputs": [],
   "source": [
    "document = nlp(review_txt)#Convert into an Spacy Document"
   ]
  },
  {
   "cell_type": "code",
   "execution_count": 84,
   "metadata": {
    "ExecuteTime": {
     "end_time": "2019-11-10T07:17:27.686937Z",
     "start_time": "2019-11-10T07:17:27.654196Z"
    }
   },
   "outputs": [
    {
     "name": "stdout",
     "output_type": "stream",
     "text": [
      "[A, beautiful, place, to, dine, in, ., The, interiors, take, you, back, to, the, Mughal, era, ., The, lightings, are, just, perfect, ., We, went, there, on, the, occasion, of, Christmas, and, so, they, had, only, limited, items, available, ., But, the, taste, and, service, was, not, compromised, at, all, ., The, only, complaint, is, that, the, breads, could, have, been, better, ., Would, surely, like, to, come, here, again, .]\n"
     ]
    }
   ],
   "source": [
    "print([token for token in document]) ## Prints list of all tokens in the document"
   ]
  },
  {
   "cell_type": "code",
   "execution_count": 85,
   "metadata": {
    "ExecuteTime": {
     "end_time": "2019-11-10T07:17:39.452267Z",
     "start_time": "2019-11-10T07:17:39.415961Z"
    }
   },
   "outputs": [
    {
     "name": "stdout",
     "output_type": "stream",
     "text": [
      "['A', 'beautiful', 'place', 'to', 'dine', 'in', '.', 'The', 'interiors', 'take', 'you', 'back', 'to', 'the', 'Mughal', 'era', '.', 'The', 'lightings', 'are', 'just', 'perfect', '.', 'We', 'went', 'there', 'on', 'the', 'occasion', 'of', 'Christmas', 'and', 'so', 'they', 'had', 'only', 'limited', 'items', 'available', '.', 'But', 'the', 'taste', 'and', 'service', 'was', 'not', 'compromised', 'at', 'all', '.', 'The', 'only', 'complaint', 'is', 'that', 'the', 'breads', 'could', 'have', 'been', 'better', '.', 'Would', 'surely', 'like', 'to', 'come', 'here', 'again', '.']\n"
     ]
    }
   ],
   "source": [
    "print([token.text for token in document])"
   ]
  },
  {
   "cell_type": "code",
   "execution_count": 74,
   "metadata": {
    "ExecuteTime": {
     "end_time": "2019-11-10T06:25:50.513327Z",
     "start_time": "2019-11-10T06:25:50.481892Z"
    }
   },
   "outputs": [
    {
     "name": "stdout",
     "output_type": "stream",
     "text": [
      "[beautiful, place, dine, ., interiors, Mughal, era, ., lightings, perfect, ., went, occasion, Christmas, limited, items, available, ., taste, service, compromised, ., complaint, breads, better, ., surely, like, come, .]\n"
     ]
    }
   ],
   "source": [
    "stopwords=spacy.lang.en.stop_words.STOP_WORDS\n",
    "doc_cleaned=[token for token in document if  (token.text.lower() not in stopwords)]\n",
    "print(doc_cleaned)"
   ]
  },
  {
   "cell_type": "code",
   "execution_count": 75,
   "metadata": {
    "ExecuteTime": {
     "end_time": "2019-11-10T06:26:00.237212Z",
     "start_time": "2019-11-10T06:26:00.203676Z"
    }
   },
   "outputs": [
    {
     "name": "stdout",
     "output_type": "stream",
     "text": [
      "[('beautiful', 'ADJ'), ('place', 'NOUN'), ('dine', 'NOUN'), ('.', 'PUNCT'), ('interiors', 'NOUN'), ('Mughal', 'PROPN'), ('era', 'NOUN'), ('.', 'PUNCT'), ('lightings', 'NOUN'), ('perfect', 'ADJ'), ('.', 'PUNCT'), ('went', 'VERB'), ('occasion', 'NOUN'), ('Christmas', 'PROPN'), ('limited', 'VERB'), ('items', 'NOUN'), ('available', 'ADJ'), ('.', 'PUNCT'), ('taste', 'NOUN'), ('service', 'NOUN'), ('compromised', 'VERB'), ('.', 'PUNCT'), ('complaint', 'NOUN'), ('breads', 'NOUN'), ('better', 'ADJ'), ('.', 'PUNCT'), ('surely', 'ADV'), ('like', 'VERB'), ('come', 'VERB'), ('.', 'PUNCT')]\n"
     ]
    }
   ],
   "source": [
    "## Let us get POS tags of the words\n",
    "pos_tags=[(token.text,token.pos_) for token in document if (token.text.lower() not in stopwords)]\n",
    "print(pos_tags)"
   ]
  },
  {
   "cell_type": "markdown",
   "metadata": {},
   "source": [
    "***Let us only extract Adjectives from the document***"
   ]
  },
  {
   "cell_type": "code",
   "execution_count": 76,
   "metadata": {
    "ExecuteTime": {
     "end_time": "2019-11-10T06:26:09.031565Z",
     "start_time": "2019-11-10T06:26:09.000437Z"
    }
   },
   "outputs": [
    {
     "name": "stdout",
     "output_type": "stream",
     "text": [
      "[beautiful, perfect, available, better]\n"
     ]
    }
   ],
   "source": [
    "adj=[token for token in document if (token.text.lower() not in stopwords) and token.pos_==\"ADJ\"]\n",
    "print(adj)"
   ]
  },
  {
   "cell_type": "markdown",
   "metadata": {},
   "source": [
    "***Let us now lemmatise the document and remove space and punctuation and pronouns and numbers***"
   ]
  },
  {
   "cell_type": "code",
   "execution_count": 77,
   "metadata": {
    "ExecuteTime": {
     "end_time": "2019-11-10T06:26:22.337896Z",
     "start_time": "2019-11-10T06:26:22.306828Z"
    }
   },
   "outputs": [
    {
     "name": "stdout",
     "output_type": "stream",
     "text": [
      "['a', 'beautiful', 'place', 'dine', 'the', 'interior', 'Mughal', 'era', 'the', 'lighting', 'perfect', 'go', 'occasion', 'Christmas', 'limit', 'item', 'available', 'but', 'taste', 'service', 'compromise', 'the', 'complaint', 'bread', 'well', 'Would', 'surely', 'like', 'come']\n"
     ]
    }
   ],
   "source": [
    "doc_cleaned=[token.lemma_ for token in document if (token.text not in stopwords) and token.pos_ not in ['PUNCT','SPACE',\"PRON\",\"NUM\"]]\n",
    "print(doc_cleaned)"
   ]
  },
  {
   "cell_type": "markdown",
   "metadata": {},
   "source": [
    "###   Create a function to do all the cleaning steps and clean all the reviews"
   ]
  },
  {
   "cell_type": "code",
   "execution_count": 93,
   "metadata": {
    "ExecuteTime": {
     "end_time": "2019-11-10T07:43:01.953351Z",
     "start_time": "2019-11-10T07:43:01.919751Z"
    }
   },
   "outputs": [],
   "source": [
    "COUNT=0\n",
    "def cleanText(text):\n",
    "    global COUNT\n",
    "    nlp = spacy.load(\"en_core_web_sm\", disable=['parser', 'ner']) \n",
    "    \n",
    "    text=text.lower()\n",
    "    \n",
    "    document = nlp(text)\n",
    "    \n",
    "    doc_cleaned=[token.lemma_ for token in document if (token.text not in stopwords) and token.pos_ not in ['PUNCT','SPACE',\"PRON\",\"NUM\"]]\n",
    "    print(doc_cleaned)\n",
    "    doc_cleaned=\" \".join(doc_cleaned)\n",
    "    #print(doc_cleaned)\n",
    "    #print(doc_cleaned)\n",
    "    COUNT=COUNT+1\n",
    "    if COUNT%1000==0:\n",
    "        print(COUNT)\n",
    "    return doc_cleaned"
   ]
  },
  {
   "cell_type": "code",
   "execution_count": 60,
   "metadata": {
    "ExecuteTime": {
     "end_time": "2019-10-31T16:24:12.517073Z",
     "start_time": "2019-10-31T16:24:06.174946Z"
    }
   },
   "outputs": [
    {
     "name": "stdout",
     "output_type": "stream",
     "text": [
      "['beautiful', 'place', 'dine', 'in.the', 'interior', 'mughal', 'era', 'lighting', 'perfect.we', 'go', 'occasion', 'christmas', 'limit', 'item', 'available', 'taste', 'service', 'compromise', 'all.the', 'complaint', 'bread', 'better.would', 'surely', 'like', 'come']\n",
      "beautiful place dine in.the interior mughal era lighting perfect.we go occasion christmas limit item available taste service compromise all.the complaint bread better.would surely like come\n",
      "['dinner', 'family', 'turn', 'good', 'choose', 'suitable', 'age', 'people', 'try', 'place', 'like', 'starter', 'service', 'good', 'price', 'affordable', 'recommend', 'restaurant', 'early', 'dinner', 'place', 'little', 'noisy']\n",
      "dinner family turn good choose suitable age people try place like starter service good price affordable recommend restaurant early dinner place little noisy\n",
      "['ambience', 'good', 'pocket', 'friendly', 'cafe', 'quantity', 'good', 'dessert', 'good']\n",
      "ambience good pocket friendly cafe quantity good dessert good\n",
      "['great', 'food', 'proper', 'karnataka', 'style', 'meal', 'twice', 'fully', 'satisfied', 'star', 'manage']\n",
      "great food proper karnataka style meal twice fully satisfied star manage\n",
      "['good', 'restaurant', 'neighbourhood', 'buffet', 'system', 'properly', 'arrange', 'variety', 'dish', 'garba', 'dance', 'puppet', 'good', 'spread', 'dessert', 'live', 'paratha', '/', 'kulcha', 'making']\n",
      "good restaurant neighbourhood buffet system properly arrange variety dish garba dance puppet good spread dessert live paratha / kulcha making\n",
      "['food', 'ambience', 'service', 'family', 'lunch', 'place', 'serve', 'buffet', 'order', 'soup', 'babycorn', 'starter', 'butter', 'naan', 'kadai', 'panner', 'veg', 'kohlapuri', 'pease', 'pulav', 'food', 'good', 'service', 'slow', 'wait', 'min', 'order', 'place', 'apt', 'family', 'hangout', 'cheer']\n",
      "food ambience service family lunch place serve buffet order soup babycorn starter butter naan kadai panner veg kohlapuri pease pulav food good service slow wait min order place apt family hangout cheer\n",
      "['awesome', 'food', 'great', 'servicefriendly', 'staffsgood', 'quality', 'food', '#', 'complimentary', 'breakfast', '#', 'honey', 'lemon', 'chicken', 'chicken', 'manchow', 'soup', 'perfect', 'place', 'stay', 'family', 'stay', 'bangalore']\n",
      "awesome food great servicefriendly staffsgood quality food # complimentary breakfast # honey lemon chicken chicken manchow soup perfect place stay family stay bangalore\n",
      "['restaurant', 'think', 'good', 'buffet', 'affordable', 'cost', 'nice', 'ambience', 'n', 'music', 'staff', 'r', 'awesome', 'vodka', 'panipuri', 'z', 'unique', 'thing', 'pasta', 'z', 'yummy', 'occasion', 'b', '1st', 'choice', 'kid', 'buffet', 'time', 'strongly', 'recommend', 'ds', 'place']\n",
      "restaurant think good buffet affordable cost nice ambience n music staff r awesome vodka panipuri z unique thing pasta z yummy occasion b 1st choice kid buffet time strongly recommend ds place\n",
      "['place', 'definitely', 'visit', 'pleasant', 'ambiance', 'courteous', 'staff', 'amazing', 'food', 'quality', 'food', 'portion', 'order', 'fattoush', 'salad', 'tangy', 'dressing', 'love', 'starter', 'order', 'mutton', 'kebab', 'soft', 'juicy', 'succulent', 'mutton', 'accompany', 'hummus', 'mayo', 'main', 'course', 'order', 'kashmiri', 'pulao', 'okay', 'rice', 'sweet', 'apple', 'pomegranate', 'kernel', 'pineapple', 'course', 'serve', 'spicy', 'order', 'chicken', 'tikka', 'masala', 'eat', 'half', 'pack', 'overall', 'food', 'ambiance', 'service']\n",
      "place definitely visit pleasant ambiance courteous staff amazing food quality food portion order fattoush salad tangy dressing love starter order mutton kebab soft juicy succulent mutton accompany hummus mayo main course order kashmiri pulao okay rice sweet apple pomegranate kernel pineapple course serve spicy order chicken tikka masala eat half pack overall food ambiance service\n",
      "['buffet', 'lunch', '@', 'empire', 'restaurant', 'great', 'food', 'awesome', 'like', 'recommend', 'love', 'non', 'veg', 'budget', 'food', 'service', 'ambience']\n",
      "buffet lunch @ empire restaurant great food awesome like recommend love non veg budget food service ambience\n",
      "['okay', 'like', 'start', 'say', 'restaurant', 'team', 'unorganized', 'worker', 'order', 'food', 'online', 'boneless', 'biryani', 'receive', 'mutton', 'biryani', 'call', 'say', 'tell', 'send', 'receive', 'payment', 'care', 'horrible', 'service', 'biryani', 'taste', 'good', 'service']\n",
      "okay like start say restaurant team unorganized worker order food online boneless biryani receive mutton biryani call say tell send receive payment care horrible service biryani taste good service\n",
      "['average', 'place', 'average', 'option', 'average', 'taste', 'service', 'slow', 'get', 'unbearable', 'mosquito', 'daytime', 'beat', 'overall', 'average', 'place', 'specially', 'eat']\n",
      "average place average option average taste service slow get unbearable mosquito daytime beat overall average place specially eat\n",
      "['awesome', 'place', 'staff', 'friendly', 'music', 'good', 'think', 'need', 'talk', 'food', 'say', 'barbeque', 'town', 'water', 'melon', 'n', 'pineapple', 'barbeque', 'z', 'favorite', 'complimentary', 'birthday', '/', 'anniversary', 'cake', 'music', 'dance', 'n', 'lod', 'wish', 'love', 'place']\n",
      "awesome place staff friendly music good think need talk food say barbeque town water melon n pineapple barbeque z favorite complimentary birthday / anniversary cake music dance n lod wish love place\n",
      "['veg', 'food', 'taste', 'good', 'eat', 'everyday', 'gourmet', 'veg', 'food', 'good', 'prepare', 'long', 'wait', 'weekend', 'holiday', 'bustling', 'noisy', 'branch', 'white', 'wall', 'isckon', 'graffiti', 'pack', 'time', 'late', 'addition', 'appam', 'stew', 'winner', 'sweet', 'toother', 'celebrate', 'dessert', 'spread', 'main', 'course']\n",
      "veg food taste good eat everyday gourmet veg food good prepare long wait weekend holiday bustling noisy branch white wall isckon graffiti pack time late addition appam stew winner sweet toother celebrate dessert spread main course\n",
      "['buffet', '24th', 'main', 'ultimate', 'search', 'taste', 'restaurant', 'bangalore', 'decide', 'king', 'buffet', 'dis', 'definitely', 'heaven', 'person', 'specially', 'love', 'andhra', 'food', 'start', 'starter', 'dessert', 'item', 'super', 'mr', 'narayana', 'murty', 'chef', 'main', 'course', 'worth', 'big', 'applause', 'negative', 'point', 'ambience', 'service', 'guy', 'strongly', 'recommend', 'taste']\n",
      "buffet 24th main ultimate search taste restaurant bangalore decide king buffet dis definitely heaven person specially love andhra food start starter dessert item super mr narayana murty chef main course worth big applause negative point ambience service guy strongly recommend taste\n",
      "['bedridden', 'scour', 'number', 'restaurant', 'satiate', 'pipe', 'hot', 'soup', 'craving', 'land', 'zaitoon', 'page', 'hard', 'time', 'decide', 'order', 'coz', 'option', 'plenty', 'order', 'simple', 'chicken', 'hot', 'n', 'sour', 'soup', 'turn', 'amazing', 'taste', 'texture', 'balance', 'flavour', 'point', 'ample', 'chicken', 'veggie', 'be', 'honestly', 'crave', 'bowl', 'right', 'word', 'packaging', 'probably', 'little', 'well', 'plain', 'white', 'run', 'mill', 'container', 'justice', 's', 'inside', 'jusssayyin']\n",
      "bedridden scour number restaurant satiate pipe hot soup craving land zaitoon page hard time decide order coz option plenty order simple chicken hot n sour soup turn amazing taste texture balance flavour point ample chicken veggie be honestly crave bowl right word packaging probably little well plain white run mill container justice s inside jusssayyin\n",
      "['locate', 'km', 'place', 'know', 'buffet', 'option', 'area', 'good', 'option', 'nearby', 'drive', 'far', 'traffic', 'item', 'variety', 'mention', 'menu', 'section', 'definitely', 'serve', 'variety', 'icecream', 'flavour', 'value', 'money', 'weekday', 'avoid', 'crowd']\n",
      "locate km place know buffet option area good option nearby drive far traffic item variety mention menu section definitely serve variety icecream flavour value money weekday avoid crowd\n",
      "['wow', 'wala', 'punjabi', 'taste', 'look', 'correct', 'place', 'jump', 'authentic', 'punjabi', 'flavour', 'malai', 'paneer', 'tikka', 'chicken', 'tikka', 'taste', 'food', 'simply', 'awesome', 'order', 'lassi', 'person', 'finish', 'take', 'kinda', 'time', 'prepare', 'food', 'think', 'acceptable', 'know', 'great', 'food', 'come', 'way', 'ambiance-4', 'food-5', 'service-4']\n",
      "wow wala punjabi taste look correct place jump authentic punjabi flavour malai paneer tikka chicken tikka taste food simply awesome order lassi person finish take kinda time prepare food think acceptable know great food come way ambiance-4 food-5 service-4\n"
     ]
    },
    {
     "name": "stdout",
     "output_type": "stream",
     "text": [
      "['want', 'nice', 'quiet', 'ambience', 'food', 'good', 'love', 'soup', 'disappoint', 'dessert', 'order', 'litchi', 'rasgulla', 'dessert', 'great', 'concept', 'sweet', 'rasgulla', 'dry', 'look', 'beautiful']\n",
      "want nice quiet ambience food good love soup disappoint dessert order litchi rasgulla dessert great concept sweet rasgulla dry look beautiful\n",
      "['itã\\x83\\x83ã\\x82\\x83ã\\x83\\x82ã\\x82\\x82ã\\x83\\x83ã\\x82\\x82ã\\x83\\x82ã\\x82\\x92s', 'good', 'place', 'suggest', 'wonderful', 'place', 'hear', 'place', 'time', 'finally', 'get', 'chance', 'visit']\n",
      "itããããããããs good place suggest wonderful place hear place time finally get chance visit\n",
      "['try', 'chicken', 'ghee', 'roast', 'chicken', 'biryani', 'biryani', 'average', 'ghee', 'roast', 'chicken', 'hard', 'chewy', 'overall', 'average', 'place', 'consider', 'food', 'ambience', 'good', 'staff', 'pleasant']\n",
      "try chicken ghee roast chicken biryani biryani average ghee roast chicken hard chewy overall average place consider food ambience good staff pleasant\n",
      "['go', 'girlfriend', 'enjoy', 'lot', 'nice', 'bar', 'lounge', 'restaurant', 'menu', 'pricing', 'reasonable', 'serve', 'staff', 'active', 'food', 'delicious', 'choose', 'place', 'spend', 'quality', 'time', 'special']\n",
      "go girlfriend enjoy lot nice bar lounge restaurant menu pricing reasonable serve staff active food delicious choose place spend quality time special\n",
      "['colleague', 'seminar', 'n', 'lunch', 'small', 'buffet', 'option', 'dessert', 'food', 'quality', 'okay', 'cost', 'reasonable', 'great', 'place', 'o', 'buffet']\n",
      "colleague seminar n lunch small buffet option dessert food quality okay cost reasonable great place o buffet\n",
      "['end', 'late', 'lazy', 'sunday', 'afternoon', 'breakfast.i', 'order', 'paneer', 'masala', 'dosa', 'friend', 'order', 'paddu.the', 'dosa', 'good', 'crispy', 'beautiful', 'golden', 'colour', 'has.i', 'expect', 'aloo', 'replace', 'paneer', 'masala', 'stuff', 'turn', 'paneer', 'grate', 'aloo', 'masala.which', 'feel', 'change', 'paddu', 'take', 'long', 'time', 'blame', 'go', 'breakfast', 'come', 'burn', 'call', 'extra', 'fry', 'disappointed', 'try', 'definitely', 'masala', 'dosa(not', 'paneer', ';)', 'palak', 'paneer', 'order', 'place(keep', 'paddu:50rs', 'piece', 'big', 'paneer', 'masala', 'dosa:70r', 'location', 'actually', 'vijaya', 'bank', 'layout', 'rating', 'base', 'truelly', 'instance']\n",
      "end late lazy sunday afternoon breakfast.i order paneer masala dosa friend order paddu.the dosa good crispy beautiful golden colour has.i expect aloo replace paneer masala stuff turn paneer grate aloo masala.which feel change paddu take long time blame go breakfast come burn call extra fry disappointed try definitely masala dosa(not paneer ;) palak paneer order place(keep paddu:50rs piece big paneer masala dosa:70r location actually vijaya bank layout rating base truelly instance\n",
      "['look', 'vegetarian', 'restaurant', 'dinner', 'finalise', 'reach', 'place', 'realise', 'buffet', 'place', 'decide', 'try', 'place', 'spacious', 'seat', 'arrangement', 'nice', 'fine', 'dining', 'casual', 'dining', 'place', 'staff', 'friendly', 'address', 'guest', 'smile', 'service', 'quick', 'prompt', 'serve', 'soup', 'table', 'thing', 'need', 'pick', 'self', 'option', 'soup', 'tomato', 'shorba', 'good', 'good', 'spread', 'huge', 'live', 'counter', 'chaat', 'pasta', 'certain', 'item', 'dessert', 'okayish', 'option', 'limit', 'like', 'dahi', 'bhalla', 'good', 'ambience', 'food', 'service']\n",
      "look vegetarian restaurant dinner finalise reach place realise buffet place decide try place spacious seat arrangement nice fine dining casual dining place staff friendly address guest smile service quick prompt serve soup table thing need pick self option soup tomato shorba good good spread huge live counter chaat pasta certain item dessert okayish option limit like dahi bhalla good ambience food service\n",
      "['tiny', 'place', 'right', 'slimsin', 'cafe', 'chinese', 'style', 'bhel', 'super', 'tasty', 'innovative', 'kulcha', 'taco', 'kind', 'visit', 'place', 'definitely', 'try', 'chinese', 'style', 'bhel']\n",
      "tiny place right slimsin cafe chinese style bhel super tasty innovative kulcha taco kind visit place definitely try chinese style bhel\n",
      "['good', 'restaurant', 'neighbourhood', 'buffet', 'system', 'properly', 'arrange', 'variety', 'dish', 'garba', 'dance', 'puppet', 'good', 'spread', 'dessert', 'live', 'paratha', '/', 'kulcha', 'making']\n",
      "good restaurant neighbourhood buffet system properly arrange variety dish garba dance puppet good spread dessert live paratha / kulcha making\n",
      "['food', 'ambience', 'service', 'family', 'lunch', 'place', 'serve', 'buffet', 'order', 'soup', 'babycorn', 'starter', 'butter', 'naan', 'kadai', 'panner', 'veg', 'kohlapuri', 'pease', 'pulav', 'food', 'good', 'service', 'slow', 'wait', 'min', 'order', 'place', 'apt', 'family', 'hangout', 'cheer']\n",
      "food ambience service family lunch place serve buffet order soup babycorn starter butter naan kadai panner veg kohlapuri pease pulav food good service slow wait min order place apt family hangout cheer\n",
      "['place', 'surprise', 'locality', 'serve', 'good', 'food', 'tip', 'ambience', 'reasonable', 'price', 'gosht', 'peshawari', 'seekh', 'deserve', 'special', 'mention', 'indian', 'starter', 'chinese', 'main', 'course', 'average', 'believe', 'indian', 'item', 'worth', 'try']\n",
      "place surprise locality serve good food tip ambience reasonable price gosht peshawari seekh deserve special mention indian starter chinese main course average believe indian item worth try\n",
      "['roam', 'neighborhood', 'land', 'lunch', 'spacious', 'restaurant', 'buffet', 'ala', 'carte', 'option', 'order', 'dum', 'aloo', 'paneer', 'lababdar', 'pineapple', 'raita', 'assorted', 'bread', 'food', 'delicious', 'busy', 'place', 'service', 'prompt']\n",
      "roam neighborhood land lunch spacious restaurant buffet ala carte option order dum aloo paneer lababdar pineapple raita assorted bread food delicious busy place service prompt\n",
      "['great', 'place', 'team', 'lunch', 'place', 'buffet', 'food', 'cool', 'ambience', 'good', 'variety', 'find', 'live', 'counter', 'chat', 'desert', 'marshmallow', 'available', 'food', 'taste', 'good', 'veg', 'non', 'veg']\n",
      "great place team lunch place buffet food cool ambience good variety find live counter chat desert marshmallow available food taste good veg non veg\n",
      "['empire', 'usual', 'bit', 'costly', 'justice', 'good', 'quantity', 'quality', 'packing', 'good', 'hot', 'look', 'forward', 'visit', 'soon']\n",
      "empire usual bit costly justice good quantity quality packing good hot look forward visit soon\n",
      "['beautiful', 'place', 'dine', 'in.the', 'interior', 'mughal', 'era', 'lighting', 'perfect.we', 'go', 'occasion', 'christmas', 'limit', 'item', 'available', 'taste', 'service', 'compromise', 'all.the', 'complaint', 'bread', 'better.would', 'surely', 'like', 'come']\n",
      "beautiful place dine in.the interior mughal era lighting perfect.we go occasion christmas limit item available taste service compromise all.the complaint bread better.would surely like come\n",
      "['new', 'venue', 'breakfast', 'weekend', 'give', 'warm', 'welcome', 'staff', 'owner', 'start', 'fresh', 'fruit', 'juice', 'plenty', 'option', 'come', 'menu', 'unique', 'different', 'regular', 'breakfast', 'hotel', 'ambience', 'neat', 'standard', 'menu', 'cater', 'taste', 'fashion', 'dish', 'banana', 'kesri', 'bath', 'butter', 'masala', 'dosa', 'filter', 'coffee', 'try', 'spring', 'roll', 'dosa', 'mood', 'try', 'new', 'will', 'disappoint', 'love', 'service']\n",
      "new venue breakfast weekend give warm welcome staff owner start fresh fruit juice plenty option come menu unique different regular breakfast hotel ambience neat standard menu cater taste fashion dish banana kesri bath butter masala dosa filter coffee try spring roll dosa mood try new will disappoint love service\n",
      "['ambience', 'good', 'pocket', 'friendly', 'cafe', 'quantity', 'good', 'dessert', 'good']\n",
      "ambience good pocket friendly cafe quantity good dessert good\n",
      "['visit', 'restaurant', 'family', 'ambeince', 'absulotley', 'good', 'food', 'quality', 'arrangement', 'amazing', 'thank', 'good', 'hospitality', 'defneatley', 'visit', 'tree', 'restaurant']\n",
      "visit restaurant family ambeince absulotley good food quality arrangement amazing thank good hospitality defneatley visit tree restaurant\n"
     ]
    },
    {
     "name": "stdout",
     "output_type": "stream",
     "text": [
      "['enjoy', 'buffet', 'spread', 'reasonably', 'price', 'polite', 'service', 'ala', 'carte', 'highly', 'price', 'guess', 'work', 'buffet', 'option']\n",
      "enjoy buffet spread reasonably price polite service ala carte highly price guess work buffet option\n",
      "['view', 'good', 'paneer', 'dish', 'fresh', 'tasty', 'biryani', 'good', 'spice', 'level', 'medium', 'service', 'well', 'food', 'ambience-', 'service-3/5']\n",
      "view good paneer dish fresh tasty biryani good spice level medium service well food ambience- service-3/5\n",
      "['delightful', 'starter', 'tasty', 'mock', 'tail', 'find', 'place', 'unfortunately', 'menu', 'available', 'unavailability', 'issue', 'find', 'parking', 'spot', 'issue', 'plan', 'properly']\n",
      "delightful starter tasty mock tail find place unfortunately menu available unavailability issue find parking spot issue plan properly\n",
      "['place', 'local', 'like', 'polished', 'dinner', 'buffet', 'variety', 'starter', 'sweet', 'specially', 'foreigner', 'spice', 'mistake', 'star', 'hotel', 'nice', 'ambience', 'courteous', 'staff']\n",
      "place local like polished dinner buffet variety starter sweet specially foreigner spice mistake star hotel nice ambience courteous staff\n",
      "['huge', 'seafood', 'fan', 'goan', 'cuisine', 'close', 'heart', 'place', 'great', 'combination', 'good', 'food', 'fantastic', 'margarita', 'great', 'live', 'music', 'wrong', 'matter', 'order', 'personal', 'favourite', 'menu', 'chorizo', 'pao', 'masala', 'fry', 'calamari', 'watermelon', 'margarita', 'pitcher', 'tip', 'go', 'order', 'catch', 'day', 'fish', 'table', 'choose', 'check', 'weight', 'confirm', 'price', 'good', 'time', 'visit', 'lazy', 'weekend', 'afternoon', 'place', 'good']\n",
      "huge seafood fan goan cuisine close heart place great combination good food fantastic margarita great live music wrong matter order personal favourite menu chorizo pao masala fry calamari watermelon margarita pitcher tip go order catch day fish table choose check weight confirm price good time visit lazy weekend afternoon place good\n",
      "['go', 'lunch', 'love', 'buffet', 'dish', 'dish', 'scrumptuous', 'specially', 'variety', 'salad', 'inversatile', 'dessert', 'yummy', 'food', 'quality', 'good', 'service']\n",
      "go lunch love buffet dish dish scrumptuous specially variety salad inversatile dessert yummy food quality good service\n",
      "['beautiful', 'place', 'ideal', 'date', 'moment', 'enter', 'place', 'feel', 'like', 'middle', 'east', 'costume', 'wear', 'click', 'selfie', 'day', 'go', 'friday', 'dinner', 'post', 'pm', 'live', 'hindi', 'music', 'singer', 'amazing', 'enjoy', 'music', 'food', 'order', 'hukkah', 'cocktail', 'al', 'harira', 'soup', 'non', '-', 'veg', 'mezze', 'platter', 'murg', 'harimichwala', 'dal', 'makhani', 'lamb', 'mousaka', 'dessert', 'order', 'choco', 'bomb', 'baked', 'alaska', 'start', 'drink', 'hukkah', 'smokey', 'add', 'drama', 'enjoy', 'smoke', 'food', 'average', 'like', 'non', '-', 'veg', 'platter', 'lamb', 'mouska', 'interior', 'good', 'hall', 'room', 'inside', 'look', 'like', 'palace', 'room', 'hall', 'book', 'private', 'party', 'overall', 'enjoy', 'ambiance']\n",
      "beautiful place ideal date moment enter place feel like middle east costume wear click selfie day go friday dinner post pm live hindi music singer amazing enjoy music food order hukkah cocktail al harira soup non - veg mezze platter murg harimichwala dal makhani lamb mousaka dessert order choco bomb baked alaska start drink hukkah smokey add drama enjoy smoke food average like non - veg platter lamb mouska interior good hall room inside look like palace room hall book private party overall enjoy ambiance\n",
      "['weekday', 'evening', 'quick', 'drink', 'like', 'rooftop', 'ambiance', 'bar', 'x', 'change', 'concept', 'settle', 'table', 'oversee', 'ring', 'road', 'traffic', 'food', 'decent', 'wide', 'choice', 'beverage', 'course', 'depend', 'rate', 'switch', 'beer', 'hard', 'liquor', 'classic', 'cocktail', 'ideal', 'office', 'party', 'catch', 'friend']\n",
      "weekday evening quick drink like rooftop ambiance bar x change concept settle table oversee ring road traffic food decent wide choice beverage course depend rate switch beer hard liquor classic cocktail ideal office party catch friend\n",
      "['aloft', 'brown', 't', 'new', 'love', 'amazing', 'banana', 'cake', '&', 'chocolate', 'cupcake', 'think', 'croissant', 'good', 'time']\n",
      "aloft brown t new love amazing banana cake & chocolate cupcake think croissant good time\n",
      "['place', 'friend', 'visit', 'central', 'movie', 'shopping', 'ambience', 'place', 'decent', 'food', 'good', 'try', 'lot', 'dish', 'menu', 'favourite', 'tamatar', 'shorba', 'dahi', 'ke', 'kebab', 'crispy', 'corn', 'paneer', 'makhanwala', 'staff', 'pretty', 'courteous', 'service', 'quick', 'definitely', 'recommend', 'place']\n",
      "place friend visit central movie shopping ambience place decent food good try lot dish menu favourite tamatar shorba dahi ke kebab crispy corn paneer makhanwala staff pretty courteous service quick definitely recommend place\n",
      "['impromptu', 'meeting', 'decide', 'sit', 'place', 'beer', 'starter', 'good', 'place', 'require', 'sprucing', 'pull', 'crowd', 'lively', 'service', 'attentive', 'fast', 'like', 'place', 'separate', 'smoking', 'room', 'allow', 'people', 'smoke', 'floor', 'unfortunately', 'place', 'bangalore', 'smoking', 'room']\n",
      "impromptu meeting decide sit place beer starter good place require sprucing pull crowd lively service attentive fast like place separate smoking room allow people smoke floor unfortunately place bangalore smoking room\n",
      "['place', 'close', 'bud', 'usually', 'prefer', 'open', 'terrace', 'view', 'awesome', 'numerous', 'office', 'party', 'good', 'place', 'hang', 'alacarte', 'buffet', 'veg', 'option', 'buffet', 'limited', 'pleasing', 'come', 'non', 'veg', 'pack', 'punch', 'awesome', 'lucky', 'fish', 'fry', 'honey', 'chicken', 'fry', 'buffet', 'menu', 'drool', 'worthy', 'finger', 'lick', 'good', 'main', 'course', 'average', 'great', 'starter', 'regret', 'have', 'try', 'sure']\n",
      "place close bud usually prefer open terrace view awesome numerous office party good place hang alacarte buffet veg option buffet limited pleasing come non veg pack punch awesome lucky fish fry honey chicken fry buffet menu drool worthy finger lick good main course average great starter regret have try sure\n",
      "['good', 'place', 'bellandur', 'punjabi', 'time', 'specially', 'food', '.visited', 'place', 'time', 'order', 'food', 'amazing', 'monday', 'friday', 'serve', 'lunch', 'buffet', 'verity', 'food', 'absolutely', 'great', 'ambience', 'good', 'totally', 'punjabi', 'tradition', 'love', 'place', 'apart', 'food', 'service', 'good', 'staff', 'friendly', 'customer', 'jame', 'manoj', 'staff', 'helpful', 'ask', 'immediately', 'table', 'nice', 'experience', 'visit', 'place', 'notice', 'corporate', 'party', 'think', 'good', 'place', 'family', 'finally', 'personally', 'suggest', 'friend', 'guy', 'prefer', 'completely', 'indian', 'punjabi', 'food', 'pl', 'visit', 'place', 'different', 'experience', 'overall', 'experience']\n",
      "good place bellandur punjabi time specially food .visited place time order food amazing monday friday serve lunch buffet verity food absolutely great ambience good totally punjabi tradition love place apart food service good staff friendly customer jame manoj staff helpful ask immediately table nice experience visit place notice corporate party think good place family finally personally suggest friend guy prefer completely indian punjabi food pl visit place different experience overall experience\n"
     ]
    },
    {
     "ename": "KeyboardInterrupt",
     "evalue": "",
     "output_type": "error",
     "traceback": [
      "\u001b[0;31m---------------------------------------------------------------------------\u001b[0m",
      "\u001b[0;31mKeyboardInterrupt\u001b[0m                         Traceback (most recent call last)",
      "\u001b[0;32m<ipython-input-60-e0599f2d2e44>\u001b[0m in \u001b[0;36m<module>\u001b[0;34m\u001b[0m\n\u001b[0;32m----> 1\u001b[0;31m \u001b[0mreviews\u001b[0m\u001b[0;34m[\u001b[0m\u001b[0;34m'cleaned_review_1'\u001b[0m\u001b[0;34m]\u001b[0m\u001b[0;34m=\u001b[0m\u001b[0mreviews\u001b[0m\u001b[0;34m[\u001b[0m\u001b[0;34m'review_text'\u001b[0m\u001b[0;34m]\u001b[0m\u001b[0;34m.\u001b[0m\u001b[0mapply\u001b[0m\u001b[0;34m(\u001b[0m\u001b[0;32mlambda\u001b[0m \u001b[0mx\u001b[0m\u001b[0;34m:\u001b[0m\u001b[0mcleanText\u001b[0m\u001b[0;34m(\u001b[0m\u001b[0mx\u001b[0m\u001b[0;34m)\u001b[0m\u001b[0;34m)\u001b[0m\u001b[0;34m\u001b[0m\u001b[0;34m\u001b[0m\u001b[0m\n\u001b[0m",
      "\u001b[0;32m/anaconda3/lib/python3.6/site-packages/pandas/core/series.py\u001b[0m in \u001b[0;36mapply\u001b[0;34m(self, func, convert_dtype, args, **kwds)\u001b[0m\n\u001b[1;32m   3589\u001b[0m             \u001b[0;32melse\u001b[0m\u001b[0;34m:\u001b[0m\u001b[0;34m\u001b[0m\u001b[0;34m\u001b[0m\u001b[0m\n\u001b[1;32m   3590\u001b[0m                 \u001b[0mvalues\u001b[0m \u001b[0;34m=\u001b[0m \u001b[0mself\u001b[0m\u001b[0;34m.\u001b[0m\u001b[0mastype\u001b[0m\u001b[0;34m(\u001b[0m\u001b[0mobject\u001b[0m\u001b[0;34m)\u001b[0m\u001b[0;34m.\u001b[0m\u001b[0mvalues\u001b[0m\u001b[0;34m\u001b[0m\u001b[0;34m\u001b[0m\u001b[0m\n\u001b[0;32m-> 3591\u001b[0;31m                 \u001b[0mmapped\u001b[0m \u001b[0;34m=\u001b[0m \u001b[0mlib\u001b[0m\u001b[0;34m.\u001b[0m\u001b[0mmap_infer\u001b[0m\u001b[0;34m(\u001b[0m\u001b[0mvalues\u001b[0m\u001b[0;34m,\u001b[0m \u001b[0mf\u001b[0m\u001b[0;34m,\u001b[0m \u001b[0mconvert\u001b[0m\u001b[0;34m=\u001b[0m\u001b[0mconvert_dtype\u001b[0m\u001b[0;34m)\u001b[0m\u001b[0;34m\u001b[0m\u001b[0;34m\u001b[0m\u001b[0m\n\u001b[0m\u001b[1;32m   3592\u001b[0m \u001b[0;34m\u001b[0m\u001b[0m\n\u001b[1;32m   3593\u001b[0m         \u001b[0;32mif\u001b[0m \u001b[0mlen\u001b[0m\u001b[0;34m(\u001b[0m\u001b[0mmapped\u001b[0m\u001b[0;34m)\u001b[0m \u001b[0;32mand\u001b[0m \u001b[0misinstance\u001b[0m\u001b[0;34m(\u001b[0m\u001b[0mmapped\u001b[0m\u001b[0;34m[\u001b[0m\u001b[0;36m0\u001b[0m\u001b[0;34m]\u001b[0m\u001b[0;34m,\u001b[0m \u001b[0mSeries\u001b[0m\u001b[0;34m)\u001b[0m\u001b[0;34m:\u001b[0m\u001b[0;34m\u001b[0m\u001b[0;34m\u001b[0m\u001b[0m\n",
      "\u001b[0;32mpandas/_libs/lib.pyx\u001b[0m in \u001b[0;36mpandas._libs.lib.map_infer\u001b[0;34m()\u001b[0m\n",
      "\u001b[0;32m<ipython-input-60-e0599f2d2e44>\u001b[0m in \u001b[0;36m<lambda>\u001b[0;34m(x)\u001b[0m\n\u001b[0;32m----> 1\u001b[0;31m \u001b[0mreviews\u001b[0m\u001b[0;34m[\u001b[0m\u001b[0;34m'cleaned_review_1'\u001b[0m\u001b[0;34m]\u001b[0m\u001b[0;34m=\u001b[0m\u001b[0mreviews\u001b[0m\u001b[0;34m[\u001b[0m\u001b[0;34m'review_text'\u001b[0m\u001b[0;34m]\u001b[0m\u001b[0;34m.\u001b[0m\u001b[0mapply\u001b[0m\u001b[0;34m(\u001b[0m\u001b[0;32mlambda\u001b[0m \u001b[0mx\u001b[0m\u001b[0;34m:\u001b[0m\u001b[0mcleanText\u001b[0m\u001b[0;34m(\u001b[0m\u001b[0mx\u001b[0m\u001b[0;34m)\u001b[0m\u001b[0;34m)\u001b[0m\u001b[0;34m\u001b[0m\u001b[0;34m\u001b[0m\u001b[0m\n\u001b[0m",
      "\u001b[0;32m<ipython-input-59-dd1506172a21>\u001b[0m in \u001b[0;36mcleanText\u001b[0;34m(text)\u001b[0m\n\u001b[1;32m      2\u001b[0m \u001b[0;32mdef\u001b[0m \u001b[0mcleanText\u001b[0m\u001b[0;34m(\u001b[0m\u001b[0mtext\u001b[0m\u001b[0;34m)\u001b[0m\u001b[0;34m:\u001b[0m\u001b[0;34m\u001b[0m\u001b[0;34m\u001b[0m\u001b[0m\n\u001b[1;32m      3\u001b[0m     \u001b[0;32mglobal\u001b[0m \u001b[0mCOUNT\u001b[0m\u001b[0;34m\u001b[0m\u001b[0;34m\u001b[0m\u001b[0m\n\u001b[0;32m----> 4\u001b[0;31m     \u001b[0mnlp\u001b[0m \u001b[0;34m=\u001b[0m \u001b[0mspacy\u001b[0m\u001b[0;34m.\u001b[0m\u001b[0mload\u001b[0m\u001b[0;34m(\u001b[0m\u001b[0;34m\"en_core_web_sm\"\u001b[0m\u001b[0;34m,\u001b[0m \u001b[0mdisable\u001b[0m\u001b[0;34m=\u001b[0m\u001b[0;34m[\u001b[0m\u001b[0;34m'parser'\u001b[0m\u001b[0;34m,\u001b[0m \u001b[0;34m'ner'\u001b[0m\u001b[0;34m]\u001b[0m\u001b[0;34m)\u001b[0m\u001b[0;34m\u001b[0m\u001b[0;34m\u001b[0m\u001b[0m\n\u001b[0m\u001b[1;32m      5\u001b[0m \u001b[0;34m\u001b[0m\u001b[0m\n\u001b[1;32m      6\u001b[0m     \u001b[0mtext\u001b[0m\u001b[0;34m=\u001b[0m\u001b[0mtext\u001b[0m\u001b[0;34m.\u001b[0m\u001b[0mlower\u001b[0m\u001b[0;34m(\u001b[0m\u001b[0;34m)\u001b[0m\u001b[0;34m\u001b[0m\u001b[0;34m\u001b[0m\u001b[0m\n",
      "\u001b[0;32m/anaconda3/lib/python3.6/site-packages/spacy/__init__.py\u001b[0m in \u001b[0;36mload\u001b[0;34m(name, **overrides)\u001b[0m\n\u001b[1;32m     25\u001b[0m     \u001b[0;32mif\u001b[0m \u001b[0mdepr_path\u001b[0m \u001b[0;32mnot\u001b[0m \u001b[0;32min\u001b[0m \u001b[0;34m(\u001b[0m\u001b[0;32mTrue\u001b[0m\u001b[0;34m,\u001b[0m \u001b[0;32mFalse\u001b[0m\u001b[0;34m,\u001b[0m \u001b[0;32mNone\u001b[0m\u001b[0;34m)\u001b[0m\u001b[0;34m:\u001b[0m\u001b[0;34m\u001b[0m\u001b[0;34m\u001b[0m\u001b[0m\n\u001b[1;32m     26\u001b[0m         \u001b[0mdeprecation_warning\u001b[0m\u001b[0;34m(\u001b[0m\u001b[0mWarnings\u001b[0m\u001b[0;34m.\u001b[0m\u001b[0mW001\u001b[0m\u001b[0;34m.\u001b[0m\u001b[0mformat\u001b[0m\u001b[0;34m(\u001b[0m\u001b[0mpath\u001b[0m\u001b[0;34m=\u001b[0m\u001b[0mdepr_path\u001b[0m\u001b[0;34m)\u001b[0m\u001b[0;34m)\u001b[0m\u001b[0;34m\u001b[0m\u001b[0;34m\u001b[0m\u001b[0m\n\u001b[0;32m---> 27\u001b[0;31m     \u001b[0;32mreturn\u001b[0m \u001b[0mutil\u001b[0m\u001b[0;34m.\u001b[0m\u001b[0mload_model\u001b[0m\u001b[0;34m(\u001b[0m\u001b[0mname\u001b[0m\u001b[0;34m,\u001b[0m \u001b[0;34m**\u001b[0m\u001b[0moverrides\u001b[0m\u001b[0;34m)\u001b[0m\u001b[0;34m\u001b[0m\u001b[0;34m\u001b[0m\u001b[0m\n\u001b[0m\u001b[1;32m     28\u001b[0m \u001b[0;34m\u001b[0m\u001b[0m\n\u001b[1;32m     29\u001b[0m \u001b[0;34m\u001b[0m\u001b[0m\n",
      "\u001b[0;32m/anaconda3/lib/python3.6/site-packages/spacy/util.py\u001b[0m in \u001b[0;36mload_model\u001b[0;34m(name, **overrides)\u001b[0m\n\u001b[1;32m    132\u001b[0m             \u001b[0;32mreturn\u001b[0m \u001b[0mload_model_from_link\u001b[0m\u001b[0;34m(\u001b[0m\u001b[0mname\u001b[0m\u001b[0;34m,\u001b[0m \u001b[0;34m**\u001b[0m\u001b[0moverrides\u001b[0m\u001b[0;34m)\u001b[0m\u001b[0;34m\u001b[0m\u001b[0;34m\u001b[0m\u001b[0m\n\u001b[1;32m    133\u001b[0m         \u001b[0;32mif\u001b[0m \u001b[0mis_package\u001b[0m\u001b[0;34m(\u001b[0m\u001b[0mname\u001b[0m\u001b[0;34m)\u001b[0m\u001b[0;34m:\u001b[0m  \u001b[0;31m# installed as package\u001b[0m\u001b[0;34m\u001b[0m\u001b[0;34m\u001b[0m\u001b[0m\n\u001b[0;32m--> 134\u001b[0;31m             \u001b[0;32mreturn\u001b[0m \u001b[0mload_model_from_package\u001b[0m\u001b[0;34m(\u001b[0m\u001b[0mname\u001b[0m\u001b[0;34m,\u001b[0m \u001b[0;34m**\u001b[0m\u001b[0moverrides\u001b[0m\u001b[0;34m)\u001b[0m\u001b[0;34m\u001b[0m\u001b[0;34m\u001b[0m\u001b[0m\n\u001b[0m\u001b[1;32m    135\u001b[0m         \u001b[0;32mif\u001b[0m \u001b[0mPath\u001b[0m\u001b[0;34m(\u001b[0m\u001b[0mname\u001b[0m\u001b[0;34m)\u001b[0m\u001b[0;34m.\u001b[0m\u001b[0mexists\u001b[0m\u001b[0;34m(\u001b[0m\u001b[0;34m)\u001b[0m\u001b[0;34m:\u001b[0m  \u001b[0;31m# path to model data directory\u001b[0m\u001b[0;34m\u001b[0m\u001b[0;34m\u001b[0m\u001b[0m\n\u001b[1;32m    136\u001b[0m             \u001b[0;32mreturn\u001b[0m \u001b[0mload_model_from_path\u001b[0m\u001b[0;34m(\u001b[0m\u001b[0mPath\u001b[0m\u001b[0;34m(\u001b[0m\u001b[0mname\u001b[0m\u001b[0;34m)\u001b[0m\u001b[0;34m,\u001b[0m \u001b[0;34m**\u001b[0m\u001b[0moverrides\u001b[0m\u001b[0;34m)\u001b[0m\u001b[0;34m\u001b[0m\u001b[0;34m\u001b[0m\u001b[0m\n",
      "\u001b[0;32m/anaconda3/lib/python3.6/site-packages/spacy/util.py\u001b[0m in \u001b[0;36mload_model_from_package\u001b[0;34m(name, **overrides)\u001b[0m\n\u001b[1;32m    153\u001b[0m     \u001b[0;34m\"\"\"Load a model from an installed package.\"\"\"\u001b[0m\u001b[0;34m\u001b[0m\u001b[0;34m\u001b[0m\u001b[0m\n\u001b[1;32m    154\u001b[0m     \u001b[0mcls\u001b[0m \u001b[0;34m=\u001b[0m \u001b[0mimportlib\u001b[0m\u001b[0;34m.\u001b[0m\u001b[0mimport_module\u001b[0m\u001b[0;34m(\u001b[0m\u001b[0mname\u001b[0m\u001b[0;34m)\u001b[0m\u001b[0;34m\u001b[0m\u001b[0;34m\u001b[0m\u001b[0m\n\u001b[0;32m--> 155\u001b[0;31m     \u001b[0;32mreturn\u001b[0m \u001b[0mcls\u001b[0m\u001b[0;34m.\u001b[0m\u001b[0mload\u001b[0m\u001b[0;34m(\u001b[0m\u001b[0;34m**\u001b[0m\u001b[0moverrides\u001b[0m\u001b[0;34m)\u001b[0m\u001b[0;34m\u001b[0m\u001b[0;34m\u001b[0m\u001b[0m\n\u001b[0m\u001b[1;32m    156\u001b[0m \u001b[0;34m\u001b[0m\u001b[0m\n\u001b[1;32m    157\u001b[0m \u001b[0;34m\u001b[0m\u001b[0m\n",
      "\u001b[0;32m/anaconda3/lib/python3.6/site-packages/en_core_web_sm/__init__.py\u001b[0m in \u001b[0;36mload\u001b[0;34m(**overrides)\u001b[0m\n\u001b[1;32m     10\u001b[0m \u001b[0;34m\u001b[0m\u001b[0m\n\u001b[1;32m     11\u001b[0m \u001b[0;32mdef\u001b[0m \u001b[0mload\u001b[0m\u001b[0;34m(\u001b[0m\u001b[0;34m**\u001b[0m\u001b[0moverrides\u001b[0m\u001b[0;34m)\u001b[0m\u001b[0;34m:\u001b[0m\u001b[0;34m\u001b[0m\u001b[0;34m\u001b[0m\u001b[0m\n\u001b[0;32m---> 12\u001b[0;31m     \u001b[0;32mreturn\u001b[0m \u001b[0mload_model_from_init_py\u001b[0m\u001b[0;34m(\u001b[0m\u001b[0m__file__\u001b[0m\u001b[0;34m,\u001b[0m \u001b[0;34m**\u001b[0m\u001b[0moverrides\u001b[0m\u001b[0;34m)\u001b[0m\u001b[0;34m\u001b[0m\u001b[0;34m\u001b[0m\u001b[0m\n\u001b[0m",
      "\u001b[0;32m/anaconda3/lib/python3.6/site-packages/spacy/util.py\u001b[0m in \u001b[0;36mload_model_from_init_py\u001b[0;34m(init_file, **overrides)\u001b[0m\n\u001b[1;32m    191\u001b[0m     \u001b[0;32mif\u001b[0m \u001b[0;32mnot\u001b[0m \u001b[0mmodel_path\u001b[0m\u001b[0;34m.\u001b[0m\u001b[0mexists\u001b[0m\u001b[0;34m(\u001b[0m\u001b[0;34m)\u001b[0m\u001b[0;34m:\u001b[0m\u001b[0;34m\u001b[0m\u001b[0;34m\u001b[0m\u001b[0m\n\u001b[1;32m    192\u001b[0m         \u001b[0;32mraise\u001b[0m \u001b[0mIOError\u001b[0m\u001b[0;34m(\u001b[0m\u001b[0mErrors\u001b[0m\u001b[0;34m.\u001b[0m\u001b[0mE052\u001b[0m\u001b[0;34m.\u001b[0m\u001b[0mformat\u001b[0m\u001b[0;34m(\u001b[0m\u001b[0mpath\u001b[0m\u001b[0;34m=\u001b[0m\u001b[0mpath2str\u001b[0m\u001b[0;34m(\u001b[0m\u001b[0mdata_path\u001b[0m\u001b[0;34m)\u001b[0m\u001b[0;34m)\u001b[0m\u001b[0;34m)\u001b[0m\u001b[0;34m\u001b[0m\u001b[0;34m\u001b[0m\u001b[0m\n\u001b[0;32m--> 193\u001b[0;31m     \u001b[0;32mreturn\u001b[0m \u001b[0mload_model_from_path\u001b[0m\u001b[0;34m(\u001b[0m\u001b[0mdata_path\u001b[0m\u001b[0;34m,\u001b[0m \u001b[0mmeta\u001b[0m\u001b[0;34m,\u001b[0m \u001b[0;34m**\u001b[0m\u001b[0moverrides\u001b[0m\u001b[0;34m)\u001b[0m\u001b[0;34m\u001b[0m\u001b[0;34m\u001b[0m\u001b[0m\n\u001b[0m\u001b[1;32m    194\u001b[0m \u001b[0;34m\u001b[0m\u001b[0m\n\u001b[1;32m    195\u001b[0m \u001b[0;34m\u001b[0m\u001b[0m\n",
      "\u001b[0;32m/anaconda3/lib/python3.6/site-packages/spacy/util.py\u001b[0m in \u001b[0;36mload_model_from_path\u001b[0;34m(model_path, meta, **overrides)\u001b[0m\n\u001b[1;32m    162\u001b[0m         \u001b[0mmeta\u001b[0m \u001b[0;34m=\u001b[0m \u001b[0mget_model_meta\u001b[0m\u001b[0;34m(\u001b[0m\u001b[0mmodel_path\u001b[0m\u001b[0;34m)\u001b[0m\u001b[0;34m\u001b[0m\u001b[0;34m\u001b[0m\u001b[0m\n\u001b[1;32m    163\u001b[0m     \u001b[0mcls\u001b[0m \u001b[0;34m=\u001b[0m \u001b[0mget_lang_class\u001b[0m\u001b[0;34m(\u001b[0m\u001b[0mmeta\u001b[0m\u001b[0;34m[\u001b[0m\u001b[0;34m\"lang\"\u001b[0m\u001b[0;34m]\u001b[0m\u001b[0;34m)\u001b[0m\u001b[0;34m\u001b[0m\u001b[0;34m\u001b[0m\u001b[0m\n\u001b[0;32m--> 164\u001b[0;31m     \u001b[0mnlp\u001b[0m \u001b[0;34m=\u001b[0m \u001b[0mcls\u001b[0m\u001b[0;34m(\u001b[0m\u001b[0mmeta\u001b[0m\u001b[0;34m=\u001b[0m\u001b[0mmeta\u001b[0m\u001b[0;34m,\u001b[0m \u001b[0;34m**\u001b[0m\u001b[0moverrides\u001b[0m\u001b[0;34m)\u001b[0m\u001b[0;34m\u001b[0m\u001b[0;34m\u001b[0m\u001b[0m\n\u001b[0m\u001b[1;32m    165\u001b[0m     \u001b[0mpipeline\u001b[0m \u001b[0;34m=\u001b[0m \u001b[0mmeta\u001b[0m\u001b[0;34m.\u001b[0m\u001b[0mget\u001b[0m\u001b[0;34m(\u001b[0m\u001b[0;34m\"pipeline\"\u001b[0m\u001b[0;34m,\u001b[0m \u001b[0;34m[\u001b[0m\u001b[0;34m]\u001b[0m\u001b[0;34m)\u001b[0m\u001b[0;34m\u001b[0m\u001b[0;34m\u001b[0m\u001b[0m\n\u001b[1;32m    166\u001b[0m     \u001b[0mdisable\u001b[0m \u001b[0;34m=\u001b[0m \u001b[0moverrides\u001b[0m\u001b[0;34m.\u001b[0m\u001b[0mget\u001b[0m\u001b[0;34m(\u001b[0m\u001b[0;34m\"disable\"\u001b[0m\u001b[0;34m,\u001b[0m \u001b[0;34m[\u001b[0m\u001b[0;34m]\u001b[0m\u001b[0;34m)\u001b[0m\u001b[0;34m\u001b[0m\u001b[0;34m\u001b[0m\u001b[0m\n",
      "\u001b[0;32m/anaconda3/lib/python3.6/site-packages/spacy/language.py\u001b[0m in \u001b[0;36m__init__\u001b[0;34m(self, vocab, make_doc, max_length, meta, **kwargs)\u001b[0m\n\u001b[1;32m    162\u001b[0m         \u001b[0;32mif\u001b[0m \u001b[0mmake_doc\u001b[0m \u001b[0;32mis\u001b[0m \u001b[0;32mTrue\u001b[0m\u001b[0;34m:\u001b[0m\u001b[0;34m\u001b[0m\u001b[0;34m\u001b[0m\u001b[0m\n\u001b[1;32m    163\u001b[0m             \u001b[0mfactory\u001b[0m \u001b[0;34m=\u001b[0m \u001b[0mself\u001b[0m\u001b[0;34m.\u001b[0m\u001b[0mDefaults\u001b[0m\u001b[0;34m.\u001b[0m\u001b[0mcreate_tokenizer\u001b[0m\u001b[0;34m\u001b[0m\u001b[0;34m\u001b[0m\u001b[0m\n\u001b[0;32m--> 164\u001b[0;31m             \u001b[0mmake_doc\u001b[0m \u001b[0;34m=\u001b[0m \u001b[0mfactory\u001b[0m\u001b[0;34m(\u001b[0m\u001b[0mself\u001b[0m\u001b[0;34m,\u001b[0m \u001b[0;34m**\u001b[0m\u001b[0mmeta\u001b[0m\u001b[0;34m.\u001b[0m\u001b[0mget\u001b[0m\u001b[0;34m(\u001b[0m\u001b[0;34m\"tokenizer\"\u001b[0m\u001b[0;34m,\u001b[0m \u001b[0;34m{\u001b[0m\u001b[0;34m}\u001b[0m\u001b[0;34m)\u001b[0m\u001b[0;34m)\u001b[0m\u001b[0;34m\u001b[0m\u001b[0;34m\u001b[0m\u001b[0m\n\u001b[0m\u001b[1;32m    165\u001b[0m         \u001b[0mself\u001b[0m\u001b[0;34m.\u001b[0m\u001b[0mtokenizer\u001b[0m \u001b[0;34m=\u001b[0m \u001b[0mmake_doc\u001b[0m\u001b[0;34m\u001b[0m\u001b[0;34m\u001b[0m\u001b[0m\n\u001b[1;32m    166\u001b[0m         \u001b[0mself\u001b[0m\u001b[0;34m.\u001b[0m\u001b[0mpipeline\u001b[0m \u001b[0;34m=\u001b[0m \u001b[0;34m[\u001b[0m\u001b[0;34m]\u001b[0m\u001b[0;34m\u001b[0m\u001b[0;34m\u001b[0m\u001b[0m\n",
      "\u001b[0;32m/anaconda3/lib/python3.6/site-packages/spacy/language.py\u001b[0m in \u001b[0;36mcreate_tokenizer\u001b[0;34m(cls, nlp)\u001b[0m\n\u001b[1;32m     77\u001b[0m             \u001b[0msuffix_search\u001b[0m\u001b[0;34m=\u001b[0m\u001b[0msuffix_search\u001b[0m\u001b[0;34m,\u001b[0m\u001b[0;34m\u001b[0m\u001b[0;34m\u001b[0m\u001b[0m\n\u001b[1;32m     78\u001b[0m             \u001b[0minfix_finditer\u001b[0m\u001b[0;34m=\u001b[0m\u001b[0minfix_finditer\u001b[0m\u001b[0;34m,\u001b[0m\u001b[0;34m\u001b[0m\u001b[0;34m\u001b[0m\u001b[0m\n\u001b[0;32m---> 79\u001b[0;31m             \u001b[0mtoken_match\u001b[0m\u001b[0;34m=\u001b[0m\u001b[0mtoken_match\u001b[0m\u001b[0;34m,\u001b[0m\u001b[0;34m\u001b[0m\u001b[0;34m\u001b[0m\u001b[0m\n\u001b[0m\u001b[1;32m     80\u001b[0m         )\n\u001b[1;32m     81\u001b[0m \u001b[0;34m\u001b[0m\u001b[0m\n",
      "\u001b[0;32mtokenizer.pyx\u001b[0m in \u001b[0;36mspacy.tokenizer.Tokenizer.__init__\u001b[0;34m()\u001b[0m\n",
      "\u001b[0;32mtokenizer.pyx\u001b[0m in \u001b[0;36mspacy.tokenizer.Tokenizer.add_special_case\u001b[0;34m()\u001b[0m\n",
      "\u001b[0;32mvocab.pyx\u001b[0m in \u001b[0;36mspacy.vocab.Vocab.make_fused_token\u001b[0;34m()\u001b[0m\n",
      "\u001b[0;32mvocab.pyx\u001b[0m in \u001b[0;36mspacy.vocab.Vocab.get_by_orth\u001b[0;34m()\u001b[0m\n",
      "\u001b[0;32mvocab.pyx\u001b[0m in \u001b[0;36mspacy.vocab.Vocab._new_lexeme\u001b[0;34m()\u001b[0m\n",
      "\u001b[0;32m/anaconda3/lib/python3.6/site-packages/spacy/lang/lex_attrs.py\u001b[0m in \u001b[0;36mis_stop\u001b[0;34m(string, stops)\u001b[0m\n\u001b[1;32m    215\u001b[0m \u001b[0;34m\u001b[0m\u001b[0m\n\u001b[1;32m    216\u001b[0m \u001b[0;34m\u001b[0m\u001b[0m\n\u001b[0;32m--> 217\u001b[0;31m \u001b[0;32mdef\u001b[0m \u001b[0mis_stop\u001b[0m\u001b[0;34m(\u001b[0m\u001b[0mstring\u001b[0m\u001b[0;34m,\u001b[0m \u001b[0mstops\u001b[0m\u001b[0;34m=\u001b[0m\u001b[0mset\u001b[0m\u001b[0;34m(\u001b[0m\u001b[0;34m)\u001b[0m\u001b[0;34m)\u001b[0m\u001b[0;34m:\u001b[0m\u001b[0;34m\u001b[0m\u001b[0;34m\u001b[0m\u001b[0m\n\u001b[0m\u001b[1;32m    218\u001b[0m     \u001b[0;32mreturn\u001b[0m \u001b[0mstring\u001b[0m\u001b[0;34m.\u001b[0m\u001b[0mlower\u001b[0m\u001b[0;34m(\u001b[0m\u001b[0;34m)\u001b[0m \u001b[0;32min\u001b[0m \u001b[0mstops\u001b[0m\u001b[0;34m\u001b[0m\u001b[0;34m\u001b[0m\u001b[0m\n\u001b[1;32m    219\u001b[0m \u001b[0;34m\u001b[0m\u001b[0m\n",
      "\u001b[0;31mKeyboardInterrupt\u001b[0m: "
     ]
    }
   ],
   "source": [
    "reviews['cleaned_review']=reviews['review_text'].apply(lambda x:cleanText(x))"
   ]
  },
  {
   "cell_type": "code",
   "execution_count": 55,
   "metadata": {
    "ExecuteTime": {
     "end_time": "2019-10-31T15:54:32.191475Z",
     "start_time": "2019-10-31T15:54:31.284416Z"
    }
   },
   "outputs": [],
   "source": [
    "reviews.to_csv(\"zomato_buffet_cleaned.csv\",index=False)"
   ]
  },
  {
   "cell_type": "code",
   "execution_count": 56,
   "metadata": {
    "ExecuteTime": {
     "end_time": "2019-10-31T16:03:36.869695Z",
     "start_time": "2019-10-31T16:03:36.421169Z"
    }
   },
   "outputs": [
    {
     "data": {
      "text/html": [
       "<div>\n",
       "<style scoped>\n",
       "    .dataframe tbody tr th:only-of-type {\n",
       "        vertical-align: middle;\n",
       "    }\n",
       "\n",
       "    .dataframe tbody tr th {\n",
       "        vertical-align: top;\n",
       "    }\n",
       "\n",
       "    .dataframe thead th {\n",
       "        text-align: right;\n",
       "    }\n",
       "</style>\n",
       "<table border=\"1\" class=\"dataframe\">\n",
       "  <thead>\n",
       "    <tr style=\"text-align: right;\">\n",
       "      <th></th>\n",
       "      <th>index</th>\n",
       "      <th>rating</th>\n",
       "      <th>review_text</th>\n",
       "      <th>cleaned_review</th>\n",
       "    </tr>\n",
       "  </thead>\n",
       "  <tbody>\n",
       "    <tr>\n",
       "      <th>0</th>\n",
       "      <td>0</td>\n",
       "      <td>4.0</td>\n",
       "      <td>A beautiful place to dine in.The interiors take you back to the Mughal era. The lightings are just perfect.We went there on the occasion of Christmas and so they had only limited items available. But the taste and service was not compromised at all.The only complaint is that the breads could have been better.Would surely like to come here again.</td>\n",
       "      <td>beautiful place dine in.the interior mughal era lighting perfect.we go occasion christmas limit item available taste service compromise all.the complaint bread better.would surely like come</td>\n",
       "    </tr>\n",
       "    <tr>\n",
       "      <th>1</th>\n",
       "      <td>1</td>\n",
       "      <td>4.0</td>\n",
       "      <td>Had been here for dinner with family. Turned out to be a good choose suitable for all ages of people. Can try this place. We liked the most was their starters. Service is good. Prices are affordable. Will recommend this restaurant for early dinner. The place is little noisy.</td>\n",
       "      <td>dinner family turn good choose suitable age people try place like starter service good price affordable recommend restaurant early dinner place little noisy</td>\n",
       "    </tr>\n",
       "    <tr>\n",
       "      <th>2</th>\n",
       "      <td>2</td>\n",
       "      <td>3.0</td>\n",
       "      <td>Ambience is not that good enough and it's not a pocket friendly cafe and the quantity is not that good and desserts are too good enough ??..</td>\n",
       "      <td>ambience good pocket friendly cafe quantity good dessert good</td>\n",
       "    </tr>\n",
       "    <tr>\n",
       "      <th>3</th>\n",
       "      <td>3</td>\n",
       "      <td>4.0</td>\n",
       "      <td>Great food and proper Karnataka style full meals. Been there twice and was fully satisfied.. Will give 5 stars if it's well managed............</td>\n",
       "      <td>great food proper karnataka style meal twice fully satisfied star manage</td>\n",
       "    </tr>\n",
       "    <tr>\n",
       "      <th>4</th>\n",
       "      <td>4</td>\n",
       "      <td>4.0</td>\n",
       "      <td>Very good restaurant in neighbourhood. Buffet system is properly arranged. Variety of dishes along with garba dance and puppet show. Good spread of desserts. Live paratha / Kulcha making</td>\n",
       "      <td>good restaurant neighbourhood buffet system properly arrange variety dish garba dance puppet good spread dessert live paratha / kulcha making</td>\n",
       "    </tr>\n",
       "  </tbody>\n",
       "</table>\n",
       "</div>"
      ],
      "text/plain": [
       "   index  rating  \\\n",
       "0  0      4.0      \n",
       "1  1      4.0      \n",
       "2  2      3.0      \n",
       "3  3      4.0      \n",
       "4  4      4.0      \n",
       "\n",
       "                                                                                                                                                                                                                                                                                                                                                   review_text  \\\n",
       "0  A beautiful place to dine in.The interiors take you back to the Mughal era. The lightings are just perfect.We went there on the occasion of Christmas and so they had only limited items available. But the taste and service was not compromised at all.The only complaint is that the breads could have been better.Would surely like to come here again.   \n",
       "1  Had been here for dinner with family. Turned out to be a good choose suitable for all ages of people. Can try this place. We liked the most was their starters. Service is good. Prices are affordable. Will recommend this restaurant for early dinner. The place is little noisy.                                                                           \n",
       "2  Ambience is not that good enough and it's not a pocket friendly cafe and the quantity is not that good and desserts are too good enough ??..                                                                                                                                                                                                                  \n",
       "3  Great food and proper Karnataka style full meals. Been there twice and was fully satisfied.. Will give 5 stars if it's well managed............                                                                                                                                                                                                               \n",
       "4  Very good restaurant in neighbourhood. Buffet system is properly arranged. Variety of dishes along with garba dance and puppet show. Good spread of desserts. Live paratha / Kulcha making                                                                                                                                                                    \n",
       "\n",
       "                                                                                                                                                                                  cleaned_review  \n",
       "0  beautiful place dine in.the interior mughal era lighting perfect.we go occasion christmas limit item available taste service compromise all.the complaint bread better.would surely like come  \n",
       "1  dinner family turn good choose suitable age people try place like starter service good price affordable recommend restaurant early dinner place little noisy                                   \n",
       "2  ambience good pocket friendly cafe quantity good dessert good                                                                                                                                  \n",
       "3  great food proper karnataka style meal twice fully satisfied star manage                                                                                                                       \n",
       "4  good restaurant neighbourhood buffet system properly arrange variety dish garba dance puppet good spread dessert live paratha / kulcha making                                                  "
      ]
     },
     "execution_count": 56,
     "metadata": {},
     "output_type": "execute_result"
    }
   ],
   "source": [
    "reviews.head()"
   ]
  },
  {
   "cell_type": "markdown",
   "metadata": {},
   "source": [
    "**There are still some punctuation marks. let us use regex and remove them. This may be because there was no space between the words**"
   ]
  },
  {
   "cell_type": "code",
   "execution_count": 212,
   "metadata": {
    "ExecuteTime": {
     "end_time": "2019-10-31T19:43:28.777982Z",
     "start_time": "2019-10-31T19:43:28.733641Z"
    }
   },
   "outputs": [],
   "source": [
    "import string\n",
    "def removePunct(text):\n",
    "    text = text.translate(str.maketrans({key: \" {0} \".format(key) for key in string.punctuation}))\n",
    "    \n",
    "    text_cleaned=\"\".join([x for x in text if x not in string.punctuation])\n",
    "    text_cleaned=re.sub(r'[^\\x00-\\x7F]+',' ', text_cleaned) ## Remove Ascii Characters\n",
    "    text_cleaned=re.sub('\\s+', ' ', text_cleaned).strip()\n",
    "    return text_cleaned"
   ]
  },
  {
   "cell_type": "code",
   "execution_count": 213,
   "metadata": {
    "ExecuteTime": {
     "end_time": "2019-10-31T19:43:31.511196Z",
     "start_time": "2019-10-31T19:43:29.356291Z"
    }
   },
   "outputs": [
    {
     "data": {
      "text/html": [
       "<div>\n",
       "<style scoped>\n",
       "    .dataframe tbody tr th:only-of-type {\n",
       "        vertical-align: middle;\n",
       "    }\n",
       "\n",
       "    .dataframe tbody tr th {\n",
       "        vertical-align: top;\n",
       "    }\n",
       "\n",
       "    .dataframe thead th {\n",
       "        text-align: right;\n",
       "    }\n",
       "</style>\n",
       "<table border=\"1\" class=\"dataframe\">\n",
       "  <thead>\n",
       "    <tr style=\"text-align: right;\">\n",
       "      <th></th>\n",
       "      <th>index</th>\n",
       "      <th>rating</th>\n",
       "      <th>review_text</th>\n",
       "      <th>cleaned_review</th>\n",
       "      <th>rating_category</th>\n",
       "    </tr>\n",
       "  </thead>\n",
       "  <tbody>\n",
       "    <tr>\n",
       "      <th>0</th>\n",
       "      <td>0</td>\n",
       "      <td>4.0</td>\n",
       "      <td>A beautiful place to dine in.The interiors take you back to the Mughal era. The lightings are just perfect.We went there on the occasion of Christmas and so they had only limited items available. But the taste and service was not compromised at all.The only complaint is that the breads could have been better.Would surely like to come here again.</td>\n",
       "      <td>beautiful place dine in the interior mughal era lighting perfect we go occasion christmas limit item available taste service compromise all the complaint bread better would surely like come</td>\n",
       "      <td>positive</td>\n",
       "    </tr>\n",
       "    <tr>\n",
       "      <th>1</th>\n",
       "      <td>1</td>\n",
       "      <td>4.0</td>\n",
       "      <td>Had been here for dinner with family. Turned out to be a good choose suitable for all ages of people. Can try this place. We liked the most was their starters. Service is good. Prices are affordable. Will recommend this restaurant for early dinner. The place is little noisy.</td>\n",
       "      <td>dinner family turn good choose suitable age people try place like starter service good price affordable recommend restaurant early dinner place little noisy</td>\n",
       "      <td>positive</td>\n",
       "    </tr>\n",
       "    <tr>\n",
       "      <th>2</th>\n",
       "      <td>2</td>\n",
       "      <td>3.0</td>\n",
       "      <td>Ambience is not that good enough and it's not a pocket friendly cafe and the quantity is not that good and desserts are too good enough ??..</td>\n",
       "      <td>ambience good pocket friendly cafe quantity good dessert good</td>\n",
       "      <td>neutral</td>\n",
       "    </tr>\n",
       "    <tr>\n",
       "      <th>3</th>\n",
       "      <td>3</td>\n",
       "      <td>4.0</td>\n",
       "      <td>Great food and proper Karnataka style full meals. Been there twice and was fully satisfied.. Will give 5 stars if it's well managed............</td>\n",
       "      <td>great food proper karnataka style meal twice fully satisfied star manage</td>\n",
       "      <td>positive</td>\n",
       "    </tr>\n",
       "    <tr>\n",
       "      <th>4</th>\n",
       "      <td>4</td>\n",
       "      <td>4.0</td>\n",
       "      <td>Very good restaurant in neighbourhood. Buffet system is properly arranged. Variety of dishes along with garba dance and puppet show. Good spread of desserts. Live paratha / Kulcha making</td>\n",
       "      <td>good restaurant neighbourhood buffet system properly arrange variety dish garba dance puppet good spread dessert live paratha kulcha making</td>\n",
       "      <td>positive</td>\n",
       "    </tr>\n",
       "  </tbody>\n",
       "</table>\n",
       "</div>"
      ],
      "text/plain": [
       "   index  rating  \\\n",
       "0  0      4.0      \n",
       "1  1      4.0      \n",
       "2  2      3.0      \n",
       "3  3      4.0      \n",
       "4  4      4.0      \n",
       "\n",
       "                                                                                                                                                                                                                                                                                                                                                   review_text  \\\n",
       "0  A beautiful place to dine in.The interiors take you back to the Mughal era. The lightings are just perfect.We went there on the occasion of Christmas and so they had only limited items available. But the taste and service was not compromised at all.The only complaint is that the breads could have been better.Would surely like to come here again.   \n",
       "1  Had been here for dinner with family. Turned out to be a good choose suitable for all ages of people. Can try this place. We liked the most was their starters. Service is good. Prices are affordable. Will recommend this restaurant for early dinner. The place is little noisy.                                                                           \n",
       "2  Ambience is not that good enough and it's not a pocket friendly cafe and the quantity is not that good and desserts are too good enough ??..                                                                                                                                                                                                                  \n",
       "3  Great food and proper Karnataka style full meals. Been there twice and was fully satisfied.. Will give 5 stars if it's well managed............                                                                                                                                                                                                               \n",
       "4  Very good restaurant in neighbourhood. Buffet system is properly arranged. Variety of dishes along with garba dance and puppet show. Good spread of desserts. Live paratha / Kulcha making                                                                                                                                                                    \n",
       "\n",
       "                                                                                                                                                                                  cleaned_review  \\\n",
       "0  beautiful place dine in the interior mughal era lighting perfect we go occasion christmas limit item available taste service compromise all the complaint bread better would surely like come   \n",
       "1  dinner family turn good choose suitable age people try place like starter service good price affordable recommend restaurant early dinner place little noisy                                    \n",
       "2  ambience good pocket friendly cafe quantity good dessert good                                                                                                                                   \n",
       "3  great food proper karnataka style meal twice fully satisfied star manage                                                                                                                        \n",
       "4  good restaurant neighbourhood buffet system properly arrange variety dish garba dance puppet good spread dessert live paratha kulcha making                                                     \n",
       "\n",
       "  rating_category  \n",
       "0  positive        \n",
       "1  positive        \n",
       "2  neutral         \n",
       "3  positive        \n",
       "4  positive        "
      ]
     },
     "execution_count": 213,
     "metadata": {},
     "output_type": "execute_result"
    }
   ],
   "source": [
    "reviews['cleaned_review']=reviews['cleaned_review'].apply(lambda x:removePunct(x))\n",
    "reviews.head()"
   ]
  },
  {
   "cell_type": "markdown",
   "metadata": {},
   "source": [
    "##   Understanding the Reviews"
   ]
  },
  {
   "cell_type": "markdown",
   "metadata": {},
   "source": [
    "###  What is the distribution of Ratings?"
   ]
  },
  {
   "cell_type": "code",
   "execution_count": 214,
   "metadata": {
    "ExecuteTime": {
     "end_time": "2019-10-31T19:43:37.814777Z",
     "start_time": "2019-10-31T19:43:37.778139Z"
    }
   },
   "outputs": [
    {
     "data": {
      "text/plain": [
       "4.0    14837\n",
       "5.0    13088\n",
       "3.0    5626 \n",
       "1.0    2505 \n",
       "2.0    1851 \n",
       "4.5    1669 \n",
       "3.5    1653 \n",
       "2.5    615  \n",
       "1.5    417  \n",
       "Name: rating, dtype: int64"
      ]
     },
     "execution_count": 214,
     "metadata": {},
     "output_type": "execute_result"
    }
   ],
   "source": [
    "reviews['rating'].value_counts()"
   ]
  },
  {
   "cell_type": "markdown",
   "metadata": {},
   "source": [
    "There are too many categories. Let us simplify it\n",
    "\n",
    "###  Let us create a new rating category - Positive, Neutral and Negative. \n",
    "\n",
    "Anythin below 3 is negative, 3 is neutral and above 3 is positive"
   ]
  },
  {
   "cell_type": "code",
   "execution_count": 215,
   "metadata": {
    "ExecuteTime": {
     "end_time": "2019-10-31T19:43:38.788512Z",
     "start_time": "2019-10-31T19:43:38.756183Z"
    }
   },
   "outputs": [],
   "source": [
    "def getRatingCategory(rating):\n",
    "    if rating<3:\n",
    "        return \"negative\"\n",
    "    elif rating>3:\n",
    "        return \"positive\"\n",
    "    else:\n",
    "        return \"neutral\""
   ]
  },
  {
   "cell_type": "code",
   "execution_count": 216,
   "metadata": {
    "ExecuteTime": {
     "end_time": "2019-10-31T19:43:39.344747Z",
     "start_time": "2019-10-31T19:43:39.298942Z"
    }
   },
   "outputs": [],
   "source": [
    "reviews['rating_category']=reviews['rating'].apply(lambda x:getRatingCategory(x))"
   ]
  },
  {
   "cell_type": "code",
   "execution_count": 217,
   "metadata": {
    "ExecuteTime": {
     "end_time": "2019-10-31T19:43:39.940658Z",
     "start_time": "2019-10-31T19:43:39.890966Z"
    }
   },
   "outputs": [
    {
     "data": {
      "text/html": [
       "<div>\n",
       "<style scoped>\n",
       "    .dataframe tbody tr th:only-of-type {\n",
       "        vertical-align: middle;\n",
       "    }\n",
       "\n",
       "    .dataframe tbody tr th {\n",
       "        vertical-align: top;\n",
       "    }\n",
       "\n",
       "    .dataframe thead th {\n",
       "        text-align: right;\n",
       "    }\n",
       "</style>\n",
       "<table border=\"1\" class=\"dataframe\">\n",
       "  <thead>\n",
       "    <tr style=\"text-align: right;\">\n",
       "      <th></th>\n",
       "      <th>index</th>\n",
       "      <th>rating</th>\n",
       "      <th>review_text</th>\n",
       "      <th>cleaned_review</th>\n",
       "      <th>rating_category</th>\n",
       "    </tr>\n",
       "  </thead>\n",
       "  <tbody>\n",
       "    <tr>\n",
       "      <th>0</th>\n",
       "      <td>0</td>\n",
       "      <td>4.0</td>\n",
       "      <td>A beautiful place to dine in.The interiors take you back to the Mughal era. The lightings are just perfect.We went there on the occasion of Christmas and so they had only limited items available. But the taste and service was not compromised at all.The only complaint is that the breads could have been better.Would surely like to come here again.</td>\n",
       "      <td>beautiful place dine in the interior mughal era lighting perfect we go occasion christmas limit item available taste service compromise all the complaint bread better would surely like come</td>\n",
       "      <td>positive</td>\n",
       "    </tr>\n",
       "    <tr>\n",
       "      <th>1</th>\n",
       "      <td>1</td>\n",
       "      <td>4.0</td>\n",
       "      <td>Had been here for dinner with family. Turned out to be a good choose suitable for all ages of people. Can try this place. We liked the most was their starters. Service is good. Prices are affordable. Will recommend this restaurant for early dinner. The place is little noisy.</td>\n",
       "      <td>dinner family turn good choose suitable age people try place like starter service good price affordable recommend restaurant early dinner place little noisy</td>\n",
       "      <td>positive</td>\n",
       "    </tr>\n",
       "    <tr>\n",
       "      <th>2</th>\n",
       "      <td>2</td>\n",
       "      <td>3.0</td>\n",
       "      <td>Ambience is not that good enough and it's not a pocket friendly cafe and the quantity is not that good and desserts are too good enough ??..</td>\n",
       "      <td>ambience good pocket friendly cafe quantity good dessert good</td>\n",
       "      <td>neutral</td>\n",
       "    </tr>\n",
       "    <tr>\n",
       "      <th>3</th>\n",
       "      <td>3</td>\n",
       "      <td>4.0</td>\n",
       "      <td>Great food and proper Karnataka style full meals. Been there twice and was fully satisfied.. Will give 5 stars if it's well managed............</td>\n",
       "      <td>great food proper karnataka style meal twice fully satisfied star manage</td>\n",
       "      <td>positive</td>\n",
       "    </tr>\n",
       "    <tr>\n",
       "      <th>4</th>\n",
       "      <td>4</td>\n",
       "      <td>4.0</td>\n",
       "      <td>Very good restaurant in neighbourhood. Buffet system is properly arranged. Variety of dishes along with garba dance and puppet show. Good spread of desserts. Live paratha / Kulcha making</td>\n",
       "      <td>good restaurant neighbourhood buffet system properly arrange variety dish garba dance puppet good spread dessert live paratha kulcha making</td>\n",
       "      <td>positive</td>\n",
       "    </tr>\n",
       "  </tbody>\n",
       "</table>\n",
       "</div>"
      ],
      "text/plain": [
       "   index  rating  \\\n",
       "0  0      4.0      \n",
       "1  1      4.0      \n",
       "2  2      3.0      \n",
       "3  3      4.0      \n",
       "4  4      4.0      \n",
       "\n",
       "                                                                                                                                                                                                                                                                                                                                                   review_text  \\\n",
       "0  A beautiful place to dine in.The interiors take you back to the Mughal era. The lightings are just perfect.We went there on the occasion of Christmas and so they had only limited items available. But the taste and service was not compromised at all.The only complaint is that the breads could have been better.Would surely like to come here again.   \n",
       "1  Had been here for dinner with family. Turned out to be a good choose suitable for all ages of people. Can try this place. We liked the most was their starters. Service is good. Prices are affordable. Will recommend this restaurant for early dinner. The place is little noisy.                                                                           \n",
       "2  Ambience is not that good enough and it's not a pocket friendly cafe and the quantity is not that good and desserts are too good enough ??..                                                                                                                                                                                                                  \n",
       "3  Great food and proper Karnataka style full meals. Been there twice and was fully satisfied.. Will give 5 stars if it's well managed............                                                                                                                                                                                                               \n",
       "4  Very good restaurant in neighbourhood. Buffet system is properly arranged. Variety of dishes along with garba dance and puppet show. Good spread of desserts. Live paratha / Kulcha making                                                                                                                                                                    \n",
       "\n",
       "                                                                                                                                                                                  cleaned_review  \\\n",
       "0  beautiful place dine in the interior mughal era lighting perfect we go occasion christmas limit item available taste service compromise all the complaint bread better would surely like come   \n",
       "1  dinner family turn good choose suitable age people try place like starter service good price affordable recommend restaurant early dinner place little noisy                                    \n",
       "2  ambience good pocket friendly cafe quantity good dessert good                                                                                                                                   \n",
       "3  great food proper karnataka style meal twice fully satisfied star manage                                                                                                                        \n",
       "4  good restaurant neighbourhood buffet system properly arrange variety dish garba dance puppet good spread dessert live paratha kulcha making                                                     \n",
       "\n",
       "  rating_category  \n",
       "0  positive        \n",
       "1  positive        \n",
       "2  neutral         \n",
       "3  positive        \n",
       "4  positive        "
      ]
     },
     "execution_count": 217,
     "metadata": {},
     "output_type": "execute_result"
    }
   ],
   "source": [
    "reviews.head()"
   ]
  },
  {
   "cell_type": "code",
   "execution_count": 218,
   "metadata": {
    "ExecuteTime": {
     "end_time": "2019-10-31T19:43:41.050388Z",
     "start_time": "2019-10-31T19:43:40.441103Z"
    }
   },
   "outputs": [
    {
     "data": {
      "text/plain": [
       "Text(0.5,1,'Distribution of Reviews Category')"
      ]
     },
     "execution_count": 218,
     "metadata": {},
     "output_type": "execute_result"
    },
    {
     "data": {
      "image/png": "[encoded data removed]",
      "text/plain": [
       "<matplotlib.figure.Figure at 0x1a256d10b8>"
      ]
     },
     "metadata": {
      "needs_background": "light"
     },
     "output_type": "display_data"
    }
   ],
   "source": [
    "sns.countplot(reviews['rating_category']).set_title(\"Distribution of Reviews Category\")"
   ]
  },
  {
   "cell_type": "markdown",
   "metadata": {},
   "source": [
    "majority of the reviews are positive.\n",
    "###  Let us now look at what are the common words used in positive and negative reviews\n",
    "\n",
    "####   First extract positive and negative reviews into seperate variables"
   ]
  },
  {
   "cell_type": "code",
   "execution_count": 219,
   "metadata": {
    "ExecuteTime": {
     "end_time": "2019-10-31T19:43:41.594242Z",
     "start_time": "2019-10-31T19:43:41.555757Z"
    }
   },
   "outputs": [],
   "source": [
    "from collections import Counter \n"
   ]
  },
  {
   "cell_type": "code",
   "execution_count": 220,
   "metadata": {
    "ExecuteTime": {
     "end_time": "2019-10-31T19:43:42.137191Z",
     "start_time": "2019-10-31T19:43:42.087809Z"
    }
   },
   "outputs": [
    {
     "data": {
      "text/plain": [
       "['beautiful place dine in the interior mughal era lighting perfect we go occasion christmas limit item available taste service compromise all the complaint bread better would surely like come',\n",
       " 'dinner family turn good choose suitable age people try place like starter service good price affordable recommend restaurant early dinner place little noisy',\n",
       " 'great food proper karnataka style meal twice fully satisfied star manage',\n",
       " 'good restaurant neighbourhood buffet system properly arrange variety dish garba dance puppet good spread dessert live paratha kulcha making',\n",
       " 'awesome food great servicefriendly staffsgood quality food complimentary breakfast honey lemon chicken chicken manchow soup perfect place stay family stay bangalore']"
      ]
     },
     "execution_count": 220,
     "metadata": {},
     "output_type": "execute_result"
    }
   ],
   "source": [
    "positive_reviews=reviews.loc[reviews['rating_category']=='positive','cleaned_review'].tolist()\n",
    "positive_reviews[0:5]"
   ]
  },
  {
   "cell_type": "code",
   "execution_count": 221,
   "metadata": {
    "ExecuteTime": {
     "end_time": "2019-10-31T19:43:42.681167Z",
     "start_time": "2019-10-31T19:43:42.636746Z"
    }
   },
   "outputs": [
    {
     "data": {
      "text/plain": [
       "['okay like start say restaurant team unorganized worker order food online boneless biryani receive mutton biryani call say tell send receive payment care horrible service biryani taste good service',\n",
       " 'visit place night dinner party place cozy design like ambience staff courteous buffet menu veg non veg starter veg non veg soup starter okish main course roti rice chow mien gravy sufficient option choose main course desert lack taste service item warm enjoy wait item need replenish quirky item photo booth new restaurant hope visit',\n",
       " 'look ab find hard time maintain niche create exp joint absolute sense plate table dirty glass come food taste feel like repeat chef come ask feedback honest change work right flavour satisfy extra attentiveness apologetic service make quick modification mood set half hunger go toss hope exp well start',\n",
       " 'go today impromptu lunch buffet booking wait good min seat manager steward show table service expect introduce concept menu little clueless go ahead ask detail go straight food serve unlimited non alcoholic beverage buffet believe good lunch serve mix italian mexican mediterranean pizza good pink pasta onion ring good pay head food worth surprised have lasagna buffet disaster',\n",
       " 'visit place lunch party organise friend food pathetic place lack hygiene avoid place']"
      ]
     },
     "execution_count": 221,
     "metadata": {},
     "output_type": "execute_result"
    }
   ],
   "source": [
    "negative_reviews=reviews.loc[reviews['rating_category']=='negative','cleaned_review'].tolist()\n",
    "negative_reviews[0:5]"
   ]
  },
  {
   "cell_type": "markdown",
   "metadata": {},
   "source": [
    "####   Tokenise the words and use Counter to keep count of words"
   ]
  },
  {
   "cell_type": "code",
   "execution_count": 222,
   "metadata": {
    "ExecuteTime": {
     "end_time": "2019-10-31T19:43:44.041291Z",
     "start_time": "2019-10-31T19:43:44.007278Z"
    }
   },
   "outputs": [],
   "source": [
    "test_string=\"the place was great and I enjoyed being in that place awesome great food\""
   ]
  },
  {
   "cell_type": "code",
   "execution_count": 223,
   "metadata": {
    "ExecuteTime": {
     "end_time": "2019-10-31T19:43:44.619680Z",
     "start_time": "2019-10-31T19:43:44.586879Z"
    }
   },
   "outputs": [
    {
     "name": "stdout",
     "output_type": "stream",
     "text": [
      "['the', 'place', 'was', 'great', 'and', 'I', 'enjoyed', 'being', 'in', 'that', 'place', 'awesome', 'great', 'food']\n"
     ]
    }
   ],
   "source": [
    "tokenised_string=test_string.split(\" \")\n",
    "print(tokenised_string)"
   ]
  },
  {
   "cell_type": "code",
   "execution_count": 224,
   "metadata": {
    "ExecuteTime": {
     "end_time": "2019-10-31T19:43:45.180460Z",
     "start_time": "2019-10-31T19:43:45.146914Z"
    }
   },
   "outputs": [
    {
     "data": {
      "text/plain": [
       "Counter({'the': 1,\n",
       "         'place': 2,\n",
       "         'was': 1,\n",
       "         'great': 2,\n",
       "         'and': 1,\n",
       "         'I': 1,\n",
       "         'enjoyed': 1,\n",
       "         'being': 1,\n",
       "         'in': 1,\n",
       "         'that': 1,\n",
       "         'awesome': 1,\n",
       "         'food': 1})"
      ]
     },
     "execution_count": 224,
     "metadata": {},
     "output_type": "execute_result"
    }
   ],
   "source": [
    "test_counter=Counter(tokenised_string)\n",
    "test_counter\n"
   ]
  },
  {
   "cell_type": "code",
   "execution_count": 225,
   "metadata": {
    "ExecuteTime": {
     "end_time": "2019-10-31T19:43:45.810903Z",
     "start_time": "2019-10-31T19:43:45.778792Z"
    }
   },
   "outputs": [
    {
     "data": {
      "text/plain": [
       "[('place', 2), ('great', 2)]"
      ]
     },
     "execution_count": 225,
     "metadata": {},
     "output_type": "execute_result"
    }
   ],
   "source": [
    "test_counter.most_common(2)"
   ]
  },
  {
   "cell_type": "markdown",
   "metadata": {},
   "source": [
    "**Let us put the above into a function. To use it, we will have to concatenate all the postive reviews as one string and all negative reviews as another**"
   ]
  },
  {
   "cell_type": "code",
   "execution_count": 226,
   "metadata": {
    "ExecuteTime": {
     "end_time": "2019-10-31T19:43:47.099875Z",
     "start_time": "2019-10-31T19:43:47.067057Z"
    }
   },
   "outputs": [],
   "source": [
    "def getMostCommon(reviews_list,topn=20):\n",
    "    reviews=\" \".join(reviews_list)\n",
    "    tokenised_reviews=reviews.split(\" \")\n",
    "    \n",
    "    \n",
    "    freq_counter=Counter(tokenised_reviews)\n",
    "    return freq_counter.most_common(topn)\n",
    "    "
   ]
  },
  {
   "cell_type": "code",
   "execution_count": 227,
   "metadata": {
    "ExecuteTime": {
     "end_time": "2019-10-31T19:43:48.156333Z",
     "start_time": "2019-10-31T19:43:47.918457Z"
    }
   },
   "outputs": [],
   "source": [
    "top_20_positive_review_words=getMostCommon(positive_reviews,20)"
   ]
  },
  {
   "cell_type": "code",
   "execution_count": 228,
   "metadata": {
    "ExecuteTime": {
     "end_time": "2019-10-31T19:43:48.610327Z",
     "start_time": "2019-10-31T19:43:48.574415Z"
    }
   },
   "outputs": [
    {
     "data": {
      "text/plain": [
       "[('good', 37180),\n",
       " ('food', 30654),\n",
       " ('place', 29353),\n",
       " ('service', 14751),\n",
       " ('ambience', 12642),\n",
       " ('great', 10885),\n",
       " ('buffet', 10363),\n",
       " ('visit', 10200),\n",
       " ('try', 9857),\n",
       " ('chicken', 8610),\n",
       " ('staff', 8306),\n",
       " ('love', 8011),\n",
       " ('starter', 7688),\n",
       " ('taste', 7527),\n",
       " ('nice', 7434),\n",
       " ('time', 7038),\n",
       " ('veg', 6993),\n",
       " ('restaurant', 6779),\n",
       " ('like', 6742),\n",
       " ('order', 6545)]"
      ]
     },
     "execution_count": 228,
     "metadata": {},
     "output_type": "execute_result"
    }
   ],
   "source": [
    "top_20_positive_review_words"
   ]
  },
  {
   "cell_type": "code",
   "execution_count": 229,
   "metadata": {
    "ExecuteTime": {
     "end_time": "2019-10-31T19:43:51.403856Z",
     "start_time": "2019-10-31T19:43:51.332806Z"
    }
   },
   "outputs": [],
   "source": [
    "top_20_negative_review_words=getMostCommon(negative_reviews,20)"
   ]
  },
  {
   "cell_type": "code",
   "execution_count": 230,
   "metadata": {
    "ExecuteTime": {
     "end_time": "2019-10-31T19:43:52.322463Z",
     "start_time": "2019-10-31T19:43:52.290008Z"
    }
   },
   "outputs": [
    {
     "data": {
      "text/plain": [
       "[('food', 5838),\n",
       " ('place', 3656),\n",
       " ('good', 3538),\n",
       " ('service', 2720),\n",
       " ('bad', 2700),\n",
       " ('buffet', 2169),\n",
       " ('order', 2093),\n",
       " ('serve', 1698),\n",
       " ('restaurant', 1557),\n",
       " ('chicken', 1508),\n",
       " ('taste', 1491),\n",
       " ('time', 1477),\n",
       " ('visit', 1466),\n",
       " ('like', 1411),\n",
       " ('go', 1378),\n",
       " ('experience', 1315),\n",
       " ('veg', 1258),\n",
       " ('ambience', 1256),\n",
       " ('starter', 1233),\n",
       " ('staff', 1029)]"
      ]
     },
     "execution_count": 230,
     "metadata": {},
     "output_type": "execute_result"
    }
   ],
   "source": [
    "top_20_negative_review_words"
   ]
  },
  {
   "cell_type": "code",
   "execution_count": 231,
   "metadata": {
    "ExecuteTime": {
     "end_time": "2019-10-31T19:43:54.150597Z",
     "start_time": "2019-10-31T19:43:54.116574Z"
    }
   },
   "outputs": [
    {
     "data": {
      "text/plain": [
       "{'bad', 'experience', 'go', 'serve'}"
      ]
     },
     "execution_count": 231,
     "metadata": {},
     "output_type": "execute_result"
    }
   ],
   "source": [
    "neg_words=[val[0] for val in top_20_negative_review_words]\n",
    "pos_words=[val[0] for val in top_20_positive_review_words]\n",
    "\n",
    "set(neg_words) - set(pos_words)"
   ]
  },
  {
   "cell_type": "code",
   "execution_count": 232,
   "metadata": {
    "ExecuteTime": {
     "end_time": "2019-10-31T19:43:54.952508Z",
     "start_time": "2019-10-31T19:43:54.917562Z"
    }
   },
   "outputs": [
    {
     "data": {
      "text/plain": [
       "{'great', 'love', 'nice', 'try'}"
      ]
     },
     "execution_count": 232,
     "metadata": {},
     "output_type": "execute_result"
    }
   ],
   "source": [
    "set(pos_words) - set(neg_words)"
   ]
  },
  {
   "cell_type": "markdown",
   "metadata": {},
   "source": [
    "There are a few common words as well when we consider unigrams. Let us plot this as a bar plot.\n",
    "\n",
    "####   Plotting the Top 50 most common words in negative and positive words"
   ]
  },
  {
   "cell_type": "code",
   "execution_count": 233,
   "metadata": {
    "ExecuteTime": {
     "end_time": "2019-10-31T19:43:56.451106Z",
     "start_time": "2019-10-31T19:43:56.417979Z"
    }
   },
   "outputs": [],
   "source": [
    "def plotMostCommonWords(reviews_list,topn=50,title=\"Positive Review\",color=\"blue\",axis=None):\n",
    "    top_words=getMostCommon(reviews_list,topn=topn)\n",
    "    data=pd.DataFrame()\n",
    "    data['words']=[val[0] for val in top_words]\n",
    "    data['freq']=[val[1] for val in top_words]\n",
    "    if axis!=None:\n",
    "        sns.barplot(y='words',x='freq',data=data,color=color,ax=axis).set_title(title+\" top \"+str(topn))\n",
    "    else:\n",
    "        sns.barplot(y='words',x='freq',data=data,color=color).set_title(title+\" top \"+str(topn))"
   ]
  },
  {
   "cell_type": "code",
   "execution_count": 234,
   "metadata": {
    "ExecuteTime": {
     "end_time": "2019-10-31T19:43:57.882024Z",
     "start_time": "2019-10-31T19:43:57.150525Z"
    },
    "scrolled": true
   },
   "outputs": [
    {
     "data": {
      "image/png": "[encoded data removed]",
      "text/plain": [
       "<matplotlib.figure.Figure at 0x1a2fc61320>"
      ]
     },
     "metadata": {
      "needs_background": "light"
     },
     "output_type": "display_data"
    }
   ],
   "source": [
    "from matplotlib import rcParams\n",
    "\n",
    "rcParams['figure.figsize'] = 8,6 ## Sets the heigth and width of image\n",
    "\n",
    "\n",
    "fig,ax=plt.subplots(1,2)\n",
    "fig.subplots_adjust(wspace=0.5) #Adjusts the space between the two plots\n",
    "plotMostCommonWords(positive_reviews,20,\"Positive Review Unigrams\",axis=ax[0])\n",
    "\n",
    "plotMostCommonWords(negative_reviews,20,\"Negative Review Unigrams\",color=\"red\",axis=ax[1])\n"
   ]
  },
  {
   "cell_type": "markdown",
   "metadata": {},
   "source": [
    "\n",
    "\n",
    "**Some takeaways from the Unigram plot**\n",
    "\n",
    "1. \"Starters\",\"Ambience\", \"Service\" and the \"Staff\" impact the reviews - they are present in both positive and negative reviews\n",
    "2. Words like \"great\", \"love\" are present in postive reviews and are not there in the negative ones\n",
    "3. Words like \"bad\",\"experince\" are present in negative reviews and not there in positive reviews.\n",
    "4. Top 20 Unigrams on their own are not enough to distinguish between good vs bad reviews.\n",
    "\n",
    "####   Dive into the Bigrams\n",
    "\n",
    "So far we considered only each word as a token. Instead we will now have consecutive pair of words. These are known as bigrams\n",
    "\n",
    "If we consider n contiguos words it becomes an n-gram\n",
    "\n",
    "With Bigrams, if \"bad\" and \"experience\" occur very frequently togther we will be able to get \"bad experience\" as a very frequent word"
   ]
  },
  {
   "cell_type": "code",
   "execution_count": 235,
   "metadata": {
    "ExecuteTime": {
     "end_time": "2019-10-31T19:43:59.043795Z",
     "start_time": "2019-10-31T19:43:59.009927Z"
    }
   },
   "outputs": [
    {
     "data": {
      "text/plain": [
       "'okay like start say restaurant team unorganized worker order food online boneless biryani receive mutton biryani call say tell send receive payment care horrible service biryani taste good service'"
      ]
     },
     "execution_count": 235,
     "metadata": {},
     "output_type": "execute_result"
    }
   ],
   "source": [
    "test_review=negative_reviews[0]\n",
    "test_review"
   ]
  },
  {
   "cell_type": "code",
   "execution_count": 236,
   "metadata": {
    "ExecuteTime": {
     "end_time": "2019-10-31T19:43:59.654848Z",
     "start_time": "2019-10-31T19:43:59.620159Z"
    }
   },
   "outputs": [
    {
     "data": {
      "text/plain": [
       "[['okay',\n",
       "  'like',\n",
       "  'start',\n",
       "  'say',\n",
       "  'restaurant',\n",
       "  'team',\n",
       "  'unorganized',\n",
       "  'worker',\n",
       "  'order',\n",
       "  'food',\n",
       "  'online',\n",
       "  'boneless',\n",
       "  'biryani',\n",
       "  'receive',\n",
       "  'mutton',\n",
       "  'biryani',\n",
       "  'call',\n",
       "  'say',\n",
       "  'tell',\n",
       "  'send',\n",
       "  'receive',\n",
       "  'payment',\n",
       "  'care',\n",
       "  'horrible',\n",
       "  'service',\n",
       "  'biryani',\n",
       "  'taste',\n",
       "  'good',\n",
       "  'service'],\n",
       " ['like',\n",
       "  'start',\n",
       "  'say',\n",
       "  'restaurant',\n",
       "  'team',\n",
       "  'unorganized',\n",
       "  'worker',\n",
       "  'order',\n",
       "  'food',\n",
       "  'online',\n",
       "  'boneless',\n",
       "  'biryani',\n",
       "  'receive',\n",
       "  'mutton',\n",
       "  'biryani',\n",
       "  'call',\n",
       "  'say',\n",
       "  'tell',\n",
       "  'send',\n",
       "  'receive',\n",
       "  'payment',\n",
       "  'care',\n",
       "  'horrible',\n",
       "  'service',\n",
       "  'biryani',\n",
       "  'taste',\n",
       "  'good',\n",
       "  'service']]"
      ]
     },
     "execution_count": 236,
     "metadata": {},
     "output_type": "execute_result"
    }
   ],
   "source": [
    "test_tokens=test_review.split(\" \")\n",
    "[test_tokens[i:] for i in range(2)]"
   ]
  },
  {
   "cell_type": "code",
   "execution_count": 97,
   "metadata": {
    "ExecuteTime": {
     "end_time": "2019-11-10T08:02:01.051927Z",
     "start_time": "2019-11-10T08:02:01.018208Z"
    }
   },
   "outputs": [
    {
     "data": {
      "text/plain": [
       "(('New', 'York'), ('San', 'Fransico'))"
      ]
     },
     "execution_count": 97,
     "metadata": {},
     "output_type": "execute_result"
    }
   ],
   "source": [
    "tuple(zip((\"New\",\"San\",\"Bang\"),(\"York\",\"Fransico\")))"
   ]
  },
  {
   "cell_type": "code",
   "execution_count": 237,
   "metadata": {
    "ExecuteTime": {
     "end_time": "2019-10-31T19:44:00.225691Z",
     "start_time": "2019-10-31T19:44:00.190867Z"
    }
   },
   "outputs": [
    {
     "data": {
      "text/plain": [
       "(('okay', 'like'),\n",
       " ('like', 'start'),\n",
       " ('start', 'say'),\n",
       " ('say', 'restaurant'),\n",
       " ('restaurant', 'team'),\n",
       " ('team', 'unorganized'),\n",
       " ('unorganized', 'worker'),\n",
       " ('worker', 'order'),\n",
       " ('order', 'food'),\n",
       " ('food', 'online'),\n",
       " ('online', 'boneless'),\n",
       " ('boneless', 'biryani'),\n",
       " ('biryani', 'receive'),\n",
       " ('receive', 'mutton'),\n",
       " ('mutton', 'biryani'),\n",
       " ('biryani', 'call'),\n",
       " ('call', 'say'),\n",
       " ('say', 'tell'),\n",
       " ('tell', 'send'),\n",
       " ('send', 'receive'),\n",
       " ('receive', 'payment'),\n",
       " ('payment', 'care'),\n",
       " ('care', 'horrible'),\n",
       " ('horrible', 'service'),\n",
       " ('service', 'biryani'),\n",
       " ('biryani', 'taste'),\n",
       " ('taste', 'good'),\n",
       " ('good', 'service'))"
      ]
     },
     "execution_count": 237,
     "metadata": {},
     "output_type": "execute_result"
    }
   ],
   "source": [
    "tuple(zip(*[test_tokens[i:] for i in range(2)]))"
   ]
  },
  {
   "cell_type": "code",
   "execution_count": 238,
   "metadata": {
    "ExecuteTime": {
     "end_time": "2019-10-31T19:44:00.880342Z",
     "start_time": "2019-10-31T19:44:00.849113Z"
    }
   },
   "outputs": [],
   "source": [
    "def generateNGram(text,n=2):\n",
    "    tokens=text.split(\" \")\n",
    "    ngrams = zip(*[tokens[i:] for i in range(n)])\n",
    "    return [\"_\".join(ngram) for ngram in ngrams]"
   ]
  },
  {
   "cell_type": "code",
   "execution_count": 239,
   "metadata": {
    "ExecuteTime": {
     "end_time": "2019-10-31T19:44:02.291397Z",
     "start_time": "2019-10-31T19:44:01.906451Z"
    }
   },
   "outputs": [],
   "source": [
    "positive_reviews_bigrams=[\" \".join(generateNGram(review)) for review in positive_reviews]\n",
    "negative_reviews_bigrams=[\" \".join(generateNGram(review)) for review in negative_reviews]\n"
   ]
  },
  {
   "cell_type": "code",
   "execution_count": 240,
   "metadata": {
    "ExecuteTime": {
     "end_time": "2019-10-31T19:44:03.725031Z",
     "start_time": "2019-10-31T19:44:03.687682Z"
    }
   },
   "outputs": [
    {
     "data": {
      "text/plain": [
       "['beautiful_place place_dine dine_in in_the the_interior interior_mughal mughal_era era_lighting lighting_perfect perfect_we we_go go_occasion occasion_christmas christmas_limit limit_item item_available available_taste taste_service service_compromise compromise_all all_the the_complaint complaint_bread bread_better better_would would_surely surely_like like_come',\n",
       " 'dinner_family family_turn turn_good good_choose choose_suitable suitable_age age_people people_try try_place place_like like_starter starter_service service_good good_price price_affordable affordable_recommend recommend_restaurant restaurant_early early_dinner dinner_place place_little little_noisy',\n",
       " 'great_food food_proper proper_karnataka karnataka_style style_meal meal_twice twice_fully fully_satisfied satisfied_star star_manage',\n",
       " 'good_restaurant restaurant_neighbourhood neighbourhood_buffet buffet_system system_properly properly_arrange arrange_variety variety_dish dish_garba garba_dance dance_puppet puppet_good good_spread spread_dessert dessert_live live_paratha paratha_kulcha kulcha_making',\n",
       " 'awesome_food food_great great_servicefriendly servicefriendly_staffsgood staffsgood_quality quality_food food_complimentary complimentary_breakfast breakfast_honey honey_lemon lemon_chicken chicken_chicken chicken_manchow manchow_soup soup_perfect perfect_place place_stay stay_family family_stay stay_bangalore']"
      ]
     },
     "execution_count": 240,
     "metadata": {},
     "output_type": "execute_result"
    }
   ],
   "source": [
    "positive_reviews_bigrams[0:5]"
   ]
  },
  {
   "cell_type": "markdown",
   "metadata": {},
   "source": [
    "####   Get the top 20 most frequent bigrams in positive and negative reviews"
   ]
  },
  {
   "cell_type": "code",
   "execution_count": 241,
   "metadata": {
    "ExecuteTime": {
     "end_time": "2019-10-31T19:44:06.715946Z",
     "start_time": "2019-10-31T19:44:06.389155Z"
    }
   },
   "outputs": [
    {
     "data": {
      "text/plain": [
       "[('main_course', 4469),\n",
       " ('food_good', 3374),\n",
       " ('good_place', 2724),\n",
       " ('visit_place', 2619),\n",
       " ('non_veg', 2581),\n",
       " ('good_food', 2341),\n",
       " ('service_good', 1878),\n",
       " ('good_service', 1742),\n",
       " ('it_s', 1408),\n",
       " ('ambience_good', 1354),\n",
       " ('food_service', 1353),\n",
       " ('value_money', 1338),\n",
       " ('place_good', 1271),\n",
       " ('taste_good', 1269),\n",
       " ('nice_place', 1269),\n",
       " ('ice_cream', 1266),\n",
       " ('veg_non', 1074),\n",
       " ('good_ambience', 1057),\n",
       " ('north_indian', 1045),\n",
       " ('great_place', 994)]"
      ]
     },
     "execution_count": 241,
     "metadata": {},
     "output_type": "execute_result"
    }
   ],
   "source": [
    "top_20_positive_bigrams=getMostCommon(positive_reviews_bigrams,topn=20)\n",
    "top_20_positive_bigrams"
   ]
  },
  {
   "cell_type": "code",
   "execution_count": 242,
   "metadata": {
    "ExecuteTime": {
     "end_time": "2019-10-31T19:44:08.534607Z",
     "start_time": "2019-10-31T19:44:08.450871Z"
    }
   },
   "outputs": [],
   "source": [
    "top_20_negative_bigrams=getMostCommon(negative_reviews_bigrams,topn=20)"
   ]
  },
  {
   "cell_type": "code",
   "execution_count": 243,
   "metadata": {
    "ExecuteTime": {
     "end_time": "2019-10-31T19:44:09.948721Z",
     "start_time": "2019-10-31T19:44:09.915353Z"
    }
   },
   "outputs": [
    {
     "data": {
      "text/plain": [
       "[('main_course', 679),\n",
       " ('non_veg', 602),\n",
       " ('visit_place', 460),\n",
       " ('food_good', 391),\n",
       " ('bad_experience', 372),\n",
       " ('ice_cream', 294),\n",
       " ('quality_food', 275),\n",
       " ('lunch_buffet', 274),\n",
       " ('ambience_good', 271),\n",
       " ('food_quality', 268),\n",
       " ('bad_service', 262),\n",
       " ('service_bad', 233),\n",
       " ('food_average', 218),\n",
       " ('waste_money', 213),\n",
       " ('good_service', 210),\n",
       " ('veg_starter', 208),\n",
       " ('food_serve', 206),\n",
       " ('bad_food', 197),\n",
       " ('good_thing', 196),\n",
       " ('food_service', 193)]"
      ]
     },
     "execution_count": 243,
     "metadata": {},
     "output_type": "execute_result"
    }
   ],
   "source": [
    "top_20_negative_bigrams"
   ]
  },
  {
   "cell_type": "markdown",
   "metadata": {},
   "source": [
    "####  Plotting the top 20 Bigrams for Positive and Negative Reviews"
   ]
  },
  {
   "cell_type": "code",
   "execution_count": 249,
   "metadata": {
    "ExecuteTime": {
     "end_time": "2019-10-31T19:51:25.689679Z",
     "start_time": "2019-10-31T19:51:23.969220Z"
    }
   },
   "outputs": [
    {
     "data": {
      "image/png": "[encoded data removed]",
      "text/plain": [
       "<matplotlib.figure.Figure at 0x1a338e4400>"
      ]
     },
     "metadata": {
      "needs_background": "light"
     },
     "output_type": "display_data"
    }
   ],
   "source": [
    "rcParams['figure.figsize'] = 15,20\n",
    "fig,ax=plt.subplots(1,2)\n",
    "fig.subplots_adjust(wspace=1) #Adjusts the space between the two plots\n",
    "plotMostCommonWords(positive_reviews_bigrams,50,\"Positive Review Bigrams\",axis=ax[0])\n",
    "\n",
    "plotMostCommonWords(negative_reviews_bigrams,50,\"Negative Review Bigrams\",color=\"red\",axis=ax[1])\n"
   ]
  },
  {
   "cell_type": "markdown",
   "metadata": {},
   "source": [
    "**Key Takeaways from Bigrams**\n",
    "1. While positive reviews talk about \"value_money\", negative reviews talk about \"waste_money\". Positive Reviews talk about \"good service\", negative reviews talk about \"bad service\".\n",
    "\n"
   ]
  },
  {
   "cell_type": "markdown",
   "metadata": {},
   "source": [
    "### Collocations \n",
    "\n",
    "From simple bigrams, we may not always end up with useful bigrams. \n",
    "\n",
    "Collocation is a phrase consisting of more than one word but these words more commonly co-occur in a given context than its individual word parts. \n",
    "\n",
    "For example: non_veg is a more useful and meaningful bigram compares to veg_non. Collocations help us identify these. \n",
    "\n",
    "\n",
    "\n",
    "**Reference** : https://medium.com/@nicharuch/collocations-identifying-phrases-that-act-like-individual-words-in-nlp-f58a93a2f84a\n",
    "\n",
    "\n",
    "#### To identify important collocations, we will only extract Nouns and Adjectives\n",
    "\n",
    "\n",
    "        "
   ]
  },
  {
   "cell_type": "code",
   "execution_count": 267,
   "metadata": {
    "ExecuteTime": {
     "end_time": "2019-10-31T20:12:45.407407Z",
     "start_time": "2019-10-31T20:12:45.372596Z"
    }
   },
   "outputs": [],
   "source": [
    "\n",
    "COUNT=0\n",
    "def extract_allowed_pos(text,allowed_pos=['NOUN',\"PROPN\",\"ADJ\"]):\n",
    "    global COUNT\n",
    "    \n",
    "    \n",
    "    text=re.sub(r'[^\\x00-\\x7F]+',' ', text) ## Remove Ascii Characters\n",
    "    text=re.sub('\\s+', ' ', text).strip()\n",
    "    \n",
    "    nlp = spacy.load(\"en_core_web_sm\", disable=['parser', 'ner']) \n",
    "    \n",
    "    text=text.lower()\n",
    "    \n",
    "    \n",
    "    document = nlp(text)\n",
    "    \n",
    "    doc_cleaned=[token.text for token in document if token.pos_ in allowed_pos]\n",
    "    #print(doc_cleaned)\n",
    "    doc_cleaned=\" \".join(doc_cleaned)\n",
    "    #print(doc_cleaned)\n",
    "    #print(doc_cleaned)\n",
    "    COUNT=COUNT+1\n",
    "    if COUNT%1000==0:\n",
    "        print(COUNT)\n",
    "    return doc_cleaned"
   ]
  },
  {
   "cell_type": "code",
   "execution_count": 268,
   "metadata": {
    "ExecuteTime": {
     "end_time": "2019-10-31T21:41:16.797336Z",
     "start_time": "2019-10-31T20:12:45.986302Z"
    }
   },
   "outputs": [
    {
     "name": "stdout",
     "output_type": "stream",
     "text": [
      "1000\n",
      "2000\n",
      "3000\n",
      "4000\n",
      "5000\n",
      "6000\n",
      "7000\n",
      "8000\n",
      "9000\n",
      "10000\n",
      "11000\n",
      "12000\n",
      "13000\n",
      "14000\n",
      "15000\n",
      "16000\n",
      "17000\n",
      "18000\n",
      "19000\n",
      "20000\n",
      "21000\n",
      "22000\n",
      "23000\n",
      "24000\n",
      "25000\n",
      "26000\n",
      "27000\n",
      "28000\n",
      "29000\n",
      "30000\n",
      "31000\n",
      "32000\n",
      "33000\n",
      "34000\n",
      "35000\n",
      "36000\n",
      "37000\n",
      "38000\n",
      "39000\n",
      "40000\n",
      "41000\n",
      "42000\n"
     ]
    }
   ],
   "source": [
    "reviews['cleaned_noun_adj_review']=reviews['review_text'].apply(lambda x:extract_allowed_pos(x))"
   ]
  },
  {
   "cell_type": "code",
   "execution_count": 269,
   "metadata": {
    "ExecuteTime": {
     "end_time": "2019-10-31T21:41:17.764231Z",
     "start_time": "2019-10-31T21:41:16.800501Z"
    }
   },
   "outputs": [],
   "source": [
    "reviews.to_csv(\"Cleaned_Reviews_V2.csv\",index=False)"
   ]
  },
  {
   "cell_type": "code",
   "execution_count": 270,
   "metadata": {
    "ExecuteTime": {
     "end_time": "2019-11-01T04:08:48.328071Z",
     "start_time": "2019-11-01T04:08:48.035049Z"
    }
   },
   "outputs": [
    {
     "data": {
      "text/html": [
       "<div>\n",
       "<style scoped>\n",
       "    .dataframe tbody tr th:only-of-type {\n",
       "        vertical-align: middle;\n",
       "    }\n",
       "\n",
       "    .dataframe tbody tr th {\n",
       "        vertical-align: top;\n",
       "    }\n",
       "\n",
       "    .dataframe thead th {\n",
       "        text-align: right;\n",
       "    }\n",
       "</style>\n",
       "<table border=\"1\" class=\"dataframe\">\n",
       "  <thead>\n",
       "    <tr style=\"text-align: right;\">\n",
       "      <th></th>\n",
       "      <th>index</th>\n",
       "      <th>rating</th>\n",
       "      <th>review_text</th>\n",
       "      <th>cleaned_review</th>\n",
       "      <th>rating_category</th>\n",
       "      <th>cleaned_noun_adj_review</th>\n",
       "    </tr>\n",
       "  </thead>\n",
       "  <tbody>\n",
       "    <tr>\n",
       "      <th>0</th>\n",
       "      <td>0</td>\n",
       "      <td>4.0</td>\n",
       "      <td>A beautiful place to dine in.The interiors take you back to the Mughal era. The lightings are just perfect.We went there on the occasion of Christmas and so they had only limited items available. But the taste and service was not compromised at all.The only complaint is that the breads could have been better.Would surely like to come here again.</td>\n",
       "      <td>beautiful place dine in the interior mughal era lighting perfect we go occasion christmas limit item available taste service compromise all the complaint bread better would surely like come</td>\n",
       "      <td>positive</td>\n",
       "      <td>beautiful place in.the interiors mughal era lightings perfect.we occasion christmas items available taste service only complaint breads</td>\n",
       "    </tr>\n",
       "    <tr>\n",
       "      <th>1</th>\n",
       "      <td>1</td>\n",
       "      <td>4.0</td>\n",
       "      <td>Had been here for dinner with family. Turned out to be a good choose suitable for all ages of people. Can try this place. We liked the most was their starters. Service is good. Prices are affordable. Will recommend this restaurant for early dinner. The place is little noisy.</td>\n",
       "      <td>dinner family turn good choose suitable age people try place like starter service good price affordable recommend restaurant early dinner place little noisy</td>\n",
       "      <td>positive</td>\n",
       "      <td>dinner family good choose suitable ages people place starters service good prices affordable restaurant early dinner place little noisy</td>\n",
       "    </tr>\n",
       "    <tr>\n",
       "      <th>2</th>\n",
       "      <td>2</td>\n",
       "      <td>3.0</td>\n",
       "      <td>Ambience is not that good enough and it's not a pocket friendly cafe and the quantity is not that good and desserts are too good enough ??..</td>\n",
       "      <td>ambience good pocket friendly cafe quantity good dessert good</td>\n",
       "      <td>neutral</td>\n",
       "      <td>ambience good pocket friendly cafe quantity good desserts good</td>\n",
       "    </tr>\n",
       "    <tr>\n",
       "      <th>3</th>\n",
       "      <td>3</td>\n",
       "      <td>4.0</td>\n",
       "      <td>Great food and proper Karnataka style full meals. Been there twice and was fully satisfied.. Will give 5 stars if it's well managed............</td>\n",
       "      <td>great food proper karnataka style meal twice fully satisfied star manage</td>\n",
       "      <td>positive</td>\n",
       "      <td>great food proper karnataka style full meals satisfied stars</td>\n",
       "    </tr>\n",
       "    <tr>\n",
       "      <th>4</th>\n",
       "      <td>4</td>\n",
       "      <td>4.0</td>\n",
       "      <td>Very good restaurant in neighbourhood. Buffet system is properly arranged. Variety of dishes along with garba dance and puppet show. Good spread of desserts. Live paratha / Kulcha making</td>\n",
       "      <td>good restaurant neighbourhood buffet system properly arrange variety dish garba dance puppet good spread dessert live paratha kulcha making</td>\n",
       "      <td>positive</td>\n",
       "      <td>good restaurant neighbourhood buffet system variety dishes garba dance puppet show good spread desserts paratha kulcha making</td>\n",
       "    </tr>\n",
       "  </tbody>\n",
       "</table>\n",
       "</div>"
      ],
      "text/plain": [
       "   index  rating  \\\n",
       "0  0      4.0      \n",
       "1  1      4.0      \n",
       "2  2      3.0      \n",
       "3  3      4.0      \n",
       "4  4      4.0      \n",
       "\n",
       "                                                                                                                                                                                                                                                                                                                                                   review_text  \\\n",
       "0  A beautiful place to dine in.The interiors take you back to the Mughal era. The lightings are just perfect.We went there on the occasion of Christmas and so they had only limited items available. But the taste and service was not compromised at all.The only complaint is that the breads could have been better.Would surely like to come here again.   \n",
       "1  Had been here for dinner with family. Turned out to be a good choose suitable for all ages of people. Can try this place. We liked the most was their starters. Service is good. Prices are affordable. Will recommend this restaurant for early dinner. The place is little noisy.                                                                           \n",
       "2  Ambience is not that good enough and it's not a pocket friendly cafe and the quantity is not that good and desserts are too good enough ??..                                                                                                                                                                                                                  \n",
       "3  Great food and proper Karnataka style full meals. Been there twice and was fully satisfied.. Will give 5 stars if it's well managed............                                                                                                                                                                                                               \n",
       "4  Very good restaurant in neighbourhood. Buffet system is properly arranged. Variety of dishes along with garba dance and puppet show. Good spread of desserts. Live paratha / Kulcha making                                                                                                                                                                    \n",
       "\n",
       "                                                                                                                                                                                  cleaned_review  \\\n",
       "0  beautiful place dine in the interior mughal era lighting perfect we go occasion christmas limit item available taste service compromise all the complaint bread better would surely like come   \n",
       "1  dinner family turn good choose suitable age people try place like starter service good price affordable recommend restaurant early dinner place little noisy                                    \n",
       "2  ambience good pocket friendly cafe quantity good dessert good                                                                                                                                   \n",
       "3  great food proper karnataka style meal twice fully satisfied star manage                                                                                                                        \n",
       "4  good restaurant neighbourhood buffet system properly arrange variety dish garba dance puppet good spread dessert live paratha kulcha making                                                     \n",
       "\n",
       "  rating_category  \\\n",
       "0  positive         \n",
       "1  positive         \n",
       "2  neutral          \n",
       "3  positive         \n",
       "4  positive         \n",
       "\n",
       "                                                                                                                   cleaned_noun_adj_review  \n",
       "0  beautiful place in.the interiors mughal era lightings perfect.we occasion christmas items available taste service only complaint breads  \n",
       "1  dinner family good choose suitable ages people place starters service good prices affordable restaurant early dinner place little noisy  \n",
       "2  ambience good pocket friendly cafe quantity good desserts good                                                                           \n",
       "3  great food proper karnataka style full meals satisfied stars                                                                             \n",
       "4  good restaurant neighbourhood buffet system variety dishes garba dance puppet show good spread desserts paratha kulcha making            "
      ]
     },
     "execution_count": 270,
     "metadata": {},
     "output_type": "execute_result"
    }
   ],
   "source": []
  },
  {
   "cell_type": "code",
   "execution_count": 271,
   "metadata": {
    "ExecuteTime": {
     "end_time": "2019-11-01T04:10:50.262024Z",
     "start_time": "2019-11-01T04:10:47.923313Z"
    }
   },
   "outputs": [
    {
     "data": {
      "text/html": [
       "<div>\n",
       "<style scoped>\n",
       "    .dataframe tbody tr th:only-of-type {\n",
       "        vertical-align: middle;\n",
       "    }\n",
       "\n",
       "    .dataframe tbody tr th {\n",
       "        vertical-align: top;\n",
       "    }\n",
       "\n",
       "    .dataframe thead th {\n",
       "        text-align: right;\n",
       "    }\n",
       "</style>\n",
       "<table border=\"1\" class=\"dataframe\">\n",
       "  <thead>\n",
       "    <tr style=\"text-align: right;\">\n",
       "      <th></th>\n",
       "      <th>index</th>\n",
       "      <th>rating</th>\n",
       "      <th>review_text</th>\n",
       "      <th>cleaned_review</th>\n",
       "      <th>rating_category</th>\n",
       "      <th>cleaned_noun_adj_review</th>\n",
       "    </tr>\n",
       "  </thead>\n",
       "  <tbody>\n",
       "    <tr>\n",
       "      <th>0</th>\n",
       "      <td>0</td>\n",
       "      <td>4.0</td>\n",
       "      <td>A beautiful place to dine in.The interiors take you back to the Mughal era. The lightings are just perfect.We went there on the occasion of Christmas and so they had only limited items available. But the taste and service was not compromised at all.The only complaint is that the breads could have been better.Would surely like to come here again.</td>\n",
       "      <td>beautiful place dine in the interior mughal era lighting perfect we go occasion christmas limit item available taste service compromise all the complaint bread better would surely like come</td>\n",
       "      <td>positive</td>\n",
       "      <td>beautiful place in the interiors mughal era lightings perfect we occasion christmas items available taste service only complaint breads</td>\n",
       "    </tr>\n",
       "    <tr>\n",
       "      <th>1</th>\n",
       "      <td>1</td>\n",
       "      <td>4.0</td>\n",
       "      <td>Had been here for dinner with family. Turned out to be a good choose suitable for all ages of people. Can try this place. We liked the most was their starters. Service is good. Prices are affordable. Will recommend this restaurant for early dinner. The place is little noisy.</td>\n",
       "      <td>dinner family turn good choose suitable age people try place like starter service good price affordable recommend restaurant early dinner place little noisy</td>\n",
       "      <td>positive</td>\n",
       "      <td>dinner family good choose suitable ages people place starters service good prices affordable restaurant early dinner place little noisy</td>\n",
       "    </tr>\n",
       "    <tr>\n",
       "      <th>2</th>\n",
       "      <td>2</td>\n",
       "      <td>3.0</td>\n",
       "      <td>Ambience is not that good enough and it's not a pocket friendly cafe and the quantity is not that good and desserts are too good enough ??..</td>\n",
       "      <td>ambience good pocket friendly cafe quantity good dessert good</td>\n",
       "      <td>neutral</td>\n",
       "      <td>ambience good pocket friendly cafe quantity good desserts good</td>\n",
       "    </tr>\n",
       "    <tr>\n",
       "      <th>3</th>\n",
       "      <td>3</td>\n",
       "      <td>4.0</td>\n",
       "      <td>Great food and proper Karnataka style full meals. Been there twice and was fully satisfied.. Will give 5 stars if it's well managed............</td>\n",
       "      <td>great food proper karnataka style meal twice fully satisfied star manage</td>\n",
       "      <td>positive</td>\n",
       "      <td>great food proper karnataka style full meals satisfied stars</td>\n",
       "    </tr>\n",
       "    <tr>\n",
       "      <th>4</th>\n",
       "      <td>4</td>\n",
       "      <td>4.0</td>\n",
       "      <td>Very good restaurant in neighbourhood. Buffet system is properly arranged. Variety of dishes along with garba dance and puppet show. Good spread of desserts. Live paratha / Kulcha making</td>\n",
       "      <td>good restaurant neighbourhood buffet system properly arrange variety dish garba dance puppet good spread dessert live paratha kulcha making</td>\n",
       "      <td>positive</td>\n",
       "      <td>good restaurant neighbourhood buffet system variety dishes garba dance puppet show good spread desserts paratha kulcha making</td>\n",
       "    </tr>\n",
       "  </tbody>\n",
       "</table>\n",
       "</div>"
      ],
      "text/plain": [
       "   index  rating  \\\n",
       "0  0      4.0      \n",
       "1  1      4.0      \n",
       "2  2      3.0      \n",
       "3  3      4.0      \n",
       "4  4      4.0      \n",
       "\n",
       "                                                                                                                                                                                                                                                                                                                                                   review_text  \\\n",
       "0  A beautiful place to dine in.The interiors take you back to the Mughal era. The lightings are just perfect.We went there on the occasion of Christmas and so they had only limited items available. But the taste and service was not compromised at all.The only complaint is that the breads could have been better.Would surely like to come here again.   \n",
       "1  Had been here for dinner with family. Turned out to be a good choose suitable for all ages of people. Can try this place. We liked the most was their starters. Service is good. Prices are affordable. Will recommend this restaurant for early dinner. The place is little noisy.                                                                           \n",
       "2  Ambience is not that good enough and it's not a pocket friendly cafe and the quantity is not that good and desserts are too good enough ??..                                                                                                                                                                                                                  \n",
       "3  Great food and proper Karnataka style full meals. Been there twice and was fully satisfied.. Will give 5 stars if it's well managed............                                                                                                                                                                                                               \n",
       "4  Very good restaurant in neighbourhood. Buffet system is properly arranged. Variety of dishes along with garba dance and puppet show. Good spread of desserts. Live paratha / Kulcha making                                                                                                                                                                    \n",
       "\n",
       "                                                                                                                                                                                  cleaned_review  \\\n",
       "0  beautiful place dine in the interior mughal era lighting perfect we go occasion christmas limit item available taste service compromise all the complaint bread better would surely like come   \n",
       "1  dinner family turn good choose suitable age people try place like starter service good price affordable recommend restaurant early dinner place little noisy                                    \n",
       "2  ambience good pocket friendly cafe quantity good dessert good                                                                                                                                   \n",
       "3  great food proper karnataka style meal twice fully satisfied star manage                                                                                                                        \n",
       "4  good restaurant neighbourhood buffet system properly arrange variety dish garba dance puppet good spread dessert live paratha kulcha making                                                     \n",
       "\n",
       "  rating_category  \\\n",
       "0  positive         \n",
       "1  positive         \n",
       "2  neutral          \n",
       "3  positive         \n",
       "4  positive         \n",
       "\n",
       "                                                                                                                   cleaned_noun_adj_review  \n",
       "0  beautiful place in the interiors mughal era lightings perfect we occasion christmas items available taste service only complaint breads  \n",
       "1  dinner family good choose suitable ages people place starters service good prices affordable restaurant early dinner place little noisy  \n",
       "2  ambience good pocket friendly cafe quantity good desserts good                                                                           \n",
       "3  great food proper karnataka style full meals satisfied stars                                                                             \n",
       "4  good restaurant neighbourhood buffet system variety dishes garba dance puppet show good spread desserts paratha kulcha making            "
      ]
     },
     "execution_count": 271,
     "metadata": {},
     "output_type": "execute_result"
    }
   ],
   "source": [
    "reviews['cleaned_noun_adj_review']=reviews['cleaned_noun_adj_review'].apply(lambda x:removePunct(x))\n",
    "\n",
    "reviews.head()"
   ]
  },
  {
   "cell_type": "markdown",
   "metadata": {},
   "source": [
    "####    Let us now get important bigrams and trigrams using Frequency Method\n",
    "\n",
    "For identifying collocations, nltk has a function inbuilt. We can use it"
   ]
  },
  {
   "cell_type": "code",
   "execution_count": 276,
   "metadata": {
    "ExecuteTime": {
     "end_time": "2019-11-01T12:58:13.494981Z",
     "start_time": "2019-11-01T12:58:12.665113Z"
    }
   },
   "outputs": [],
   "source": [
    "import nltk\n"
   ]
  },
  {
   "cell_type": "code",
   "execution_count": 304,
   "metadata": {
    "ExecuteTime": {
     "end_time": "2019-11-01T16:01:09.526894Z",
     "start_time": "2019-11-01T16:01:07.288997Z"
    }
   },
   "outputs": [],
   "source": [
    "bigrams = nltk.collocations.BigramAssocMeasures()\n",
    "\n",
    "## Concat all the positive reviews\n",
    "\n",
    "positive_reviews_concat=\" \".join(positive_reviews_adj_noun)\n",
    "positive_reviews_tokens=positive_reviews_concat.split(\" \")\n",
    "\n",
    "### Create a bigram Finder\n",
    "positive_bigramFinder = nltk.collocations.BigramCollocationFinder.from_words(positive_reviews_tokens)\n",
    "\n",
    "\n",
    "bigram_freq_positive= positive_bigramFinder.ngram_fd.items()\n",
    "\n",
    "bigram_freq_positive_df=pd.DataFrame()\n",
    "bigram_freq_positive_df['word']=[val[0] for val in bigram_freq_positive]\n",
    "bigram_freq_positive_df['freq']=[val[1] for val in bigram_freq_positive]\n",
    "\n",
    "bigram_freq_positive_df= bigram_freq_positive_df.sort_values('freq',ascending=False)\n",
    "#bigram_freq_positive_df.head()\n"
   ]
  },
  {
   "cell_type": "code",
   "execution_count": 305,
   "metadata": {
    "ExecuteTime": {
     "end_time": "2019-11-01T16:01:09.916491Z",
     "start_time": "2019-11-01T16:01:09.529168Z"
    }
   },
   "outputs": [],
   "source": [
    "## Concat all the positive reviews\n",
    "\n",
    "negative_reviews_concat=\" \".join(negative_reviews_adj_noun)\n",
    "negative_reviews_tokens=negative_reviews_concat.split(\" \")\n",
    "\n",
    "### Create a bigram Finder\n",
    "negative_bigramFinder = nltk.collocations.BigramCollocationFinder.from_words(negative_reviews_tokens)\n",
    "\n",
    "\n",
    "bigram_freq_negative= negative_bigramFinder.ngram_fd.items()\n",
    "\n",
    "bigram_freq_negative_df=pd.DataFrame()\n",
    "bigram_freq_negative_df['word']=[val[0] for val in bigram_freq_negative]\n",
    "bigram_freq_negative_df['freq']=[val[1] for val in bigram_freq_negative]\n",
    "\n",
    "bigram_freq_negative_df= bigram_freq_negative_df.sort_values('freq',ascending=False)\n",
    "#bigram_freq_positive_df.head()\n"
   ]
  },
  {
   "cell_type": "code",
   "execution_count": 306,
   "metadata": {
    "ExecuteTime": {
     "end_time": "2019-11-01T16:01:09.961649Z",
     "start_time": "2019-11-01T16:01:09.918455Z"
    }
   },
   "outputs": [
    {
     "data": {
      "text/html": [
       "<div>\n",
       "<style scoped>\n",
       "    .dataframe tbody tr th:only-of-type {\n",
       "        vertical-align: middle;\n",
       "    }\n",
       "\n",
       "    .dataframe tbody tr th {\n",
       "        vertical-align: top;\n",
       "    }\n",
       "\n",
       "    .dataframe thead th {\n",
       "        text-align: right;\n",
       "    }\n",
       "</style>\n",
       "<table border=\"1\" class=\"dataframe\">\n",
       "  <thead>\n",
       "    <tr style=\"text-align: right;\">\n",
       "      <th></th>\n",
       "      <th>word</th>\n",
       "      <th>freq</th>\n",
       "    </tr>\n",
       "  </thead>\n",
       "  <tbody>\n",
       "    <tr>\n",
       "      <th>133</th>\n",
       "      <td>(main, course)</td>\n",
       "      <td>4386</td>\n",
       "    </tr>\n",
       "    <tr>\n",
       "      <th>192</th>\n",
       "      <td>(food, good)</td>\n",
       "      <td>3781</td>\n",
       "    </tr>\n",
       "    <tr>\n",
       "      <th>552</th>\n",
       "      <td>(good, food)</td>\n",
       "      <td>2358</td>\n",
       "    </tr>\n",
       "    <tr>\n",
       "      <th>161</th>\n",
       "      <td>(non, veg)</td>\n",
       "      <td>2208</td>\n",
       "    </tr>\n",
       "    <tr>\n",
       "      <th>340</th>\n",
       "      <td>(good, place)</td>\n",
       "      <td>2023</td>\n",
       "    </tr>\n",
       "    <tr>\n",
       "      <th>28</th>\n",
       "      <td>(service, good)</td>\n",
       "      <td>1898</td>\n",
       "    </tr>\n",
       "    <tr>\n",
       "      <th>594</th>\n",
       "      <td>(good, service)</td>\n",
       "      <td>1545</td>\n",
       "    </tr>\n",
       "    <tr>\n",
       "      <th>454</th>\n",
       "      <td>(ambience, good)</td>\n",
       "      <td>1513</td>\n",
       "    </tr>\n",
       "    <tr>\n",
       "      <th>1499</th>\n",
       "      <td>(nice, place)</td>\n",
       "      <td>1378</td>\n",
       "    </tr>\n",
       "    <tr>\n",
       "      <th>164</th>\n",
       "      <td>(food, service)</td>\n",
       "      <td>1364</td>\n",
       "    </tr>\n",
       "    <tr>\n",
       "      <th>308</th>\n",
       "      <td>(value, money)</td>\n",
       "      <td>1328</td>\n",
       "    </tr>\n",
       "    <tr>\n",
       "      <th>1321</th>\n",
       "      <td>(place, good)</td>\n",
       "      <td>1274</td>\n",
       "    </tr>\n",
       "    <tr>\n",
       "      <th>3456</th>\n",
       "      <td>(ice, cream)</td>\n",
       "      <td>1156</td>\n",
       "    </tr>\n",
       "    <tr>\n",
       "      <th>464</th>\n",
       "      <td>(veg, non)</td>\n",
       "      <td>1087</td>\n",
       "    </tr>\n",
       "    <tr>\n",
       "      <th>409</th>\n",
       "      <td>(good, ambience)</td>\n",
       "      <td>1085</td>\n",
       "    </tr>\n",
       "    <tr>\n",
       "      <th>38</th>\n",
       "      <td>(great, food)</td>\n",
       "      <td>1054</td>\n",
       "    </tr>\n",
       "    <tr>\n",
       "      <th>447</th>\n",
       "      <td>(great, place)</td>\n",
       "      <td>1025</td>\n",
       "    </tr>\n",
       "    <tr>\n",
       "      <th>1715</th>\n",
       "      <td>(north, indian)</td>\n",
       "      <td>961</td>\n",
       "    </tr>\n",
       "    <tr>\n",
       "      <th>65</th>\n",
       "      <td>(food, great)</td>\n",
       "      <td>945</td>\n",
       "    </tr>\n",
       "    <tr>\n",
       "      <th>250</th>\n",
       "      <td>(ambience, service)</td>\n",
       "      <td>917</td>\n",
       "    </tr>\n",
       "  </tbody>\n",
       "</table>\n",
       "</div>"
      ],
      "text/plain": [
       "                     word  freq\n",
       "133   (main, course)       4386\n",
       "192   (food, good)         3781\n",
       "552   (good, food)         2358\n",
       "161   (non, veg)           2208\n",
       "340   (good, place)        2023\n",
       "28    (service, good)      1898\n",
       "594   (good, service)      1545\n",
       "454   (ambience, good)     1513\n",
       "1499  (nice, place)        1378\n",
       "164   (food, service)      1364\n",
       "308   (value, money)       1328\n",
       "1321  (place, good)        1274\n",
       "3456  (ice, cream)         1156\n",
       "464   (veg, non)           1087\n",
       "409   (good, ambience)     1085\n",
       "38    (great, food)        1054\n",
       "447   (great, place)       1025\n",
       "1715  (north, indian)      961 \n",
       "65    (food, great)        945 \n",
       "250   (ambience, service)  917 "
      ]
     },
     "execution_count": 306,
     "metadata": {},
     "output_type": "execute_result"
    }
   ],
   "source": [
    "bigram_freq_positive_df.head(20)"
   ]
  },
  {
   "cell_type": "code",
   "execution_count": 307,
   "metadata": {
    "ExecuteTime": {
     "end_time": "2019-11-01T16:01:10.005736Z",
     "start_time": "2019-11-01T16:01:09.964144Z"
    }
   },
   "outputs": [
    {
     "data": {
      "text/html": [
       "<div>\n",
       "<style scoped>\n",
       "    .dataframe tbody tr th:only-of-type {\n",
       "        vertical-align: middle;\n",
       "    }\n",
       "\n",
       "    .dataframe tbody tr th {\n",
       "        vertical-align: top;\n",
       "    }\n",
       "\n",
       "    .dataframe thead th {\n",
       "        text-align: right;\n",
       "    }\n",
       "</style>\n",
       "<table border=\"1\" class=\"dataframe\">\n",
       "  <thead>\n",
       "    <tr style=\"text-align: right;\">\n",
       "      <th></th>\n",
       "      <th>word</th>\n",
       "      <th>freq</th>\n",
       "    </tr>\n",
       "  </thead>\n",
       "  <tbody>\n",
       "    <tr>\n",
       "      <th>36</th>\n",
       "      <td>(main, course)</td>\n",
       "      <td>663</td>\n",
       "    </tr>\n",
       "    <tr>\n",
       "      <th>29</th>\n",
       "      <td>(non, veg)</td>\n",
       "      <td>501</td>\n",
       "    </tr>\n",
       "    <tr>\n",
       "      <th>1131</th>\n",
       "      <td>(food, good)</td>\n",
       "      <td>471</td>\n",
       "    </tr>\n",
       "    <tr>\n",
       "      <th>97</th>\n",
       "      <td>(lunch, buffet)</td>\n",
       "      <td>300</td>\n",
       "    </tr>\n",
       "    <tr>\n",
       "      <th>1361</th>\n",
       "      <td>(ambience, good)</td>\n",
       "      <td>289</td>\n",
       "    </tr>\n",
       "    <tr>\n",
       "      <th>761</th>\n",
       "      <td>(quality, food)</td>\n",
       "      <td>283</td>\n",
       "    </tr>\n",
       "    <tr>\n",
       "      <th>290</th>\n",
       "      <td>(ice, cream)</td>\n",
       "      <td>275</td>\n",
       "    </tr>\n",
       "    <tr>\n",
       "      <th>504</th>\n",
       "      <td>(bad, experience)</td>\n",
       "      <td>247</td>\n",
       "    </tr>\n",
       "    <tr>\n",
       "      <th>169</th>\n",
       "      <td>(food, average)</td>\n",
       "      <td>236</td>\n",
       "    </tr>\n",
       "    <tr>\n",
       "      <th>344</th>\n",
       "      <td>(food, quality)</td>\n",
       "      <td>231</td>\n",
       "    </tr>\n",
       "    <tr>\n",
       "      <th>1633</th>\n",
       "      <td>(service, bad)</td>\n",
       "      <td>218</td>\n",
       "    </tr>\n",
       "    <tr>\n",
       "      <th>203</th>\n",
       "      <td>(food, service)</td>\n",
       "      <td>215</td>\n",
       "    </tr>\n",
       "    <tr>\n",
       "      <th>14</th>\n",
       "      <td>(good, service)</td>\n",
       "      <td>215</td>\n",
       "    </tr>\n",
       "    <tr>\n",
       "      <th>28</th>\n",
       "      <td>(veg, non)</td>\n",
       "      <td>206</td>\n",
       "    </tr>\n",
       "    <tr>\n",
       "      <th>1874</th>\n",
       "      <td>(team, lunch)</td>\n",
       "      <td>200</td>\n",
       "    </tr>\n",
       "    <tr>\n",
       "      <th>1288</th>\n",
       "      <td>(good, food)</td>\n",
       "      <td>183</td>\n",
       "    </tr>\n",
       "    <tr>\n",
       "      <th>4695</th>\n",
       "      <td>(good, thing)</td>\n",
       "      <td>174</td>\n",
       "    </tr>\n",
       "    <tr>\n",
       "      <th>160</th>\n",
       "      <td>(service, slow)</td>\n",
       "      <td>168</td>\n",
       "    </tr>\n",
       "    <tr>\n",
       "      <th>409</th>\n",
       "      <td>(service, good)</td>\n",
       "      <td>167</td>\n",
       "    </tr>\n",
       "    <tr>\n",
       "      <th>394</th>\n",
       "      <td>(zomato, gold)</td>\n",
       "      <td>159</td>\n",
       "    </tr>\n",
       "  </tbody>\n",
       "</table>\n",
       "</div>"
      ],
      "text/plain": [
       "                   word  freq\n",
       "36    (main, course)     663 \n",
       "29    (non, veg)         501 \n",
       "1131  (food, good)       471 \n",
       "97    (lunch, buffet)    300 \n",
       "1361  (ambience, good)   289 \n",
       "761   (quality, food)    283 \n",
       "290   (ice, cream)       275 \n",
       "504   (bad, experience)  247 \n",
       "169   (food, average)    236 \n",
       "344   (food, quality)    231 \n",
       "1633  (service, bad)     218 \n",
       "203   (food, service)    215 \n",
       "14    (good, service)    215 \n",
       "28    (veg, non)         206 \n",
       "1874  (team, lunch)      200 \n",
       "1288  (good, food)       183 \n",
       "4695  (good, thing)      174 \n",
       "160   (service, slow)    168 \n",
       "409   (service, good)    167 \n",
       "394   (zomato, gold)     159 "
      ]
     },
     "execution_count": 307,
     "metadata": {},
     "output_type": "execute_result"
    }
   ],
   "source": [
    "bigram_freq_negative_df.head(20)"
   ]
  },
  {
   "cell_type": "markdown",
   "metadata": {},
   "source": [
    "####  Let us now use PMI\n",
    "**PMI (Point wise Mutual Information)** : Say there is a set of location names : like New York, New Delhi, San Fransico etc. Using normal tokenissation techniques \"New\",\"York\",\"Delhi\",\"San\" and \"Fransico\" become individual words. We want these words to be reporesented as one single token. For this we use PMI.It assigns score for a n-gram based of probability of the words occurring together in entire documents divided bu the probability of the words occurring individually.\n",
    "\n",
    "\n",
    "Since word like \"New\" and \"York\" occurring together is more likely than word \"New\" and \"York\" occurring seperately.\n",
    "\n",
    "But, if random word \"abc xyz\" occurrs only once in document and that is the only document \"abc\" and \"xyz\" occur - the PMI will be very high. To avoid this, we can filter where frequency of words is greater than a particular value. Or and importance of an n-gram can be calculated by multiplying PMI*Freq."
   ]
  },
  {
   "cell_type": "code",
   "execution_count": 308,
   "metadata": {
    "ExecuteTime": {
     "end_time": "2019-11-01T16:01:10.871769Z",
     "start_time": "2019-11-01T16:01:10.834052Z"
    }
   },
   "outputs": [],
   "source": [
    "#filter for only those with more than 20 occurences\n",
    "#positive_bigramFinder.apply_freq_filter(20)\n",
    "#negative_bigramFinder.apply_freq_filter(20)\n",
    "\n"
   ]
  },
  {
   "cell_type": "code",
   "execution_count": 309,
   "metadata": {
    "ExecuteTime": {
     "end_time": "2019-11-01T16:01:11.968193Z",
     "start_time": "2019-11-01T16:01:11.544832Z"
    }
   },
   "outputs": [],
   "source": [
    "bigram_pmi_positive=positive_bigramFinder.score_ngrams(bigrams.pmi)\n",
    "bigram_pmi_negative=negative_bigramFinder.score_ngrams(bigrams.pmi)\n",
    "\n"
   ]
  },
  {
   "cell_type": "code",
   "execution_count": 310,
   "metadata": {
    "ExecuteTime": {
     "end_time": "2019-11-01T16:01:12.646107Z",
     "start_time": "2019-11-01T16:01:12.476066Z"
    }
   },
   "outputs": [],
   "source": [
    "bigram_pmi_positive_df=pd.DataFrame()\n",
    "bigram_pmi_positive_df['word']=[val[0] for val in bigram_pmi_positive]\n",
    "bigram_pmi_positive_df['pmi']=[val[1] for val in bigram_pmi_positive]\n",
    "\n",
    "bigram_pmi_positive_df= bigram_pmi_positive_df.sort_values('pmi',ascending=False)\n",
    "#bigram_freq_positive_df.head()\n"
   ]
  },
  {
   "cell_type": "code",
   "execution_count": 311,
   "metadata": {
    "ExecuteTime": {
     "end_time": "2019-11-01T16:01:13.375417Z",
     "start_time": "2019-11-01T16:01:13.331748Z"
    }
   },
   "outputs": [
    {
     "data": {
      "text/html": [
       "<div>\n",
       "<style scoped>\n",
       "    .dataframe tbody tr th:only-of-type {\n",
       "        vertical-align: middle;\n",
       "    }\n",
       "\n",
       "    .dataframe tbody tr th {\n",
       "        vertical-align: top;\n",
       "    }\n",
       "\n",
       "    .dataframe thead th {\n",
       "        text-align: right;\n",
       "    }\n",
       "</style>\n",
       "<table border=\"1\" class=\"dataframe\">\n",
       "  <thead>\n",
       "    <tr style=\"text-align: right;\">\n",
       "      <th></th>\n",
       "      <th>word</th>\n",
       "      <th>pmi</th>\n",
       "    </tr>\n",
       "  </thead>\n",
       "  <tbody>\n",
       "    <tr>\n",
       "      <th>0</th>\n",
       "      <td>(49rs, introductory)</td>\n",
       "      <td>19.668127</td>\n",
       "    </tr>\n",
       "    <tr>\n",
       "      <th>69</th>\n",
       "      <td>(national, kuboki)</td>\n",
       "      <td>19.668127</td>\n",
       "    </tr>\n",
       "    <tr>\n",
       "      <th>80</th>\n",
       "      <td>(poster, restaurent)</td>\n",
       "      <td>19.668127</td>\n",
       "    </tr>\n",
       "    <tr>\n",
       "      <th>79</th>\n",
       "      <td>(pony, ride)</td>\n",
       "      <td>19.668127</td>\n",
       "    </tr>\n",
       "    <tr>\n",
       "      <th>78</th>\n",
       "      <td>(phonecamerafoodlife, wednesdaydinnerscenes)</td>\n",
       "      <td>19.668127</td>\n",
       "    </tr>\n",
       "  </tbody>\n",
       "</table>\n",
       "</div>"
      ],
      "text/plain": [
       "                                            word        pmi\n",
       "0   (49rs, introductory)                          19.668127\n",
       "69  (national, kuboki)                            19.668127\n",
       "80  (poster, restaurent)                          19.668127\n",
       "79  (pony, ride)                                  19.668127\n",
       "78  (phonecamerafoodlife, wednesdaydinnerscenes)  19.668127"
      ]
     },
     "execution_count": 311,
     "metadata": {},
     "output_type": "execute_result"
    }
   ],
   "source": [
    "bigram_pmi_positive_df.head()"
   ]
  },
  {
   "cell_type": "markdown",
   "metadata": {},
   "source": [
    "####    Let us merge the Frequency and PMI Dataframe for Positive Reviews"
   ]
  },
  {
   "cell_type": "code",
   "execution_count": 312,
   "metadata": {
    "ExecuteTime": {
     "end_time": "2019-11-01T16:01:59.555081Z",
     "start_time": "2019-11-01T16:01:59.403811Z"
    }
   },
   "outputs": [],
   "source": [
    "positive_bigram=pd.merge(bigram_pmi_positive_df,bigram_freq_positive_df,on='word')"
   ]
  },
  {
   "cell_type": "code",
   "execution_count": 314,
   "metadata": {
    "ExecuteTime": {
     "end_time": "2019-11-01T16:02:17.925892Z",
     "start_time": "2019-11-01T16:02:17.878998Z"
    }
   },
   "outputs": [
    {
     "data": {
      "text/html": [
       "<div>\n",
       "<style scoped>\n",
       "    .dataframe tbody tr th:only-of-type {\n",
       "        vertical-align: middle;\n",
       "    }\n",
       "\n",
       "    .dataframe tbody tr th {\n",
       "        vertical-align: top;\n",
       "    }\n",
       "\n",
       "    .dataframe thead th {\n",
       "        text-align: right;\n",
       "    }\n",
       "</style>\n",
       "<table border=\"1\" class=\"dataframe\">\n",
       "  <thead>\n",
       "    <tr style=\"text-align: right;\">\n",
       "      <th></th>\n",
       "      <th>word</th>\n",
       "      <th>pmi</th>\n",
       "      <th>freq</th>\n",
       "    </tr>\n",
       "  </thead>\n",
       "  <tbody>\n",
       "    <tr>\n",
       "      <th>0</th>\n",
       "      <td>(49rs, introductory)</td>\n",
       "      <td>19.668127</td>\n",
       "      <td>1</td>\n",
       "    </tr>\n",
       "    <tr>\n",
       "      <th>1</th>\n",
       "      <td>(national, kuboki)</td>\n",
       "      <td>19.668127</td>\n",
       "      <td>1</td>\n",
       "    </tr>\n",
       "    <tr>\n",
       "      <th>2</th>\n",
       "      <td>(poster, restaurent)</td>\n",
       "      <td>19.668127</td>\n",
       "      <td>1</td>\n",
       "    </tr>\n",
       "    <tr>\n",
       "      <th>3</th>\n",
       "      <td>(pony, ride)</td>\n",
       "      <td>19.668127</td>\n",
       "      <td>1</td>\n",
       "    </tr>\n",
       "    <tr>\n",
       "      <th>4</th>\n",
       "      <td>(phonecamerafoodlife, wednesdaydinnerscenes)</td>\n",
       "      <td>19.668127</td>\n",
       "      <td>1</td>\n",
       "    </tr>\n",
       "    <tr>\n",
       "      <th>5</th>\n",
       "      <td>(pehla, nasha)</td>\n",
       "      <td>19.668127</td>\n",
       "      <td>1</td>\n",
       "    </tr>\n",
       "    <tr>\n",
       "      <th>6</th>\n",
       "      <td>(payash, roshagola)</td>\n",
       "      <td>19.668127</td>\n",
       "      <td>1</td>\n",
       "    </tr>\n",
       "    <tr>\n",
       "      <th>7</th>\n",
       "      <td>(palya, kosambari)</td>\n",
       "      <td>19.668127</td>\n",
       "      <td>1</td>\n",
       "    </tr>\n",
       "    <tr>\n",
       "      <th>8</th>\n",
       "      <td>(padharo, maare)</td>\n",
       "      <td>19.668127</td>\n",
       "      <td>1</td>\n",
       "    </tr>\n",
       "    <tr>\n",
       "      <th>9</th>\n",
       "      <td>(ottu, shavige)</td>\n",
       "      <td>19.668127</td>\n",
       "      <td>1</td>\n",
       "    </tr>\n",
       "  </tbody>\n",
       "</table>\n",
       "</div>"
      ],
      "text/plain": [
       "                                           word        pmi  freq\n",
       "0  (49rs, introductory)                          19.668127  1   \n",
       "1  (national, kuboki)                            19.668127  1   \n",
       "2  (poster, restaurent)                          19.668127  1   \n",
       "3  (pony, ride)                                  19.668127  1   \n",
       "4  (phonecamerafoodlife, wednesdaydinnerscenes)  19.668127  1   \n",
       "5  (pehla, nasha)                                19.668127  1   \n",
       "6  (payash, roshagola)                           19.668127  1   \n",
       "7  (palya, kosambari)                            19.668127  1   \n",
       "8  (padharo, maare)                              19.668127  1   \n",
       "9  (ottu, shavige)                               19.668127  1   "
      ]
     },
     "execution_count": 314,
     "metadata": {},
     "output_type": "execute_result"
    }
   ],
   "source": [
    "positive_bigram.head(10)"
   ]
  },
  {
   "cell_type": "markdown",
   "metadata": {},
   "source": [
    "We can see that there are words that have high PMI score but has low frequency. To consider such instances, let us multiply PMI and Frequency\n",
    "\n",
    "####  Merge the frequency and PMI values for the posoitove reviews and create new column which multplies PMI and frequency"
   ]
  },
  {
   "cell_type": "code",
   "execution_count": 315,
   "metadata": {
    "ExecuteTime": {
     "end_time": "2019-11-01T16:03:17.064116Z",
     "start_time": "2019-11-01T16:03:16.974364Z"
    }
   },
   "outputs": [],
   "source": [
    "positive_bigram['pmi_freq']=positive_bigram['pmi']*positive_bigram['freq']\n",
    "positive_bigram=positive_bigram.sort_values('pmi_freq',ascending=False)"
   ]
  },
  {
   "cell_type": "code",
   "execution_count": 317,
   "metadata": {
    "ExecuteTime": {
     "end_time": "2019-11-01T16:03:29.491176Z",
     "start_time": "2019-11-01T16:03:29.442252Z"
    }
   },
   "outputs": [
    {
     "data": {
      "text/html": [
       "<div>\n",
       "<style scoped>\n",
       "    .dataframe tbody tr th:only-of-type {\n",
       "        vertical-align: middle;\n",
       "    }\n",
       "\n",
       "    .dataframe tbody tr th {\n",
       "        vertical-align: top;\n",
       "    }\n",
       "\n",
       "    .dataframe thead th {\n",
       "        text-align: right;\n",
       "    }\n",
       "</style>\n",
       "<table border=\"1\" class=\"dataframe\">\n",
       "  <thead>\n",
       "    <tr style=\"text-align: right;\">\n",
       "      <th></th>\n",
       "      <th>word</th>\n",
       "      <th>pmi</th>\n",
       "      <th>freq</th>\n",
       "      <th>pmi_freq</th>\n",
       "    </tr>\n",
       "  </thead>\n",
       "  <tbody>\n",
       "    <tr>\n",
       "      <th>21625</th>\n",
       "      <td>(main, course)</td>\n",
       "      <td>7.315299</td>\n",
       "      <td>4386</td>\n",
       "      <td>32084.903169</td>\n",
       "    </tr>\n",
       "    <tr>\n",
       "      <th>26121</th>\n",
       "      <td>(non, veg)</td>\n",
       "      <td>6.550806</td>\n",
       "      <td>2208</td>\n",
       "      <td>14464.178800</td>\n",
       "    </tr>\n",
       "    <tr>\n",
       "      <th>15255</th>\n",
       "      <td>(value, money)</td>\n",
       "      <td>8.623057</td>\n",
       "      <td>1328</td>\n",
       "      <td>11451.419477</td>\n",
       "    </tr>\n",
       "    <tr>\n",
       "      <th>14328</th>\n",
       "      <td>(ice, cream)</td>\n",
       "      <td>8.846442</td>\n",
       "      <td>1156</td>\n",
       "      <td>10226.487351</td>\n",
       "    </tr>\n",
       "    <tr>\n",
       "      <th>17532</th>\n",
       "      <td>(north, indian)</td>\n",
       "      <td>8.146512</td>\n",
       "      <td>961</td>\n",
       "      <td>7828.798476</td>\n",
       "    </tr>\n",
       "    <tr>\n",
       "      <th>14295</th>\n",
       "      <td>(zomato, gold)</td>\n",
       "      <td>8.854444</td>\n",
       "      <td>811</td>\n",
       "      <td>7180.954351</td>\n",
       "    </tr>\n",
       "    <tr>\n",
       "      <th>63240</th>\n",
       "      <td>(food, good)</td>\n",
       "      <td>1.770365</td>\n",
       "      <td>3781</td>\n",
       "      <td>6693.748976</td>\n",
       "    </tr>\n",
       "    <tr>\n",
       "      <th>32703</th>\n",
       "      <td>(veg, non)</td>\n",
       "      <td>5.528417</td>\n",
       "      <td>1087</td>\n",
       "      <td>6009.389696</td>\n",
       "    </tr>\n",
       "    <tr>\n",
       "      <th>33810</th>\n",
       "      <td>(staff, courteous)</td>\n",
       "      <td>5.364342</td>\n",
       "      <td>910</td>\n",
       "      <td>4881.551453</td>\n",
       "    </tr>\n",
       "    <tr>\n",
       "      <th>8643</th>\n",
       "      <td>(gulab, jamun)</td>\n",
       "      <td>10.418479</td>\n",
       "      <td>397</td>\n",
       "      <td>4136.136098</td>\n",
       "    </tr>\n",
       "    <tr>\n",
       "      <th>9272</th>\n",
       "      <td>(black, pearl)</td>\n",
       "      <td>10.214856</td>\n",
       "      <td>386</td>\n",
       "      <td>3942.934437</td>\n",
       "    </tr>\n",
       "    <tr>\n",
       "      <th>19424</th>\n",
       "      <td>(south, indian)</td>\n",
       "      <td>7.752829</td>\n",
       "      <td>505</td>\n",
       "      <td>3915.178418</td>\n",
       "    </tr>\n",
       "    <tr>\n",
       "      <th>15048</th>\n",
       "      <td>(dance, floor)</td>\n",
       "      <td>8.667719</td>\n",
       "      <td>451</td>\n",
       "      <td>3909.141304</td>\n",
       "    </tr>\n",
       "    <tr>\n",
       "      <th>43182</th>\n",
       "      <td>(lunch, buffet)</td>\n",
       "      <td>4.176208</td>\n",
       "      <td>909</td>\n",
       "      <td>3796.172835</td>\n",
       "    </tr>\n",
       "    <tr>\n",
       "      <th>7366</th>\n",
       "      <td>(mainland, china)</td>\n",
       "      <td>10.881913</td>\n",
       "      <td>348</td>\n",
       "      <td>3786.905864</td>\n",
       "    </tr>\n",
       "    <tr>\n",
       "      <th>29941</th>\n",
       "      <td>(best, part)</td>\n",
       "      <td>5.940535</td>\n",
       "      <td>631</td>\n",
       "      <td>3748.477715</td>\n",
       "    </tr>\n",
       "    <tr>\n",
       "      <th>30450</th>\n",
       "      <td>(team, lunch)</td>\n",
       "      <td>5.872000</td>\n",
       "      <td>637</td>\n",
       "      <td>3740.464295</td>\n",
       "    </tr>\n",
       "    <tr>\n",
       "      <th>41480</th>\n",
       "      <td>(starters, main)</td>\n",
       "      <td>4.396087</td>\n",
       "      <td>813</td>\n",
       "      <td>3574.018497</td>\n",
       "    </tr>\n",
       "    <tr>\n",
       "      <th>62307</th>\n",
       "      <td>(service, good)</td>\n",
       "      <td>1.878018</td>\n",
       "      <td>1898</td>\n",
       "      <td>3564.478662</td>\n",
       "    </tr>\n",
       "    <tr>\n",
       "      <th>57010</th>\n",
       "      <td>(nice, place)</td>\n",
       "      <td>2.501069</td>\n",
       "      <td>1378</td>\n",
       "      <td>3446.473125</td>\n",
       "    </tr>\n",
       "  </tbody>\n",
       "</table>\n",
       "</div>"
      ],
      "text/plain": [
       "                     word        pmi  freq      pmi_freq\n",
       "21625  (main, course)      7.315299   4386  32084.903169\n",
       "26121  (non, veg)          6.550806   2208  14464.178800\n",
       "15255  (value, money)      8.623057   1328  11451.419477\n",
       "14328  (ice, cream)        8.846442   1156  10226.487351\n",
       "17532  (north, indian)     8.146512   961   7828.798476 \n",
       "14295  (zomato, gold)      8.854444   811   7180.954351 \n",
       "63240  (food, good)        1.770365   3781  6693.748976 \n",
       "32703  (veg, non)          5.528417   1087  6009.389696 \n",
       "33810  (staff, courteous)  5.364342   910   4881.551453 \n",
       "8643   (gulab, jamun)      10.418479  397   4136.136098 \n",
       "9272   (black, pearl)      10.214856  386   3942.934437 \n",
       "19424  (south, indian)     7.752829   505   3915.178418 \n",
       "15048  (dance, floor)      8.667719   451   3909.141304 \n",
       "43182  (lunch, buffet)     4.176208   909   3796.172835 \n",
       "7366   (mainland, china)   10.881913  348   3786.905864 \n",
       "29941  (best, part)        5.940535   631   3748.477715 \n",
       "30450  (team, lunch)       5.872000   637   3740.464295 \n",
       "41480  (starters, main)    4.396087   813   3574.018497 \n",
       "62307  (service, good)     1.878018   1898  3564.478662 \n",
       "57010  (nice, place)       2.501069   1378  3446.473125 "
      ]
     },
     "execution_count": 317,
     "metadata": {},
     "output_type": "execute_result"
    }
   ],
   "source": [
    "positive_bigram.head(20)"
   ]
  },
  {
   "cell_type": "markdown",
   "metadata": {},
   "source": [
    "Using PMI*freq gives a better result. "
   ]
  },
  {
   "cell_type": "markdown",
   "metadata": {},
   "source": [
    "###    Build a model to predict the sentiment of the ratings.\n",
    "\n",
    "Let us use TF-IDF model with bigrams and trigrams as well to predict the sentiment\n"
   ]
  },
  {
   "cell_type": "markdown",
   "metadata": {},
   "source": []
  },
  {
   "cell_type": "code",
   "execution_count": null,
   "metadata": {},
   "outputs": [],
   "source": []
  }
 ],
 "metadata": {
  "kernelspec": {
   "display_name": "Python 3",
   "language": "python",
   "name": "python3"
  },
  "language_info": {
   "codemirror_mode": {
    "name": "ipython",
    "version": 3
   },
   "file_extension": ".py",
   "mimetype": "text/x-python",
   "name": "python",
   "nbconvert_exporter": "python",
   "pygments_lexer": "ipython3",
   "version": "3.6.8"
  },
  "latex_envs": {
   "LaTeX_envs_menu_present": true,
   "autoclose": false,
   "autocomplete": true,
   "bibliofile": "biblio.bib",
   "cite_by": "apalike",
   "current_citInitial": 1,
   "eqLabelWithNumbers": true,
   "eqNumInitial": 1,
   "hotkeys": {
    "equation": "Ctrl-E",
    "itemize": "Ctrl-I"
   },
   "labels_anchors": false,
   "latex_user_defs": false,
   "report_style_numbering": false,
   "user_envs_cfg": false
  },
  "toc": {
   "base_numbering": 1,
   "nav_menu": {},
   "number_sections": true,
   "sideBar": true,
   "skip_h1_title": false,
   "title_cell": "Table of Contents",
   "title_sidebar": "Contents",
   "toc_cell": false,
   "toc_position": {
    "height": "calc(100% - 180px)",
    "left": "10px",
    "top": "150px",
    "width": "382.797px"
   },
   "toc_section_display": true,
   "toc_window_display": false
  }
 },
 "nbformat": 4,
 "nbformat_minor": 2
}
